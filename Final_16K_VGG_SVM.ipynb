{
  "nbformat": 4,
  "nbformat_minor": 0,
  "metadata": {
    "colab": {
      "name": "Final_16K_VGG_SVM.ipynb",
      "provenance": [],
      "collapsed_sections": [],
      "machine_shape": "hm",
      "include_colab_link": true
    },
    "kernelspec": {
      "display_name": "Python 3",
      "name": "python3"
    }
  },
  "cells": [
    {
      "cell_type": "markdown",
      "metadata": {
        "id": "view-in-github",
        "colab_type": "text"
      },
      "source": [
        "<a href=\"https://colab.research.google.com/github/fnavab/APS360-project/blob/main/Final_16K_VGG_SVM.ipynb\" target=\"_parent\"><img src=\"https://colab.research.google.com/assets/colab-badge.svg\" alt=\"Open In Colab\"/></a>"
      ]
    },
    {
      "cell_type": "code",
      "metadata": {
        "id": "c7ylfSVptRz-"
      },
      "source": [
        "#baseline\n",
        "#DORSA\n",
        "# Support Vector Machines\n",
        "import random\n",
        "import torchvision.transforms as transforms\n",
        "import torch\n",
        "import numpy as np\n",
        "import os\n",
        "import torchvision\n",
        "import time\n",
        "from torch.utils.data.sampler import SubsetRandomSampler\n",
        "import matplotlib.pyplot as plt\n",
        "from sklearn.model_selection import train_test_split\n",
        "from sklearn.utils import shuffle\n",
        "from sklearn import svm , metrics\n",
        "\n",
        "\n"
      ],
      "execution_count": null,
      "outputs": []
    },
    {
      "cell_type": "code",
      "metadata": {
        "colab": {
          "base_uri": "https://localhost:8080/"
        },
        "id": "mJkYunPh47gd",
        "outputId": "39abd17e-2f21-45f3-aedd-b7c6209b64d2"
      },
      "source": [
        "\n",
        "#Data loading\n",
        "#mount googledrive\n",
        "from google.colab import drive\n",
        "drive.mount('/content/gdrive')"
      ],
      "execution_count": null,
      "outputs": [
        {
          "output_type": "stream",
          "text": [
            "Mounted at /content/gdrive\n"
          ],
          "name": "stdout"
        }
      ]
    },
    {
      "cell_type": "code",
      "metadata": {
        "id": "SWW5sbYbfx4k"
      },
      "source": [
        "  train_dir = '/content/gdrive/My Drive/16k_vgg_features/train'\n",
        " \n",
        "  train_set = torchvision.datasets.DatasetFolder(train_dir, loader=torch.load, extensions=('.tensor'))\n"
      ],
      "execution_count": null,
      "outputs": []
    },
    {
      "cell_type": "code",
      "metadata": {
        "id": "FZrdaQ7ljIbB"
      },
      "source": [
        "test_dir = '/content/gdrive/My Drive/16k_vgg_features/test'\n",
        "\n",
        "test_set = torchvision.datasets.DatasetFolder(test_dir, loader=torch.load, extensions=('.tensor'))"
      ],
      "execution_count": null,
      "outputs": []
    },
    {
      "cell_type": "code",
      "metadata": {
        "id": "P8jgMD8XjU68"
      },
      "source": [
        "# val_dir = '/content/gdrive/My Drive/16k_vgg_features/val'\n",
        "# val_set= torchvision.datasets.DatasetFolder(val_dir, loader=torch.load, extensions=('.tensor'))\n"
      ],
      "execution_count": null,
      "outputs": []
    },
    {
      "cell_type": "code",
      "metadata": {
        "colab": {
          "base_uri": "https://localhost:8080/"
        },
        "id": "Cp3YwnajjQe1",
        "outputId": "e8d46e5d-c799-4fb9-b758-7a17dc4cb731"
      },
      "source": [
        "len(train_set)\n"
      ],
      "execution_count": null,
      "outputs": [
        {
          "output_type": "execute_result",
          "data": {
            "text/plain": [
              "9004"
            ]
          },
          "metadata": {
            "tags": []
          },
          "execution_count": 7
        }
      ]
    },
    {
      "cell_type": "code",
      "metadata": {
        "colab": {
          "base_uri": "https://localhost:8080/"
        },
        "id": "AMb1w1fejTip",
        "outputId": "aff042fc-2b2c-4409-fe57-12560c3b120e"
      },
      "source": [
        "# len(val_set)"
      ],
      "execution_count": null,
      "outputs": [
        {
          "output_type": "execute_result",
          "data": {
            "text/plain": [
              "2978"
            ]
          },
          "metadata": {
            "tags": []
          },
          "execution_count": 14
        }
      ]
    },
    {
      "cell_type": "code",
      "metadata": {
        "id": "_bSe8mTBx6Lz",
        "colab": {
          "base_uri": "https://localhost:8080/"
        },
        "outputId": "03269fbc-29a1-4878-dd0e-8ac95198c694"
      },
      "source": [
        "len(test_set)"
      ],
      "execution_count": null,
      "outputs": [
        {
          "output_type": "execute_result",
          "data": {
            "text/plain": [
              "3018"
            ]
          },
          "metadata": {
            "tags": []
          },
          "execution_count": 8
        }
      ]
    },
    {
      "cell_type": "code",
      "metadata": {
        "id": "8DJyiLHwsGqq"
      },
      "source": [
        "X_test = np.array([x.detach().numpy() for x,_ in test_set])\n",
        "y_test= np.array([y for _,y in test_set])\n",
        "n_samples=len(test_set)\n",
        "X_test = X_test.reshape((n_samples, -1))\n",
        "\n",
        "# X_test = X.reshape(X.shape[1]*X.shape[2]*X.shape[3],X.shape[0]).T\n",
        "# y_test = y.reshape(y.shape[0],)"
      ],
      "execution_count": null,
      "outputs": []
    },
    {
      "cell_type": "code",
      "metadata": {
        "colab": {
          "base_uri": "https://localhost:8080/"
        },
        "id": "3y3Td2oKyT68",
        "outputId": "fe7e8414-ae5b-4395-b047-47e24e0df16b"
      },
      "source": [
        "print(X_test.shape)\n",
        "print(y_test.shape)"
      ],
      "execution_count": null,
      "outputs": [
        {
          "output_type": "stream",
          "text": [
            "(3018, 41472)\n",
            "(3018,)\n"
          ],
          "name": "stdout"
        }
      ]
    },
    {
      "cell_type": "code",
      "metadata": {
        "id": "eJ3T6meLvP57"
      },
      "source": [
        "#2hours\n",
        "X_train = np.array([x.detach().numpy() for x,_ in train_set])\n",
        "y_train= np.array([y for _,y in train_set])\n",
        "\n",
        "n_samples=len(train_set)\n",
        "X_train = X_train.reshape((n_samples, -1))\n"
      ],
      "execution_count": null,
      "outputs": []
    },
    {
      "cell_type": "code",
      "metadata": {
        "colab": {
          "base_uri": "https://localhost:8080/"
        },
        "id": "qA-movAlgYfh",
        "outputId": "cb6cf2a7-4694-4ce6-fadc-ecae9d8728a4"
      },
      "source": [
        "print(X_train.shape)"
      ],
      "execution_count": null,
      "outputs": [
        {
          "output_type": "stream",
          "text": [
            "(9004, 41472)\n"
          ],
          "name": "stdout"
        }
      ]
    },
    {
      "cell_type": "code",
      "metadata": {
        "id": "eCi0J7cpKXKl"
      },
      "source": [
        "X_val = np.array([x.detach().numpy() for x,_ in val_set])\n",
        "y_val= np.array([y for _,y in val_set])\n",
        "\n",
        "n_samples=len(val_set)\n",
        "X_val = X_val.reshape((n_samples, -1))\n",
        "\n",
        "# X_val = X_val.reshape(X_val.shape[1]*X_val.shape[2]*X_val.shape[3],X_val.shape[0]).T\n",
        "# y_val= y_val.reshape(y_val.shape[0],)"
      ],
      "execution_count": null,
      "outputs": []
    },
    {
      "cell_type": "code",
      "metadata": {
        "id": "bNskcIIvP5AB"
      },
      "source": [
        "model=svm.SVC(C=1, cache_size=500, class_weight=None, coef0=0.0,\n",
        "   decision_function_shape='ovr', degree=3, gamma='scale', kernel='rbf',\n",
        "   max_iter=-1, probability=False, random_state=None, shrinking=True,\n",
        "   tol=0.001, verbose=False) "
      ],
      "execution_count": null,
      "outputs": []
    },
    {
      "cell_type": "code",
      "metadata": {
        "id": "jFZMrzQjr1Fl",
        "colab": {
          "base_uri": "https://localhost:8080/"
        },
        "outputId": "0c02967b-a566-42aa-943e-5df8266a17d9"
      },
      "source": [
        "#TRAIN\n",
        "# Fit the model to our training data\n",
        "import time\n",
        "t1= time.time()\n",
        "classifier=model.fit(X_train, y_train)\n",
        "t2=time.time()-t1\n",
        "print(\"training time is\" ,t2)\n",
        "\n"
      ],
      "execution_count": null,
      "outputs": [
        {
          "output_type": "stream",
          "text": [
            "training time is 4146.312613725662\n"
          ],
          "name": "stdout"
        }
      ]
    },
    {
      "cell_type": "code",
      "metadata": {
        "colab": {
          "base_uri": "https://localhost:8080/",
          "height": 232
        },
        "id": "iUjbX_51mY3c",
        "outputId": "6fb21b8e-0d8d-4afb-8288-59467154c1f0"
      },
      "source": [
        "# from joblib import dump, load\n",
        "# m=dump(classifier, 'model1.joblib') \n",
        "# clf = load('filename.joblib')"
      ],
      "execution_count": null,
      "outputs": [
        {
          "output_type": "error",
          "ename": "NameError",
          "evalue": "ignored",
          "traceback": [
            "\u001b[0;31m---------------------------------------------------------------------------\u001b[0m",
            "\u001b[0;31mNameError\u001b[0m                                 Traceback (most recent call last)",
            "\u001b[0;32m<ipython-input-2-5a1d7fb8b057>\u001b[0m in \u001b[0;36m<module>\u001b[0;34m()\u001b[0m\n\u001b[1;32m      1\u001b[0m \u001b[0;32mfrom\u001b[0m \u001b[0mjoblib\u001b[0m \u001b[0;32mimport\u001b[0m \u001b[0mdump\u001b[0m\u001b[0;34m,\u001b[0m \u001b[0mload\u001b[0m\u001b[0;34m\u001b[0m\u001b[0;34m\u001b[0m\u001b[0m\n\u001b[0;32m----> 2\u001b[0;31m \u001b[0mm\u001b[0m\u001b[0;34m=\u001b[0m\u001b[0mdump\u001b[0m\u001b[0;34m(\u001b[0m\u001b[0mclassifier\u001b[0m\u001b[0;34m,\u001b[0m \u001b[0;34m'model1.joblib'\u001b[0m\u001b[0;34m)\u001b[0m\u001b[0;34m\u001b[0m\u001b[0;34m\u001b[0m\u001b[0m\n\u001b[0m\u001b[1;32m      3\u001b[0m \u001b[0mclf\u001b[0m \u001b[0;34m=\u001b[0m \u001b[0mload\u001b[0m\u001b[0;34m(\u001b[0m\u001b[0;34m'filename.joblib'\u001b[0m\u001b[0;34m)\u001b[0m\u001b[0;34m\u001b[0m\u001b[0;34m\u001b[0m\u001b[0m\n",
            "\u001b[0;31mNameError\u001b[0m: name 'classifier' is not defined"
          ]
        }
      ]
    },
    {
      "cell_type": "code",
      "metadata": {
        "id": "k0fiD8KUJMHH"
      },
      "source": [
        "# Make predictions\n",
        " val_pred = model.predict(X_val)"
      ],
      "execution_count": null,
      "outputs": []
    },
    {
      "cell_type": "code",
      "metadata": {
        "id": "9UFD59mq-9yv"
      },
      "source": [
        "\n",
        "def accuracy_score(x,y):\n",
        "\n",
        "  score=0\n",
        "  for i in range(len(x)):\n",
        "    if x[i]==y[i]: \n",
        "      score+=1\n",
        "\n",
        "  return score/len(x)"
      ],
      "execution_count": null,
      "outputs": []
    },
    {
      "cell_type": "code",
      "metadata": {
        "id": "08YlPZhlR161"
      },
      "source": [
        "\n",
        "score=accuracy_score(val_pred,y_val)\n",
        "print(\"SVM VAL:\", score)"
      ],
      "execution_count": null,
      "outputs": []
    },
    {
      "cell_type": "code",
      "metadata": {
        "id": "kQwwRJPiYnXr"
      },
      "source": [
        "from sklearn.metrics import plot_confusion_matrix\n",
        "# Run classifier, using a model that is too regularized (C too low) to see\n",
        "# the impact on the results\n",
        "\n",
        "# class_names=[0,1,2,3,4,5,6,7]\n",
        "np.set_printoptions(precision=2)\n",
        "class_names=[\"shirt\", \"Jeans\", \"Lounge Pants\", \"Shorts\", \"Skirt\", \"Sweater\", \"Dress\", \"Jacket\"]\n",
        "# Plot non-normalized confusion matrix\n",
        "titles_options = [(\"Confusion matrix, without normalization\", None),\n",
        "                  (\"Normalized confusion matrix\", 'true')]\n",
        "plt.rc('figure', figsize=(8, 8))\n",
        "for title, normalize in titles_options:\n",
        "    disp = plot_confusion_matrix(classifier, X_val, y_val,\n",
        "                                 display_labels=class_names,\n",
        "                                 cmap=plt.cm.Blues,\n",
        "                                 normalize=normalize)\n",
        "    disp.ax_.set_title(title)\n",
        "\n",
        "    print(title)\n",
        "    print(disp.confusion_matrix)\n",
        "\n",
        "plt.show()\n"
      ],
      "execution_count": null,
      "outputs": []
    },
    {
      "cell_type": "code",
      "metadata": {
        "id": "9iIdRe5tbAhk"
      },
      "source": [
        "testing_predicted= model.predict(X_test)\n"
      ],
      "execution_count": null,
      "outputs": []
    },
    {
      "cell_type": "code",
      "metadata": {
        "colab": {
          "base_uri": "https://localhost:8080/"
        },
        "id": "tKfpUy_07Yw2",
        "outputId": "03fb9f28-b2fc-4dd5-ee56-78b89e06aa68"
      },
      "source": [
        "score=accuracy_score(testing_predicted,y_test)\n",
        "print(\"SVM Test: \", score)"
      ],
      "execution_count": null,
      "outputs": [
        {
          "output_type": "stream",
          "text": [
            "SVM Test:  0.7581179589131876\n"
          ],
          "name": "stdout"
        }
      ]
    },
    {
      "cell_type": "code",
      "metadata": {
        "colab": {
          "base_uri": "https://localhost:8080/",
          "height": 879
        },
        "id": "KB8CLoNJ23Bq",
        "outputId": "454c6879-550a-42f9-d6cb-2be9af4269ea"
      },
      "source": [
        "from sklearn.metrics import plot_confusion_matrix\n",
        "# Run classifier, using a model that is too regularized (C too low) to see\n",
        "# the impact on the results\n",
        "\n",
        "class_names=[0,1,2,3,4,5,6,7]\n",
        "np.set_printoptions(precision=2)\n",
        "\n",
        "# Plot non-normalized confusion matrix\n",
        "titles_options = [(\"Confusion matrix, without normalization\", None),\n",
        "                  (\"Normalized confusion matrix\", 'true')]\n",
        "for title, normalize in titles_options:\n",
        "    disp = plot_confusion_matrix(classifier, X_test, y_test,\n",
        "                                 display_labels=class_names,\n",
        "                                 cmap=plt.cm.Blues,\n",
        "                                 normalize=normalize)\n",
        "    disp.ax_.set_title(title)\n",
        "\n",
        "    print(title)\n",
        "    print(disp.confusion_matrix)\n",
        "\n",
        "plt.show()\n"
      ],
      "execution_count": null,
      "outputs": [
        {
          "output_type": "stream",
          "text": [
            "Confusion matrix, without normalization\n",
            "[[339  12   5   1  15   1   9   8]\n",
            " [ 13 282   1   3  24   5  11  36]\n",
            " [  3   3 267  83   1  18   6   0]\n",
            " [  0   0  46 288   0  14  22   2]\n",
            " [ 11  25   0   1 257  10   7  48]\n",
            " [  2   5  10  17   1 314  48   3]\n",
            " [  2   3   8   7   3  73 269   1]\n",
            " [ 12  43   0   2  38   4   4 272]]\n",
            "Normalized confusion matrix\n",
            "[[0.87 0.03 0.01 0.   0.04 0.   0.02 0.02]\n",
            " [0.03 0.75 0.   0.01 0.06 0.01 0.03 0.1 ]\n",
            " [0.01 0.01 0.7  0.22 0.   0.05 0.02 0.  ]\n",
            " [0.   0.   0.12 0.77 0.   0.04 0.06 0.01]\n",
            " [0.03 0.07 0.   0.   0.72 0.03 0.02 0.13]\n",
            " [0.01 0.01 0.03 0.04 0.   0.79 0.12 0.01]\n",
            " [0.01 0.01 0.02 0.02 0.01 0.2  0.73 0.  ]\n",
            " [0.03 0.11 0.   0.01 0.1  0.01 0.01 0.73]]\n"
          ],
          "name": "stdout"
        },
        {
          "output_type": "display_data",
          "data": {
            "image/png": "[encoded data removed]",
            "text/plain": [
              "<Figure size 432x288 with 2 Axes>"
            ]
          },
          "metadata": {
            "tags": [],
            "needs_background": "light"
          }
        },
        {
          "output_type": "display_data",
          "data": {
            "image/png": "[encoded data removed]",
            "text/plain": [
              "<Figure size 432x288 with 2 Axes>"
            ]
          },
          "metadata": {
            "tags": [],
            "needs_background": "light"
          }
        }
      ]
    },
    {
      "cell_type": "markdown",
      "metadata": {
        "id": "JKmh3oYrWLSr"
      },
      "source": [
        "test model 2"
      ]
    },
    {
      "cell_type": "code",
      "metadata": {
        "id": "mKv-vvC_eims"
      },
      "source": [
        "model2=svm.SVC(C=100, cache_size=800, class_weight=None, coef0=0.0,\n",
        "   decision_function_shape='ovr', degree=3, gamma=0.001, kernel='rbf',\n",
        "   max_iter=-1, probability=False, random_state=None, shrinking=True,\n",
        "   tol=0.001, verbose=False) \n",
        "\n"
      ],
      "execution_count": null,
      "outputs": []
    },
    {
      "cell_type": "code",
      "metadata": {
        "colab": {
          "base_uri": "https://localhost:8080/"
        },
        "id": "CzT1R_meWlde",
        "outputId": "55077eb4-6c3d-48eb-82fa-ccf322ed2133"
      },
      "source": [
        "#TRAIN\n",
        "# Fit the model to our training data\n",
        "import time\n",
        "t1= time.time()\n",
        "classifier2=model2.fit(X_train, y_train)\n",
        "t2=time.time()-t1\n",
        "print(\"Training time is\",t2)\n"
      ],
      "execution_count": null,
      "outputs": [
        {
          "output_type": "stream",
          "text": [
            "Training time is 9767.158377885818\n"
          ],
          "name": "stdout"
        }
      ]
    },
    {
      "cell_type": "code",
      "metadata": {
        "id": "cUwuUbtuWmd_"
      },
      "source": [
        "# Make predictions\n",
        " val_pred = model2.predict(X_val)"
      ],
      "execution_count": null,
      "outputs": []
    },
    {
      "cell_type": "code",
      "metadata": {
        "id": "p48yk3l3WwIT"
      },
      "source": [
        "def accuracy_score(x,y):\n",
        "\n",
        "  score=0\n",
        "  for i in range(len(x)):\n",
        "    if x[i]==y[i]: \n",
        "      score+=1\n",
        "\n",
        "  return score/len(x)"
      ],
      "execution_count": null,
      "outputs": []
    },
    {
      "cell_type": "code",
      "metadata": {
        "id": "sgErCk5JW5M8"
      },
      "source": [
        "score=accuracy_score(val_pred,y_val)\n",
        "print(\"SVM val:\", score)"
      ],
      "execution_count": null,
      "outputs": []
    },
    {
      "cell_type": "code",
      "metadata": {
        "id": "eyIClsV8XAbx"
      },
      "source": [
        "from sklearn.metrics import plot_confusion_matrix\n",
        "# Run classifier, using a model that is too regularized (C too low) to see\n",
        "# the impact on the results\n",
        "\n",
        "class_names=[0,1,2,3,4,5,6,7]\n",
        "np.set_printoptions(precision=2)\n",
        "\n",
        "# Plot non-normalized confusion matrix\n",
        "titles_options = [(\"Confusion matrix, without normalization\", None),\n",
        "                  (\"Normalized confusion matrix\", 'true')]\n",
        "for title, normalize in titles_options:\n",
        "    disp = plot_confusion_matrix(classifier2, X_val, y_val,\n",
        "                                 display_labels=class_names,\n",
        "                                 cmap=plt.cm.Blues,\n",
        "                                 normalize=normalize)\n",
        "    disp.ax_.set_title(title)\n",
        "\n",
        "    print(title)\n",
        "    print(disp.confusion_matrix)\n",
        "\n",
        "plt.show()"
      ],
      "execution_count": null,
      "outputs": []
    },
    {
      "cell_type": "code",
      "metadata": {
        "colab": {
          "base_uri": "https://localhost:8080/",
          "height": 181
        },
        "id": "rPmcXVKNF2qU",
        "outputId": "6b6c6433-cc1b-401a-a5d6-16c378633cd9"
      },
      "source": [
        "# Make predictions\n",
        "testing_predicted = model2.predict(X_test)"
      ],
      "execution_count": null,
      "outputs": [
        {
          "output_type": "error",
          "ename": "NameError",
          "evalue": "ignored",
          "traceback": [
            "\u001b[0;31m---------------------------------------------------------------------------\u001b[0m",
            "\u001b[0;31mNameError\u001b[0m                                 Traceback (most recent call last)",
            "\u001b[0;32m<ipython-input-4-337b9803587c>\u001b[0m in \u001b[0;36m<module>\u001b[0;34m()\u001b[0m\n\u001b[1;32m      1\u001b[0m \u001b[0;31m# Make predictions\u001b[0m\u001b[0;34m\u001b[0m\u001b[0;34m\u001b[0m\u001b[0;34m\u001b[0m\u001b[0m\n\u001b[0;32m----> 2\u001b[0;31m \u001b[0mtesting_predicted\u001b[0m \u001b[0;34m=\u001b[0m \u001b[0mmodel2\u001b[0m\u001b[0;34m.\u001b[0m\u001b[0mpredict\u001b[0m\u001b[0;34m(\u001b[0m\u001b[0mX_test\u001b[0m\u001b[0;34m)\u001b[0m\u001b[0;34m\u001b[0m\u001b[0;34m\u001b[0m\u001b[0m\n\u001b[0m",
            "\u001b[0;31mNameError\u001b[0m: name 'model2' is not defined"
          ]
        }
      ]
    },
    {
      "cell_type": "code",
      "metadata": {
        "colab": {
          "base_uri": "https://localhost:8080/",
          "height": 181
        },
        "id": "lGILm2djXBJL",
        "outputId": "1d8c82ab-7b3e-45db-99b2-e594e5f4027c"
      },
      "source": [
        "score=accuracy_score(testing_predicted,y_test)\n",
        "print(\"SVM Test: \", score)"
      ],
      "execution_count": null,
      "outputs": [
        {
          "output_type": "error",
          "ename": "NameError",
          "evalue": "ignored",
          "traceback": [
            "\u001b[0;31m---------------------------------------------------------------------------\u001b[0m",
            "\u001b[0;31mNameError\u001b[0m                                 Traceback (most recent call last)",
            "\u001b[0;32m<ipython-input-3-71ce53732db0>\u001b[0m in \u001b[0;36m<module>\u001b[0;34m()\u001b[0m\n\u001b[0;32m----> 1\u001b[0;31m \u001b[0mscore\u001b[0m\u001b[0;34m=\u001b[0m\u001b[0maccuracy_score\u001b[0m\u001b[0;34m(\u001b[0m\u001b[0mtesting_predicted\u001b[0m\u001b[0;34m,\u001b[0m\u001b[0my_test\u001b[0m\u001b[0;34m)\u001b[0m\u001b[0;34m\u001b[0m\u001b[0;34m\u001b[0m\u001b[0m\n\u001b[0m\u001b[1;32m      2\u001b[0m \u001b[0mprint\u001b[0m\u001b[0;34m(\u001b[0m\u001b[0;34m\"SVM Test: \"\u001b[0m\u001b[0;34m,\u001b[0m \u001b[0mscore\u001b[0m\u001b[0;34m)\u001b[0m\u001b[0;34m\u001b[0m\u001b[0;34m\u001b[0m\u001b[0m\n",
            "\u001b[0;31mNameError\u001b[0m: name 'testing_predicted' is not defined"
          ]
        }
      ]
    },
    {
      "cell_type": "code",
      "metadata": {
        "id": "q1s6HPruABuK"
      },
      "source": [
        "from sklearn.metrics import plot_confusion_matrix\n",
        "# Run classifier, using a model that is too regularized (C too low) to see\n",
        "# the impact on the results\n",
        "#val_pred = model.predict(X_val)\n",
        "class_names=[0,1,2,3,4,5,6,7]\n",
        "np.set_printoptions(precision=2)\n",
        "\n",
        "# Plot non-normalized confusion matrix\n",
        "titles_options = [(\"Confusion matrix, without normalization\", None),\n",
        "                  (\"Normalized confusion matrix\", 'true')]\n",
        "for title, normalize in titles_options:\n",
        "    disp = plot_confusion_matrix(classifier2, X_test, y_test,\n",
        "                                 display_labels=class_names,\n",
        "                                 cmap=plt.cm.Blues,\n",
        "                                 normalize=normalize)\n",
        "    disp.ax_.set_title(title)\n",
        "\n",
        "    print(title)\n",
        "    print(disp.confusion_matrix)\n",
        "\n",
        "plt.show()"
      ],
      "execution_count": null,
      "outputs": []
    }
  ]
}