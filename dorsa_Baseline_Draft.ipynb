{
  "nbformat": 4,
  "nbformat_minor": 0,
  "metadata": {
    "colab": {
      "name": "dorsa_Baseline Draft.ipynb",
      "provenance": [],
      "collapsed_sections": [],
      "machine_shape": "hm",
      "include_colab_link": true
    },
    "kernelspec": {
      "display_name": "Python 3",
      "name": "python3"
    }
  },
  "cells": [
    {
      "cell_type": "markdown",
      "metadata": {
        "id": "view-in-github",
        "colab_type": "text"
      },
      "source": [
        "<a href=\"https://colab.research.google.com/github/fnavab/APS360-project/blob/main/dorsa_Baseline_Draft.ipynb\" target=\"_parent\"><img src=\"https://colab.research.google.com/assets/colab-badge.svg\" alt=\"Open In Colab\"/></a>"
      ]
    },
    {
      "cell_type": "code",
      "metadata": {
        "id": "c7ylfSVptRz-"
      },
      "source": [
        "#baseline\n",
        "#DORSA\n",
        "# Support Vector Machines\n",
        "import random\n",
        "import torchvision.transforms as transforms\n",
        "import torch\n",
        "import numpy as np\n",
        "import os\n",
        "import torchvision\n",
        "from torch.utils.data.sampler import SubsetRandomSampler\n",
        "import matplotlib.pyplot as plt\n",
        "from sklearn.model_selection import train_test_split\n",
        "from sklearn.utils import shuffle\n",
        "from sklearn import svm , metrics\n",
        "#To do: check for the range of gamma and C\n",
        "#To do: find\n",
        "# model=svm.SVC(C=100, cache_size=200, class_weight=None, coef0=0.0,\n",
        "#    decision_function_shape='ovr', degree=3, gamma=0.00001, kernel='rbf',\n",
        "#    max_iter=-1, probability=False, random_state=None, shrinking=True,\n",
        "#    tol=0.001, verbose=False) \n",
        "model=svm.SVC(C=1, cache_size=200, class_weight=None, coef0=0.0,\n",
        "   decision_function_shape='ovr', degree=3, gamma='scale', kernel='rbf',\n",
        "   max_iter=-1, probability=False, random_state=None, shrinking=True,\n",
        "   tol=0.001, verbose=False) \n",
        "#model = svm.SVC(gamma=0.01, C=100)\n",
        "# from google.colab import drive\n",
        "# drive.mount('/content/gdrive')\n",
        "# clothing_images=torch.load('/content/gdrive/My Drive/aps360/clothing_imgs.pt')\n",
        "\n",
        "# X = np.array([x.detach().numpy() for x,_ in clothing_images])\n",
        "# y= np.array([y.detach().numpy() for _,y in clothing_images])\n",
        "\n",
        "# print(X.shape)\n",
        "# print(y.shape)\n",
        "# n_samples = len(clothing_images)\n",
        "# #print(n_samples)\n",
        "# X = X.reshape((n_samples, -1))\n",
        "\n",
        "# #X = X.reshape(X.shape[1]*X.shape[2]*X.shape[3],X.shape[0]).T\n",
        "# y = y.reshape(y.shape[0],)\n",
        "\n",
        "# training_data, testing_data, training_labels, testing_labels = train_test_split(\n",
        "#  X, y, random_state=42)\n",
        "\n"
      ],
      "execution_count": null,
      "outputs": []
    },
    {
      "cell_type": "code",
      "metadata": {
        "colab": {
          "base_uri": "https://localhost:8080/"
        },
        "id": "mJkYunPh47gd",
        "outputId": "e62141b0-4c11-46b8-b6c6-beecdf21b4e9"
      },
      "source": [
        "#Fereshteh'\n",
        "#Data loading\n",
        "#mount googledrive\n",
        "from google.colab import drive\n",
        "drive.mount('/content/gdrive')"
      ],
      "execution_count": null,
      "outputs": [
        {
          "output_type": "stream",
          "text": [
            "Mounted at /content/gdrive\n"
          ],
          "name": "stdout"
        }
      ]
    },
    {
      "cell_type": "code",
      "metadata": {
        "id": "SWW5sbYbfx4k"
      },
      "source": [
        "  train_dir = '/content/gdrive/My Drive/combined_features/train'\n",
        "   #test_dir = '/content/gdrive/My Drive/Colab Notebooks/1k-features/test'\n",
        "  # val_dir = '/content/gdrive/My Drive/Colab Notebooks/1k-features/val'\n",
        "  train_set = torchvision.datasets.DatasetFolder(train_dir, loader=torch.load, extensions=('.tensor'))\n",
        "  #train_set=shuffle(train_set)\n",
        "  # val_set= torchvision.datasets.DatasetFolder(val_dir, loader=torch.load, extensions=('.tensor'))\n",
        "  #test_set = torchvision.datasets.DatasetFolder(test_dir, loader=torch.load, extensions=('.tensor'))"
      ],
      "execution_count": null,
      "outputs": []
    },
    {
      "cell_type": "code",
      "metadata": {
        "id": "FZrdaQ7ljIbB"
      },
      "source": [
        "test_dir = '/content/gdrive/My Drive/combined_features/test'\n",
        "\n",
        "test_set = torchvision.datasets.DatasetFolder(test_dir, loader=torch.load, extensions=('.tensor'))"
      ],
      "execution_count": null,
      "outputs": []
    },
    {
      "cell_type": "code",
      "metadata": {
        "id": "P8jgMD8XjU68"
      },
      "source": [
        "val_dir = '/content/gdrive/My Drive/combined_features/val'\n",
        "val_set= torchvision.datasets.DatasetFolder(val_dir, loader=torch.load, extensions=('.tensor'))\n"
      ],
      "execution_count": null,
      "outputs": []
    },
    {
      "cell_type": "code",
      "metadata": {
        "colab": {
          "base_uri": "https://localhost:8080/"
        },
        "id": "Cp3YwnajjQe1",
        "outputId": "7502c5eb-de07-440a-8fba-13f194ca99de"
      },
      "source": [
        "len(train_set)\n",
        "# shuffle(test_set)"
      ],
      "execution_count": null,
      "outputs": [
        {
          "output_type": "execute_result",
          "data": {
            "text/plain": [
              "12169"
            ]
          },
          "metadata": {
            "tags": []
          },
          "execution_count": 10
        }
      ]
    },
    {
      "cell_type": "code",
      "metadata": {
        "colab": {
          "base_uri": "https://localhost:8080/",
          "height": 164
        },
        "id": "AMb1w1fejTip",
        "outputId": "f33d3d5f-f202-4075-f9d0-a7941a3451e6"
      },
      "source": [
        "len(val_set)"
      ],
      "execution_count": null,
      "outputs": [
        {
          "output_type": "error",
          "ename": "NameError",
          "evalue": "ignored",
          "traceback": [
            "\u001b[0;31m---------------------------------------------------------------------------\u001b[0m",
            "\u001b[0;31mNameError\u001b[0m                                 Traceback (most recent call last)",
            "\u001b[0;32m<ipython-input-12-b26fe3212ccf>\u001b[0m in \u001b[0;36m<module>\u001b[0;34m()\u001b[0m\n\u001b[0;32m----> 1\u001b[0;31m \u001b[0mlen\u001b[0m\u001b[0;34m(\u001b[0m\u001b[0mval_set\u001b[0m\u001b[0;34m)\u001b[0m\u001b[0;34m\u001b[0m\u001b[0;34m\u001b[0m\u001b[0m\n\u001b[0m",
            "\u001b[0;31mNameError\u001b[0m: name 'val_set' is not defined"
          ]
        }
      ]
    },
    {
      "cell_type": "code",
      "metadata": {
        "id": "_bSe8mTBx6Lz"
      },
      "source": [
        ""
      ],
      "execution_count": null,
      "outputs": []
    },
    {
      "cell_type": "code",
      "metadata": {
        "colab": {
          "base_uri": "https://localhost:8080/",
          "height": 134
        },
        "id": "Mjwc-vp3szLu",
        "outputId": "6cd92d56-3981-4fdb-8283-af6851997b72"
      },
      "source": [
        "\n",
        "plt.figure(figsize=(200, 200))\n",
        "for k in range(100):\n",
        "  plt.subplot(200, 100, k+1)\n",
        "  #print(img.shape)\n",
        "  plt.imshow(train_set[0][0][k])    "
      ],
      "execution_count": null,
      "outputs": [
        {
          "output_type": "display_data",
          "data": {
            "image/png": "[encoded data removed]",
            "text/plain": [
              "<Figure size 14400x14400 with 100 Axes>"
            ]
          },
          "metadata": {
            "tags": []
          }
        }
      ]
    },
    {
      "cell_type": "code",
      "metadata": {
        "id": "8DJyiLHwsGqq"
      },
      "source": [
        "X_test = np.array([x.detach().numpy() for x,_ in test_set])\n",
        "y_test= np.array([y for _,y in test_set])\n",
        "n_samples=len(test_set)\n",
        "X_test = X_test.reshape((n_samples, -1))\n",
        "\n",
        "# X_test = X.reshape(X.shape[1]*X.shape[2]*X.shape[3],X.shape[0]).T\n",
        "# y_test = y.reshape(y.shape[0],)"
      ],
      "execution_count": null,
      "outputs": []
    },
    {
      "cell_type": "code",
      "metadata": {
        "colab": {
          "base_uri": "https://localhost:8080/",
          "height": 102
        },
        "id": "3y3Td2oKyT68",
        "outputId": "75a6e0ec-1631-406e-91a2-b54eec71eefd"
      },
      "source": [
        "print(X_test.shape)\n",
        "print(y_test.shape)\n",
        "print(y_test[0])\n",
        "plt.figure(figsize=(200, 200))\n",
        "# for k in range(100):\n",
        "# plt.subplot(200, 100, k+1)\n",
        "# plt.imshow(X_test)\n",
        "\n"
      ],
      "execution_count": null,
      "outputs": [
        {
          "output_type": "stream",
          "text": [
            "(1600, 16384)\n",
            "(1600,)\n",
            "0\n",
            "[0. 0. 0. ... 0. 0. 0.]\n"
          ],
          "name": "stdout"
        },
        {
          "output_type": "display_data",
          "data": {
            "text/plain": [
              "<Figure size 14400x14400 with 0 Axes>"
            ]
          },
          "metadata": {
            "tags": []
          }
        }
      ]
    },
    {
      "cell_type": "code",
      "metadata": {
        "id": "eJ3T6meLvP57"
      },
      "source": [
        "#2hours\n",
        "X_train = np.array([x.detach().numpy() for x,_ in train_set])\n",
        "y_train= np.array([y for _,y in train_set])\n",
        "\n",
        "n_samples=len(train_set)\n",
        "X_train = X_train.reshape((n_samples, -1))\n",
        "\n",
        "# X_train = X_train.reshape(X_train.shape[1]*X_train.shape[2]*X_train.shape[3],X_train.shape[0]).T\n",
        "# y_train= y_train.reshape(y_train.shape[0],)"
      ],
      "execution_count": null,
      "outputs": []
    },
    {
      "cell_type": "code",
      "metadata": {
        "id": "eCi0J7cpKXKl"
      },
      "source": [
        "X_val = np.array([x.detach().numpy() for x,_ in val_set])\n",
        "y_val= np.array([y for _,y in val_set])\n",
        "\n",
        "n_samples=len(val_set)\n",
        "X_val = X_val.reshape((n_samples, -1))\n",
        "\n",
        "# X_val = X_val.reshape(X_val.shape[1]*X_val.shape[2]*X_val.shape[3],X_val.shape[0]).T\n",
        "# y_val= y_val.reshape(y_val.shape[0],)"
      ],
      "execution_count": null,
      "outputs": []
    },
    {
      "cell_type": "code",
      "metadata": {
        "id": "jFZMrzQjr1Fl"
      },
      "source": [
        "#1hour\n",
        "# Fit the model to our training data\n",
        "classifier=model.fit(X_train, y_train)\n",
        "\n",
        "# Make predictions\n",
        "testing_predicted = model.predict(X_test)\n",
        "\n",
        "\n"
      ],
      "execution_count": null,
      "outputs": []
    },
    {
      "cell_type": "code",
      "metadata": {
        "id": "9UFD59mq-9yv"
      },
      "source": [
        "#print(\"testing_data\",testing_data)\n",
        "# f = open(\"result.txt\", \"w\")\n",
        "\n",
        "# f.write(\"testing_lables\\n\")\n",
        "# for j in y_test:\n",
        "#   f.write(str(j))\n",
        "# f.write(\"\\ntesting_predicted\\n\")\n",
        "# for j in testing_predicted:\n",
        "#   f.write(str(j))\n",
        "\n",
        "# f.close()\n",
        "# print(\"testing_labels\",y_test)\n",
        "# print(\"testing_predicted\",testing_predicted)\n",
        "#print(\"Confusion matrix:\\n%s\" % metrics.confusion_matrix(testing_data,testing_predicted))\n",
        "def accuracy_score(x,y):\n",
        "  dictt={'0':0,'1':0, '2':0, '3':0, '4':0, '5':0, '6':0, '7':0}\n",
        "  score=0\n",
        "  for i in range(len(x)):\n",
        "    if x[i]==y[i]: \n",
        "      score+=1\n",
        "    # else:\n",
        "    #   if str(x[i]) in dictt:\n",
        "    #     dictt[str(x[i])]+=1\n",
        "      \n",
        "      # print(\"model predicted \",x[i])\n",
        "      # print(\"true label was \",y[i])\n",
        "  return score/len(x)\n",
        "# score=accuracy_score(testing_predicted,y_test)\n",
        "# print(\"SVM Test:\", score)\n"
      ],
      "execution_count": null,
      "outputs": []
    },
    {
      "cell_type": "code",
      "metadata": {
        "id": "08YlPZhlR161"
      },
      "source": [
        "accuracy={\"scale, c=1\":79.5}"
      ],
      "execution_count": null,
      "outputs": []
    },
    {
      "cell_type": "code",
      "metadata": {
        "colab": {
          "base_uri": "https://localhost:8080/",
          "height": 879
        },
        "id": "kQwwRJPiYnXr",
        "outputId": "2a51f4ba-8fdc-4385-923a-8e80b75883cb"
      },
      "source": [
        "from sklearn.metrics import plot_confusion_matrix\n",
        "# Run classifier, using a model that is too regularized (C too low) to see\n",
        "# the impact on the results\n",
        "\n",
        "class_names=[0,1,2,3,4,5,6,7]\n",
        "np.set_printoptions(precision=2)\n",
        "\n",
        "# Plot non-normalized confusion matrix\n",
        "titles_options = [(\"Confusion matrix, without normalization\", None),\n",
        "                  (\"Normalized confusion matrix\", 'true')]\n",
        "for title, normalize in titles_options:\n",
        "    disp = plot_confusion_matrix(classifier, X_test, y_test,\n",
        "                                 display_labels=class_names,\n",
        "                                 cmap=plt.cm.Blues,\n",
        "                                 normalize=normalize)\n",
        "    disp.ax_.set_title(title)\n",
        "\n",
        "    print(title)\n",
        "    print(disp.confusion_matrix)\n",
        "\n",
        "plt.show()"
      ],
      "execution_count": null,
      "outputs": [
        {
          "output_type": "stream",
          "text": [
            "Confusion matrix, without normalization\n",
            "[[341   8   4   3   7   0  12   5]\n",
            " [ 10 308   2   3  10   5  11  25]\n",
            " [  2   2 285  63   0  12  15   0]\n",
            " [  1   1  39 299   1  15  17   2]\n",
            " [ 15  17   0   0 278  11  11  33]\n",
            " [  2   2  10  16   1 328  41   2]\n",
            " [  6   7   6  14   1  54 268   6]\n",
            " [ 11  36   0   2  22   4  12 288]]\n",
            "Normalized confusion matrix\n",
            "[[0.9  0.02 0.01 0.01 0.02 0.   0.03 0.01]\n",
            " [0.03 0.82 0.01 0.01 0.03 0.01 0.03 0.07]\n",
            " [0.01 0.01 0.75 0.17 0.   0.03 0.04 0.  ]\n",
            " [0.   0.   0.1  0.8  0.   0.04 0.05 0.01]\n",
            " [0.04 0.05 0.   0.   0.76 0.03 0.03 0.09]\n",
            " [0.   0.   0.02 0.04 0.   0.82 0.1  0.  ]\n",
            " [0.02 0.02 0.02 0.04 0.   0.15 0.74 0.02]\n",
            " [0.03 0.1  0.   0.01 0.06 0.01 0.03 0.77]]\n"
          ],
          "name": "stdout"
        },
        {
          "output_type": "display_data",
          "data": {
            "image/png": "[encoded data removed]",
            "text/plain": [
              "<Figure size 432x288 with 2 Axes>"
            ]
          },
          "metadata": {
            "tags": []
          }
        },
        {
          "output_type": "display_data",
          "data": {
            "image/png": "[encoded data removed]",
            "text/plain": [
              "<Figure size 432x288 with 2 Axes>"
            ]
          },
          "metadata": {
            "tags": []
          }
        }
      ]
    },
    {
      "cell_type": "code",
      "metadata": {
        "colab": {
          "base_uri": "https://localhost:8080/"
        },
        "id": "9iIdRe5tbAhk",
        "outputId": "5dfda76c-71ff-4dfe-cf24-85f387a568d7"
      },
      "source": [
        "score=accuracy_score(val_pred,y_val)\n",
        "print(\"SVM Test:\", score)"
      ],
      "execution_count": null,
      "outputs": [
        {
          "output_type": "stream",
          "text": [
            "model predicted  2\n",
            "true label was  0\n",
            "model predicted  1\n",
            "true label was  0\n",
            "model predicted  6\n",
            "true label was  0\n",
            "model predicted  1\n",
            "true label was  0\n",
            "model predicted  1\n",
            "true label was  0\n",
            "model predicted  1\n",
            "true label was  0\n",
            "model predicted  6\n",
            "true label was  0\n",
            "model predicted  0\n",
            "true label was  1\n",
            "model predicted  7\n",
            "true label was  1\n",
            "model predicted  7\n",
            "true label was  1\n",
            "model predicted  7\n",
            "true label was  1\n",
            "model predicted  5\n",
            "true label was  1\n",
            "model predicted  5\n",
            "true label was  1\n",
            "model predicted  5\n",
            "true label was  1\n",
            "model predicted  3\n",
            "true label was  1\n",
            "model predicted  0\n",
            "true label was  1\n",
            "model predicted  4\n",
            "true label was  1\n",
            "model predicted  7\n",
            "true label was  1\n",
            "model predicted  0\n",
            "true label was  1\n",
            "model predicted  7\n",
            "true label was  1\n",
            "model predicted  7\n",
            "true label was  1\n",
            "model predicted  0\n",
            "true label was  1\n",
            "model predicted  7\n",
            "true label was  1\n",
            "model predicted  7\n",
            "true label was  1\n",
            "model predicted  6\n",
            "true label was  1\n",
            "model predicted  2\n",
            "true label was  1\n",
            "model predicted  0\n",
            "true label was  1\n",
            "model predicted  0\n",
            "true label was  1\n",
            "model predicted  7\n",
            "true label was  1\n",
            "model predicted  3\n",
            "true label was  2\n",
            "model predicted  3\n",
            "true label was  2\n",
            "model predicted  5\n",
            "true label was  2\n",
            "model predicted  3\n",
            "true label was  2\n",
            "model predicted  3\n",
            "true label was  2\n",
            "model predicted  3\n",
            "true label was  2\n",
            "model predicted  3\n",
            "true label was  2\n",
            "model predicted  3\n",
            "true label was  2\n",
            "model predicted  3\n",
            "true label was  2\n",
            "model predicted  3\n",
            "true label was  2\n",
            "model predicted  5\n",
            "true label was  2\n",
            "model predicted  3\n",
            "true label was  2\n",
            "model predicted  3\n",
            "true label was  2\n",
            "model predicted  3\n",
            "true label was  2\n",
            "model predicted  3\n",
            "true label was  2\n",
            "model predicted  5\n",
            "true label was  2\n",
            "model predicted  3\n",
            "true label was  2\n",
            "model predicted  3\n",
            "true label was  2\n",
            "model predicted  3\n",
            "true label was  2\n",
            "model predicted  3\n",
            "true label was  2\n",
            "model predicted  3\n",
            "true label was  2\n",
            "model predicted  3\n",
            "true label was  2\n",
            "model predicted  3\n",
            "true label was  2\n",
            "model predicted  3\n",
            "true label was  2\n",
            "model predicted  6\n",
            "true label was  2\n",
            "model predicted  3\n",
            "true label was  2\n",
            "model predicted  5\n",
            "true label was  2\n",
            "model predicted  6\n",
            "true label was  3\n",
            "model predicted  1\n",
            "true label was  3\n",
            "model predicted  2\n",
            "true label was  3\n",
            "model predicted  2\n",
            "true label was  3\n",
            "model predicted  2\n",
            "true label was  3\n",
            "model predicted  2\n",
            "true label was  3\n",
            "model predicted  5\n",
            "true label was  3\n",
            "model predicted  2\n",
            "true label was  3\n",
            "model predicted  2\n",
            "true label was  3\n",
            "model predicted  2\n",
            "true label was  3\n",
            "model predicted  2\n",
            "true label was  3\n",
            "model predicted  5\n",
            "true label was  3\n",
            "model predicted  2\n",
            "true label was  3\n",
            "model predicted  2\n",
            "true label was  3\n",
            "model predicted  5\n",
            "true label was  3\n",
            "model predicted  2\n",
            "true label was  3\n",
            "model predicted  2\n",
            "true label was  3\n",
            "model predicted  5\n",
            "true label was  3\n",
            "model predicted  2\n",
            "true label was  3\n",
            "model predicted  6\n",
            "true label was  3\n",
            "model predicted  6\n",
            "true label was  3\n",
            "model predicted  2\n",
            "true label was  3\n",
            "model predicted  6\n",
            "true label was  3\n",
            "model predicted  2\n",
            "true label was  3\n",
            "model predicted  2\n",
            "true label was  3\n",
            "model predicted  2\n",
            "true label was  3\n",
            "model predicted  5\n",
            "true label was  3\n",
            "model predicted  2\n",
            "true label was  3\n",
            "model predicted  2\n",
            "true label was  3\n",
            "model predicted  6\n",
            "true label was  3\n",
            "model predicted  5\n",
            "true label was  3\n",
            "model predicted  2\n",
            "true label was  3\n",
            "model predicted  1\n",
            "true label was  3\n",
            "model predicted  2\n",
            "true label was  3\n",
            "model predicted  2\n",
            "true label was  3\n",
            "model predicted  2\n",
            "true label was  3\n",
            "model predicted  2\n",
            "true label was  3\n",
            "model predicted  2\n",
            "true label was  3\n",
            "model predicted  2\n",
            "true label was  3\n",
            "model predicted  2\n",
            "true label was  3\n",
            "model predicted  2\n",
            "true label was  3\n",
            "model predicted  5\n",
            "true label was  4\n",
            "model predicted  1\n",
            "true label was  4\n",
            "model predicted  2\n",
            "true label was  4\n",
            "model predicted  0\n",
            "true label was  4\n",
            "model predicted  2\n",
            "true label was  4\n",
            "model predicted  7\n",
            "true label was  4\n",
            "model predicted  2\n",
            "true label was  4\n",
            "model predicted  7\n",
            "true label was  4\n",
            "model predicted  7\n",
            "true label was  4\n",
            "model predicted  0\n",
            "true label was  4\n",
            "model predicted  0\n",
            "true label was  4\n",
            "model predicted  1\n",
            "true label was  4\n",
            "model predicted  1\n",
            "true label was  4\n",
            "model predicted  7\n",
            "true label was  4\n",
            "model predicted  1\n",
            "true label was  4\n",
            "model predicted  7\n",
            "true label was  4\n",
            "model predicted  7\n",
            "true label was  4\n",
            "model predicted  7\n",
            "true label was  4\n",
            "model predicted  1\n",
            "true label was  4\n",
            "model predicted  1\n",
            "true label was  4\n",
            "model predicted  1\n",
            "true label was  4\n",
            "model predicted  6\n",
            "true label was  4\n",
            "model predicted  0\n",
            "true label was  4\n",
            "model predicted  7\n",
            "true label was  4\n",
            "model predicted  5\n",
            "true label was  4\n",
            "model predicted  5\n",
            "true label was  4\n",
            "model predicted  6\n",
            "true label was  4\n",
            "model predicted  1\n",
            "true label was  4\n",
            "model predicted  7\n",
            "true label was  4\n",
            "model predicted  0\n",
            "true label was  4\n",
            "model predicted  7\n",
            "true label was  4\n",
            "model predicted  6\n",
            "true label was  4\n",
            "model predicted  6\n",
            "true label was  4\n",
            "model predicted  6\n",
            "true label was  4\n",
            "model predicted  5\n",
            "true label was  4\n",
            "model predicted  1\n",
            "true label was  4\n",
            "model predicted  7\n",
            "true label was  4\n",
            "model predicted  2\n",
            "true label was  5\n",
            "model predicted  6\n",
            "true label was  5\n",
            "model predicted  6\n",
            "true label was  5\n",
            "model predicted  3\n",
            "true label was  5\n",
            "model predicted  6\n",
            "true label was  5\n",
            "model predicted  3\n",
            "true label was  5\n",
            "model predicted  6\n",
            "true label was  5\n",
            "model predicted  3\n",
            "true label was  5\n",
            "model predicted  2\n",
            "true label was  5\n",
            "model predicted  6\n",
            "true label was  5\n",
            "model predicted  6\n",
            "true label was  5\n",
            "model predicted  2\n",
            "true label was  5\n",
            "model predicted  3\n",
            "true label was  5\n",
            "model predicted  3\n",
            "true label was  5\n",
            "model predicted  2\n",
            "true label was  5\n",
            "model predicted  6\n",
            "true label was  5\n",
            "model predicted  6\n",
            "true label was  5\n",
            "model predicted  6\n",
            "true label was  5\n",
            "model predicted  2\n",
            "true label was  5\n",
            "model predicted  6\n",
            "true label was  5\n",
            "model predicted  6\n",
            "true label was  5\n",
            "model predicted  7\n",
            "true label was  5\n",
            "model predicted  3\n",
            "true label was  5\n",
            "model predicted  5\n",
            "true label was  6\n",
            "model predicted  5\n",
            "true label was  6\n",
            "model predicted  3\n",
            "true label was  6\n",
            "model predicted  5\n",
            "true label was  6\n",
            "model predicted  5\n",
            "true label was  6\n",
            "model predicted  1\n",
            "true label was  6\n",
            "model predicted  5\n",
            "true label was  6\n",
            "model predicted  5\n",
            "true label was  6\n",
            "model predicted  5\n",
            "true label was  6\n",
            "model predicted  5\n",
            "true label was  6\n",
            "model predicted  5\n",
            "true label was  6\n",
            "model predicted  0\n",
            "true label was  6\n",
            "model predicted  5\n",
            "true label was  6\n",
            "model predicted  5\n",
            "true label was  6\n",
            "model predicted  5\n",
            "true label was  6\n",
            "model predicted  2\n",
            "true label was  6\n",
            "model predicted  5\n",
            "true label was  6\n",
            "model predicted  3\n",
            "true label was  6\n",
            "model predicted  5\n",
            "true label was  6\n",
            "model predicted  5\n",
            "true label was  6\n",
            "model predicted  5\n",
            "true label was  6\n",
            "model predicted  5\n",
            "true label was  6\n",
            "model predicted  3\n",
            "true label was  6\n",
            "model predicted  5\n",
            "true label was  6\n",
            "model predicted  5\n",
            "true label was  6\n",
            "model predicted  5\n",
            "true label was  6\n",
            "model predicted  5\n",
            "true label was  6\n",
            "model predicted  3\n",
            "true label was  6\n",
            "model predicted  3\n",
            "true label was  6\n",
            "model predicted  5\n",
            "true label was  6\n",
            "model predicted  5\n",
            "true label was  6\n",
            "model predicted  5\n",
            "true label was  6\n",
            "model predicted  0\n",
            "true label was  6\n",
            "model predicted  1\n",
            "true label was  6\n",
            "model predicted  5\n",
            "true label was  6\n",
            "model predicted  1\n",
            "true label was  6\n",
            "model predicted  0\n",
            "true label was  7\n",
            "model predicted  4\n",
            "true label was  7\n",
            "model predicted  1\n",
            "true label was  7\n",
            "model predicted  4\n",
            "true label was  7\n",
            "model predicted  0\n",
            "true label was  7\n",
            "model predicted  3\n",
            "true label was  7\n",
            "model predicted  4\n",
            "true label was  7\n",
            "model predicted  2\n",
            "true label was  7\n",
            "model predicted  1\n",
            "true label was  7\n",
            "model predicted  1\n",
            "true label was  7\n",
            "model predicted  4\n",
            "true label was  7\n",
            "model predicted  1\n",
            "true label was  7\n",
            "model predicted  1\n",
            "true label was  7\n",
            "model predicted  1\n",
            "true label was  7\n",
            "model predicted  0\n",
            "true label was  7\n",
            "model predicted  6\n",
            "true label was  7\n",
            "model predicted  4\n",
            "true label was  7\n",
            "model predicted  1\n",
            "true label was  7\n",
            "model predicted  1\n",
            "true label was  7\n",
            "model predicted  1\n",
            "true label was  7\n",
            "model predicted  6\n",
            "true label was  7\n",
            "model predicted  1\n",
            "true label was  7\n",
            "model predicted  0\n",
            "true label was  7\n",
            "model predicted  1\n",
            "true label was  7\n",
            "model predicted  1\n",
            "true label was  7\n",
            "model predicted  1\n",
            "true label was  7\n",
            "SVM Test: 0.863125\n"
          ],
          "name": "stdout"
        }
      ]
    },
    {
      "cell_type": "code",
      "metadata": {
        "colab": {
          "base_uri": "https://localhost:8080/",
          "height": 879
        },
        "id": "KB8CLoNJ23Bq",
        "outputId": "b740eeaf-8f18-41c6-81dd-e915f314a51e"
      },
      "source": [
        "\n",
        "from sklearn.metrics import plot_confusion_matrix\n",
        "# Run classifier, using a model that is too regularized (C too low) to see\n",
        "# the impact on the results\n",
        "val_pred = model.predict(X_val)\n",
        "class_names=[0,1,2,3,4,5,6,7]\n",
        "np.set_printoptions(precision=2)\n",
        "\n",
        "# Plot non-normalized confusion matrix\n",
        "titles_options = [(\"Confusion matrix, without normalization\", None),\n",
        "                  (\"Normalized confusion matrix\", 'true')]\n",
        "for title, normalize in titles_options:\n",
        "    disp = plot_confusion_matrix(classifier, X_val, y_val,\n",
        "                                 display_labels=class_names,\n",
        "                                 cmap=plt.cm.Blues,\n",
        "                                 normalize=normalize)\n",
        "    disp.ax_.set_title(title)\n",
        "\n",
        "    print(title)\n",
        "    print(disp.confusion_matrix)\n",
        "\n",
        "plt.show()"
      ],
      "execution_count": null,
      "outputs": [
        {
          "output_type": "stream",
          "text": [
            "Confusion matrix, without normalization\n",
            "[[193   4   1   0   0   0   2   0]\n",
            " [  6 180   1   1   1   3   1   9]\n",
            " [  0   0 174  22   0   4   1   0]\n",
            " [  0   2  28 153   0   6   5   0]\n",
            " [  5   9   3   0 165   4   5  11]\n",
            " [  0   0   5   6   0 159  11   1]\n",
            " [  2   3   1   5   0  25 173   0]\n",
            " [  4  13   1   1   5   0   2 184]]\n",
            "Normalized confusion matrix\n",
            "[[0.96 0.02 0.01 0.   0.   0.   0.01 0.  ]\n",
            " [0.03 0.89 0.   0.   0.   0.01 0.   0.04]\n",
            " [0.   0.   0.87 0.11 0.   0.02 0.   0.  ]\n",
            " [0.   0.01 0.14 0.79 0.   0.03 0.03 0.  ]\n",
            " [0.02 0.04 0.01 0.   0.82 0.02 0.02 0.05]\n",
            " [0.   0.   0.03 0.03 0.   0.87 0.06 0.01]\n",
            " [0.01 0.01 0.   0.02 0.   0.12 0.83 0.  ]\n",
            " [0.02 0.06 0.   0.   0.02 0.   0.01 0.88]]\n"
          ],
          "name": "stdout"
        },
        {
          "output_type": "display_data",
          "data": {
            "image/png": "[encoded data removed]",
            "text/plain": [
              "<Figure size 432x288 with 2 Axes>"
            ]
          },
          "metadata": {
            "tags": []
          }
        },
        {
          "output_type": "display_data",
          "data": {
            "image/png": "[encoded data removed]",
            "text/plain": [
              "<Figure size 432x288 with 2 Axes>"
            ]
          },
          "metadata": {
            "tags": []
          }
        }
      ]
    },
    {
      "cell_type": "code",
      "metadata": {
        "id": "mkP0jQH_QuE9"
      },
      "source": [
        "from sklearn.metrics import plot_confusion_matrix\n",
        "# Run classifier, using a model that is too regularized (C too low) to see\n",
        "# the impact on the results\n",
        "val_pred = model.predict(X_val)\n",
        "class_names=[0,1,2,3,4,5,6,7]\n",
        "np.set_printoptions(precision=2)\n",
        "\n",
        "# Plot non-normalized confusion matrix\n",
        "titles_options = [(\"Confusion matrix, without normalization\", None),\n",
        "                  (\"Normalized confusion matrix\", 'true')]\n",
        "for title, normalize in titles_options:\n",
        "    disp = plot_confusion_matrix(classifier, X_val, y_val,\n",
        "                                 display_labels=class_names,\n",
        "                                 cmap=plt.cm.Blues,\n",
        "                                 normalize=normalize)\n",
        "    disp.ax_.set_title(title)\n",
        "\n",
        "    print(title)\n",
        "    print(disp.confusion_matrix)\n",
        "\n",
        "plt.show()"
      ],
      "execution_count": null,
      "outputs": []
    },
    {
      "cell_type": "code",
      "metadata": {
        "colab": {
          "base_uri": "https://localhost:8080/"
        },
        "id": "mKv-vvC_eims",
        "outputId": "2b130adf-dce6-49de-f705-4e2cec5aef2e"
      },
      "source": [
        "model=svm.SVC(C=100, cache_size=200, class_weight=None, coef0=0.0,\n",
        "   decision_function_shape='ovr', degree=3, gamma=0.001, kernel='rbf',\n",
        "   max_iter=-1, probability=False, random_state=None, shrinking=True,\n",
        "   tol=0.001, verbose=False) \n",
        "# Fit the model to our training data\n",
        "classifier=model.fit(X_train, y_train)\n",
        "\n",
        "# Make predictions\n",
        "testing_predicted = model.predict(X_test)\n",
        "score=accuracy_score(testing_predicted,y_test)\n",
        "print(\"SVM Test:\", score)\n"
      ],
      "execution_count": null,
      "outputs": [
        {
          "output_type": "stream",
          "text": [
            "SVM Test: 0.748339973439575\n"
          ],
          "name": "stdout"
        }
      ]
    },
    {
      "cell_type": "code",
      "metadata": {
        "colab": {
          "base_uri": "https://localhost:8080/",
          "height": 215
        },
        "id": "q1s6HPruABuK",
        "outputId": "8974edac-0ee5-4771-d0b3-5b487459f203"
      },
      "source": [
        "from sklearn.metrics import plot_confusion_matrix\n",
        "# Run classifier, using a model that is too regularized (C too low) to see\n",
        "# the impact on the results\n",
        "#val_pred = model.predict(X_val)\n",
        "class_names=[0,1,2,3,4,5,6,7]\n",
        "np.set_printoptions(precision=2)\n",
        "\n",
        "# Plot non-normalized confusion matrix\n",
        "titles_options = [(\"Confusion matrix, without normalization\", None),\n",
        "                  (\"Normalized confusion matrix\", 'true')]\n",
        "for title, normalize in titles_options:\n",
        "    disp = plot_confusion_matrix(classifier, X_test, y_test,\n",
        "                                 display_labels=class_names,\n",
        "                                 cmap=plt.cm.Blues,\n",
        "                                 normalize=normalize)\n",
        "    disp.ax_.set_title(title)\n",
        "\n",
        "    print(title)\n",
        "    print(disp.confusion_matrix)\n",
        "\n",
        "plt.show()"
      ],
      "execution_count": null,
      "outputs": [
        {
          "output_type": "error",
          "ename": "NameError",
          "evalue": "ignored",
          "traceback": [
            "\u001b[0;31m---------------------------------------------------------------------------\u001b[0m",
            "\u001b[0;31mNameError\u001b[0m                                 Traceback (most recent call last)",
            "\u001b[0;32m<ipython-input-4-b49b6ad07ea8>\u001b[0m in \u001b[0;36m<module>\u001b[0;34m()\u001b[0m\n\u001b[0;32m----> 1\u001b[0;31m \u001b[0mscore\u001b[0m\u001b[0;34m=\u001b[0m\u001b[0maccuracy_score\u001b[0m\u001b[0;34m(\u001b[0m\u001b[0mtesting_predicted\u001b[0m\u001b[0;34m,\u001b[0m\u001b[0my_test\u001b[0m\u001b[0;34m)\u001b[0m\u001b[0;34m\u001b[0m\u001b[0;34m\u001b[0m\u001b[0m\n\u001b[0m\u001b[1;32m      2\u001b[0m \u001b[0mprint\u001b[0m\u001b[0;34m(\u001b[0m\u001b[0;34m\"SVM Test:\"\u001b[0m\u001b[0;34m,\u001b[0m \u001b[0mscore\u001b[0m\u001b[0;34m)\u001b[0m\u001b[0;34m\u001b[0m\u001b[0;34m\u001b[0m\u001b[0m\n\u001b[1;32m      3\u001b[0m \u001b[0;31m# score=accuracy_score(val_pred,y_val)\u001b[0m\u001b[0;34m\u001b[0m\u001b[0;34m\u001b[0m\u001b[0;34m\u001b[0m\u001b[0m\n\u001b[1;32m      4\u001b[0m \u001b[0;31m# print(\"SVM Test:\", score)\u001b[0m\u001b[0;34m\u001b[0m\u001b[0;34m\u001b[0m\u001b[0;34m\u001b[0m\u001b[0m\n",
            "\u001b[0;31mNameError\u001b[0m: name 'testing_predicted' is not defined"
          ]
        }
      ]
    },
    {
      "cell_type": "code",
      "metadata": {
        "colab": {
          "base_uri": "https://localhost:8080/",
          "height": 232
        },
        "id": "6FoUbDdFzSJR",
        "outputId": "4b75a128-7140-49f6-c326-6ee3e67ebc02"
      },
      "source": [
        "# Plot non-normalized confusion matrix\n",
        "titles_options = [(\"Confusion matrix, without normalization\", None),\n",
        "                  (\"Normalized confusion matrix\", 'true')]\n",
        "for title, normalize in titles_options:\n",
        "    disp = plot_confusion_matrix(classifier, X_test, y_test,\n",
        "                                 display_labels=class_names,\n",
        "                                 cmap=plt.cm.Blues,\n",
        "                                 normalize=normalize)\n",
        "    disp.ax_.set_title(title)\n",
        "\n",
        "    print(title)\n",
        "    print(disp.confusion_matrix)\n",
        "\n",
        "plt.show()"
      ],
      "execution_count": null,
      "outputs": [
        {
          "output_type": "error",
          "ename": "NameError",
          "evalue": "ignored",
          "traceback": [
            "\u001b[0;31m---------------------------------------------------------------------------\u001b[0m",
            "\u001b[0;31mNameError\u001b[0m                                 Traceback (most recent call last)",
            "\u001b[0;32m<ipython-input-5-d4a680810c94>\u001b[0m in \u001b[0;36m<module>\u001b[0;34m()\u001b[0m\n\u001b[1;32m      3\u001b[0m                   (\"Normalized confusion matrix\", 'true')]\n\u001b[1;32m      4\u001b[0m \u001b[0;32mfor\u001b[0m \u001b[0mtitle\u001b[0m\u001b[0;34m,\u001b[0m \u001b[0mnormalize\u001b[0m \u001b[0;32min\u001b[0m \u001b[0mtitles_options\u001b[0m\u001b[0;34m:\u001b[0m\u001b[0;34m\u001b[0m\u001b[0;34m\u001b[0m\u001b[0m\n\u001b[0;32m----> 5\u001b[0;31m     disp = plot_confusion_matrix(classifier, X_test, y_test,\n\u001b[0m\u001b[1;32m      6\u001b[0m                                  \u001b[0mdisplay_labels\u001b[0m\u001b[0;34m=\u001b[0m\u001b[0mclass_names\u001b[0m\u001b[0;34m,\u001b[0m\u001b[0;34m\u001b[0m\u001b[0;34m\u001b[0m\u001b[0m\n\u001b[1;32m      7\u001b[0m                                  \u001b[0mcmap\u001b[0m\u001b[0;34m=\u001b[0m\u001b[0mplt\u001b[0m\u001b[0;34m.\u001b[0m\u001b[0mcm\u001b[0m\u001b[0;34m.\u001b[0m\u001b[0mBlues\u001b[0m\u001b[0;34m,\u001b[0m\u001b[0;34m\u001b[0m\u001b[0;34m\u001b[0m\u001b[0m\n",
            "\u001b[0;31mNameError\u001b[0m: name 'plot_confusion_matrix' is not defined"
          ]
        }
      ]
    },
    {
      "cell_type": "code",
      "metadata": {
        "id": "1NQCnFpEBmCT"
      },
      "source": [
        "for k in range(0, 10, len(X_test)):\n",
        "    plt.figure(figsize=(9, 2))\n",
        "    img = testing_predicted[k]\n",
        "    plt.subplot(2, 9, k)\n",
        "    plt.imshow(img)\n",
        "     "
      ],
      "execution_count": null,
      "outputs": []
    }
  ]
}