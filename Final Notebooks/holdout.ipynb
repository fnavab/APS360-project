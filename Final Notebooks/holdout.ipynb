{
  "nbformat": 4,
  "nbformat_minor": 0,
  "metadata": {
    "colab": {
      "name": "holdout.ipynb",
      "provenance": [],
      "collapsed_sections": [],
      "machine_shape": "hm",
      "include_colab_link": true
    },
    "kernelspec": {
      "name": "python3",
      "display_name": "Python 3"
    },
    "accelerator": "GPU"
  },
  "cells": [
    {
      "cell_type": "markdown",
      "metadata": {
        "id": "view-in-github",
        "colab_type": "text"
      },
      "source": [
        "<a href=\"https://colab.research.google.com/github/fnavab/APS360-project/blob/main/holdout.ipynb\" target=\"_parent\"><img src=\"https://colab.research.google.com/assets/colab-badge.svg\" alt=\"Open In Colab\"/></a>"
      ]
    },
    {
      "cell_type": "code",
      "metadata": {
        "id": "SX5wXnCGxvbf",
        "colab": {
          "base_uri": "https://localhost:8080/"
        },
        "outputId": "2e70377a-ed2c-4919-f04d-fcb7866d52a3"
      },
      "source": [
        "#mount googledrive\n",
        "from google.colab import drive\n",
        "drive.mount('/content/gdrive')"
      ],
      "execution_count": 2,
      "outputs": [
        {
          "output_type": "stream",
          "text": [
            "Mounted at /content/gdrive\n"
          ],
          "name": "stdout"
        }
      ]
    },
    {
      "cell_type": "code",
      "metadata": {
        "id": "CgquoQ4wymER"
      },
      "source": [
        "import torch\n",
        "import torch.nn as nn\n",
        "import torch.nn.functional as F\n",
        "import torch.optim as optim\n",
        "import torchvision\n",
        "from torch.utils.data.sampler import SubsetRandomSampler\n",
        "import torchvision.transforms as transforms\n",
        "import numpy as np\n",
        "import time\n",
        "import matplotlib.pyplot as plt\n"
      ],
      "execution_count": 4,
      "outputs": []
    },
    {
      "cell_type": "code",
      "metadata": {
        "id": "L1di_nc0Puw3"
      },
      "source": [
        "import torch\n",
        "import torch.nn as nn\n",
        "import torch.nn.functional as F\n",
        "\n",
        "class CNN_ALEX(nn.Module):\n",
        "    def __init__(self):\n",
        "        super(CNN_ALEX, self).__init__()\n",
        "        self.name=\"CNN_ALEX\"\n",
        "        # self.conv = nn.Conv2d(256, 10, 5)\n",
        "        # self.pool = nn.MaxPool2d(2, 2)\n",
        "        \n",
        "        self.fc1 = nn.Linear(256 * 8 * 8, 128)\n",
        "        self.fc2 = nn.Linear(128, 8)\n",
        "\n",
        "    def forward(self, x):\n",
        "        # x = self.pool(F.relu(self.conv(x)))\n",
        "\n",
        "        x = x.view(x.shape[0], 256 * 8 * 8) #flatten feature data\n",
        "        x = F.relu(self.fc1(x))\n",
        "        x = self.fc2(x)\n",
        "        x = x.squeeze(1)\n",
        "        return x"
      ],
      "execution_count": 5,
      "outputs": []
    },
    {
      "cell_type": "code",
      "metadata": {
        "id": "yWL-gh4oQGP2"
      },
      "source": [
        "def get_alex_data_loader(batch_size):\n",
        "  train_dir = '/content/gdrive/My Drive/Colab Notebooks/combined_features/train'\n",
        "  test_dir = '/content/gdrive/My Drive/Colab Notebooks/combined_features/test'\n",
        "  val_dir = '/content/gdrive/My Drive/Colab Notebooks/combined_features/val'\n",
        "  train_set = torchvision.datasets.DatasetFolder(train_dir, loader=torch.load, extensions=('.tensor'))\n",
        "  val_set= torchvision.datasets.DatasetFolder(val_dir, loader=torch.load, extensions=('.tensor'))\n",
        "  test_set = torchvision.datasets.DatasetFolder(test_dir, loader=torch.load, extensions=('.tensor'))\n",
        "  torch.manual_seed(1) # set the random seed\n",
        "\n",
        "  num_workers = 1\n",
        "  train_feature_loader = torch.utils.data.DataLoader(train_set, batch_size=batch_size, \n",
        "                                            num_workers=num_workers, shuffle=True)\n",
        "  test_feature_loader = torch.utils.data.DataLoader(test_set, batch_size=batch_size, \n",
        "                                            num_workers=num_workers, shuffle=True)\n",
        "  val_feature_loader = torch.utils.data.DataLoader(val_set, batch_size=batch_size, \n",
        "                                            num_workers=num_workers, shuffle=True)\n",
        "\n",
        "\n",
        "  return train_feature_loader, test_feature_loader,val_feature_loader"
      ],
      "execution_count": 21,
      "outputs": []
    },
    {
      "cell_type": "code",
      "metadata": {
        "id": "aewu2KB6QLyj"
      },
      "source": [
        "#Prepare feature loader\n",
        "train_feature_loader, test_feature_loader,val_feature_loader=get_alex_data_loader(64)"
      ],
      "execution_count": 22,
      "outputs": []
    },
    {
      "cell_type": "code",
      "metadata": {
        "id": "8uFWWY_N71cA"
      },
      "source": [
        "#Prepare feature loader\n",
        "dir = '/content/gdrive/My Drive/Colab Notebooks/APS360 GROUP/holdout_features'\n",
        "holdout_set = torchvision.datasets.DatasetFolder(dir, loader=torch.load, extensions=('.tensor'))\n",
        "\n",
        "holdout_feature_loader = torch.utils.data.DataLoader(holdout_set, batch_size=64, \n",
        "                                            shuffle=True)"
      ],
      "execution_count": 6,
      "outputs": []
    },
    {
      "cell_type": "code",
      "metadata": {
        "colab": {
          "base_uri": "https://localhost:8080/"
        },
        "id": "2U4lrQmVZymH",
        "outputId": "4dfc4d7a-eb72-4408-c2bc-b1d7b3ab4adc"
      },
      "source": [
        "len(holdout_set)"
      ],
      "execution_count": 7,
      "outputs": [
        {
          "output_type": "execute_result",
          "data": {
            "text/plain": [
              "4224"
            ]
          },
          "metadata": {
            "tags": []
          },
          "execution_count": 7
        }
      ]
    },
    {
      "cell_type": "code",
      "metadata": {
        "id": "Y4jinHsZ9NhM",
        "colab": {
          "base_uri": "https://localhost:8080/"
        },
        "outputId": "23b9ce38-2d71-4c8f-f2d8-181f15c8ecf7"
      },
      "source": [
        "# Verification Step - obtain one batch of features\n",
        "dataiter = iter(holdout_feature_loader)\n",
        "features, labels = dataiter.next()\n",
        "print(features.shape)\n",
        "print(labels.shape)"
      ],
      "execution_count": 46,
      "outputs": [
        {
          "output_type": "stream",
          "text": [
            "torch.Size([64, 256, 8, 8])\n",
            "torch.Size([64])\n"
          ],
          "name": "stdout"
        }
      ]
    },
    {
      "cell_type": "code",
      "metadata": {
        "id": "ghv1NwUMAeEo"
      },
      "source": [
        "def get_accuracy(model, data_loader):\n",
        "    correct = 0\n",
        "    total = 0\n",
        "    for imgs, labels in data_loader:\n",
        "        \n",
        "        if use_cuda and torch.cuda.is_available():\n",
        "          imgs = imgs.cuda()\n",
        "          labels = labels.cuda()\n",
        "\n",
        "        output = model(imgs)\n",
        "        #select index with maximum prediction score\n",
        "        pred = output.max(1, keepdim=True)[1]\n",
        "        correct += pred.eq(labels.view_as(pred)).sum().item()\n",
        "        total += imgs.shape[0]\n",
        "    return correct / total"
      ],
      "execution_count": 8,
      "outputs": []
    },
    {
      "cell_type": "markdown",
      "metadata": {
        "id": "EB6TWpTpBWVj"
      },
      "source": [
        "TO DO: Hyper parameter tuning"
      ]
    },
    {
      "cell_type": "code",
      "metadata": {
        "id": "WqEX-VySi_Bd",
        "colab": {
          "base_uri": "https://localhost:8080/"
        },
        "outputId": "7841538c-c230-4cb3-9c1e-5ee15617ccfd"
      },
      "source": [
        "model=CNN_ALEX()\n",
        "model.load_state_dict(torch.load(\"/content/gdrive/My Drive/Colab Notebooks/Final-Model\"))\n"
      ],
      "execution_count": 9,
      "outputs": [
        {
          "output_type": "execute_result",
          "data": {
            "text/plain": [
              "<All keys matched successfully>"
            ]
          },
          "metadata": {
            "tags": []
          },
          "execution_count": 9
        }
      ]
    },
    {
      "cell_type": "code",
      "metadata": {
        "id": "-mZxRKLHjBlI",
        "colab": {
          "base_uri": "https://localhost:8080/"
        },
        "outputId": "62df6e6f-2a1b-4ec5-c3c8-f1f897aacafb"
      },
      "source": [
        "use_cuda = True\n",
        "if use_cuda and torch.cuda.is_available():\n",
        "    model.cuda()\n",
        "get_accuracy(model,holdout_feature_loader)"
      ],
      "execution_count": 10,
      "outputs": [
        {
          "output_type": "execute_result",
          "data": {
            "text/plain": [
              "0.7111742424242424"
            ]
          },
          "metadata": {
            "tags": []
          },
          "execution_count": 10
        }
      ]
    },
    {
      "cell_type": "code",
      "metadata": {
        "id": "tSeXDfKwFC1u",
        "colab": {
          "base_uri": "https://localhost:8080/"
        },
        "outputId": "9936b74b-2613-42ca-e13d-c7fc43c9d64a"
      },
      "source": [
        "get_accuracy(model,test_feature_loader)"
      ],
      "execution_count": 23,
      "outputs": [
        {
          "output_type": "execute_result",
          "data": {
            "text/plain": [
              "0.8356573705179283"
            ]
          },
          "metadata": {
            "tags": []
          },
          "execution_count": 23
        }
      ]
    },
    {
      "cell_type": "code",
      "metadata": {
        "id": "RtelXbXc41gv"
      },
      "source": [
        "def get_confusion_matrix(model, data_loader):\n",
        "    correct = 0\n",
        "    total = 0\n",
        "    nb_classes = 8\n",
        "\n",
        "    confusion_matrix = torch.zeros(nb_classes, nb_classes)\n",
        "    with torch.no_grad():\n",
        "\n",
        "      for imgs, labels in data_loader:\n",
        "        \n",
        "        if use_cuda and torch.cuda.is_available():\n",
        "          imgs = imgs.cuda()\n",
        "          labels = labels.cuda()\n",
        "\n",
        "        output = model(imgs)\n",
        "        #select index with maximum prediction score\n",
        "        pred = output.max(1, keepdim=True)[1]\n",
        "        \n",
        "        for t, p in zip(labels.view(-1), pred.view(-1)):\n",
        "                confusion_matrix[t.long(), p.long()] += 1\n",
        "\n",
        "    \n",
        "    print(confusion_matrix)\n",
        "    print(confusion_matrix.diag()/confusion_matrix.sum(1))\n",
        "    # # Visualize it as a heatmap\n",
        "    import seaborn\n",
        "    seaborn.heatmap(confusion_matrix)\n",
        "    plt.show()"
      ],
      "execution_count": 13,
      "outputs": []
    },
    {
      "cell_type": "code",
      "metadata": {
        "id": "s5nhR6QEml0q",
        "colab": {
          "base_uri": "https://localhost:8080/",
          "height": 418
        },
        "outputId": "eaf1375a-c0c2-473c-8782-0fc6c23374c1"
      },
      "source": [
        "get_confusion_matrix(model,holdout_feature_loader)"
      ],
      "execution_count": 14,
      "outputs": [
        {
          "output_type": "stream",
          "text": [
            "tensor([[440.,  17.,   3.,   5.,  21.,   0.,  16.,  26.],\n",
            "        [ 25., 391.,   2.,   3.,  34.,   2.,  10.,  61.],\n",
            "        [  5.,   4., 383., 116.,   0.,  14.,   5.,   1.],\n",
            "        [  5.,  11.,  89., 369.,   4.,  22.,  22.,   6.],\n",
            "        [ 20.,  47.,   5.,   8., 359.,   6.,  12.,  71.],\n",
            "        [  2.,  16.,  16.,  23.,  11., 348., 107.,   5.],\n",
            "        [ 11.,   9.,  20.,  22.,  10.,  55., 387.,  14.],\n",
            "        [ 13.,  91.,   2.,   5.,  68.,   6.,  16., 327.]])\n",
            "tensor([0.8333, 0.7405, 0.7254, 0.6989, 0.6799, 0.6591, 0.7330, 0.6193])\n"
          ],
          "name": "stdout"
        },
        {
          "output_type": "display_data",
          "data": {
            "image/png": "[encoded data removed]",
            "text/plain": [
              "<Figure size 432x288 with 2 Axes>"
            ]
          },
          "metadata": {
            "tags": [],
            "needs_background": "light"
          }
        }
      ]
    }
  ]
}