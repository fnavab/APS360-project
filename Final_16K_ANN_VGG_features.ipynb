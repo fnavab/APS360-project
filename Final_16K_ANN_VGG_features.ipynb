{
  "nbformat": 4,
  "nbformat_minor": 0,
  "metadata": {
    "colab": {
      "name": "Final-16K_ANN_VGG features.ipynb",
      "provenance": [],
      "collapsed_sections": [],
      "machine_shape": "hm",
      "include_colab_link": true
    },
    "kernelspec": {
      "name": "python3",
      "display_name": "Python 3"
    },
    "accelerator": "GPU"
  },
  "cells": [
    {
      "cell_type": "markdown",
      "metadata": {
        "id": "view-in-github",
        "colab_type": "text"
      },
      "source": [
        "<a href=\"https://colab.research.google.com/github/fnavab/APS360-project/blob/main/Final_16K_ANN_VGG_features.ipynb\" target=\"_parent\"><img src=\"https://colab.research.google.com/assets/colab-badge.svg\" alt=\"Open In Colab\"/></a>"
      ]
    },
    {
      "cell_type": "code",
      "metadata": {
        "id": "SX5wXnCGxvbf",
        "colab": {
          "base_uri": "https://localhost:8080/"
        },
        "outputId": "3962280b-fb91-4f99-9429-7727d595a1cf"
      },
      "source": [
        "#mount googledrive\n",
        "from google.colab import drive\n",
        "drive.mount('/content/gdrive')"
      ],
      "execution_count": 1,
      "outputs": [
        {
          "output_type": "stream",
          "text": [
            "Mounted at /content/gdrive\n"
          ],
          "name": "stdout"
        }
      ]
    },
    {
      "cell_type": "code",
      "metadata": {
        "id": "CgquoQ4wymER"
      },
      "source": [
        "import torch\n",
        "import torch.nn as nn\n",
        "import torch.nn.functional as F\n",
        "import torch.optim as optim\n",
        "import torchvision\n",
        "from torch.utils.data.sampler import SubsetRandomSampler\n",
        "import torchvision.transforms as transforms\n",
        "import numpy as np\n",
        "import time\n",
        "import matplotlib.pyplot as plt"
      ],
      "execution_count": 2,
      "outputs": []
    },
    {
      "cell_type": "code",
      "metadata": {
        "id": "4VCtQnKP8IxH"
      },
      "source": [
        "def get_vgg_data_loader(batch_size):\n",
        "  train_dir = '/content/gdrive/My Drive/Colab Notebooks/Project/APS360 GROUP/16k_vgg_features/train'\n",
        "  test_dir = '/content/gdrive/My Drive/Colab Notebooks/Project/APS360 GROUP/16k_vgg_features/test'\n",
        "  val_dir = '/content/gdrive/My Drive/Colab Notebooks/Project/APS360 GROUP/16k_vgg_features/val'\n",
        "  train_set = torchvision.datasets.DatasetFolder(train_dir, loader=torch.load, extensions=('.tensor'))\n",
        "  val_set= torchvision.datasets.DatasetFolder(val_dir, loader=torch.load, extensions=('.tensor'))\n",
        "  test_set = torchvision.datasets.DatasetFolder(test_dir, loader=torch.load, extensions=('.tensor'))\n",
        "  torch.manual_seed(1) # set the random seed\n",
        "\n",
        "  num_workers = 1\n",
        "  train_feature_loader = torch.utils.data.DataLoader(train_set, batch_size=batch_size, \n",
        "                                            num_workers=num_workers, shuffle=True)\n",
        "  test_feature_loader = torch.utils.data.DataLoader(test_set, batch_size=batch_size, \n",
        "                                            num_workers=num_workers, shuffle=True)\n",
        "  val_feature_loader = torch.utils.data.DataLoader(val_set, batch_size=batch_size, \n",
        "                                            num_workers=num_workers, shuffle=True)\n",
        "\n",
        "\n",
        "  return train_feature_loader, test_feature_loader,val_feature_loader"
      ],
      "execution_count": 3,
      "outputs": []
    },
    {
      "cell_type": "code",
      "metadata": {
        "id": "8uFWWY_N71cA"
      },
      "source": [
        "#Prepare feature loader\n",
        "train_feature_loader, test_feature_loader,val_feature_loader=get_vgg_data_loader(128)"
      ],
      "execution_count": 4,
      "outputs": []
    },
    {
      "cell_type": "code",
      "metadata": {
        "id": "Y4jinHsZ9NhM",
        "colab": {
          "base_uri": "https://localhost:8080/"
        },
        "outputId": "36c67b1e-50e2-4d9e-83f4-f1569acb0d12"
      },
      "source": [
        "# Verification Step - obtain one batch of features\n",
        "dataiter = iter(val_feature_loader)\n",
        "features, labels = dataiter.next()\n",
        "print(features.shape)\n",
        "print(labels.shape)"
      ],
      "execution_count": 5,
      "outputs": [
        {
          "output_type": "stream",
          "text": [
            "torch.Size([128, 512, 9, 9])\n",
            "torch.Size([128])\n"
          ],
          "name": "stdout"
        }
      ]
    },
    {
      "cell_type": "code",
      "metadata": {
        "id": "JYrbCjmz9T7S"
      },
      "source": [
        "import torch\n",
        "import torch.nn as nn\n",
        "import torch.nn.functional as F\n",
        "\n",
        "class CNN_VGG(nn.Module):\n",
        "    def __init__(self):\n",
        "        super(CNN_VGG, self).__init__()\n",
        "        self.name=\"CNN_VGG\"\n",
        "\n",
        "        #self.conv1 = nn.Conv2d(512, 490, 3)\n",
        "        #self.conv2 = nn.Conv2d(490, 450, 3)\n",
        "        #self.conv3 = nn.Conv2d(450, 400, 3)\n",
        "        #self.pool = nn.MaxPool2d(2, 2)\n",
        "\n",
        "        self.fc1 = nn.Linear(512*9*9, 128)\n",
        "        self.fc2 = nn.Linear(128, 8)\n",
        "\n",
        "    def forward(self, x):\n",
        "        #x = F.relu(self.conv1(x))\n",
        "        #x = F.relu(self.conv2(x))\n",
        "        #x = F.relu(self.conv3(x))\n",
        "        x = x.view(x.shape[0], 512*9*9) #flatten feature data\n",
        "        x = F.relu(self.fc1(x))\n",
        "        x = self.fc2(x)\n",
        "        x = x.squeeze(1)\n",
        "       \n",
        "        return x"
      ],
      "execution_count": 12,
      "outputs": []
    },
    {
      "cell_type": "code",
      "metadata": {
        "id": "NUOpojpBAgrp"
      },
      "source": [
        "def get_model_name(name, batch_size, learning_rate, epoch):\n",
        "    \"\"\" Generate a name for the model consisting of all the hyperparameter values\n",
        "\n",
        "    Args:\n",
        "        config: Configuration object containing the hyperparameters\n",
        "    Returns:\n",
        "        path: A string with the hyperparameter name and value concatenated\n",
        "    \"\"\"\n",
        "    path = \"model_{0}_bs{1}_lr{2}_epoch{3}\".format(name,\n",
        "                                                   batch_size,\n",
        "                                                   learning_rate,\n",
        "                                                   epoch)\n",
        "    return path"
      ],
      "execution_count": 7,
      "outputs": []
    },
    {
      "cell_type": "code",
      "metadata": {
        "id": "ghv1NwUMAeEo"
      },
      "source": [
        "def get_accuracy(model, data_loader):\n",
        "    correct = 0\n",
        "    total = 0\n",
        "    for imgs, labels in data_loader:\n",
        "        \n",
        "        if use_cuda and torch.cuda.is_available():\n",
        "          imgs = imgs.cuda()\n",
        "          labels = labels.cuda()\n",
        "\n",
        "        output = model(imgs)\n",
        "        #select index with maximum prediction score\n",
        "        pred = output.max(1, keepdim=True)[1]\n",
        "        correct += pred.eq(labels.view_as(pred)).sum().item()\n",
        "        total += imgs.shape[0]\n",
        "    return correct / total"
      ],
      "execution_count": 9,
      "outputs": []
    },
    {
      "cell_type": "code",
      "metadata": {
        "id": "xJFaKr-k-ZH3"
      },
      "source": [
        "def train_net(model,target_classes,train_loader,val_loader, batch_size=64, learn_rate=0.001, num_epochs=30):\n",
        "    ########################################################################\n",
        "    ########################################################################\n",
        "    # Fixed PyTorch random seed for reproducible result\n",
        "    torch.manual_seed(1000)\n",
        "    ########################################################################\n",
        "    ########################################################################\n",
        "    # Define the Loss function and optimizer\n",
        "    # The loss function will be Cross Entropy,which will apply softmax to the output layer\n",
        "    criterion = nn.CrossEntropyLoss()\n",
        "    optimizer = optim.Adam(model.parameters(), lr=learn_rate)\n",
        "    \n",
        "\n",
        "    ########################################################################\n",
        "    # Set up some numpy arrays to store the training/test loss/erruracy\n",
        "    train_acc = np.zeros(num_epochs)\n",
        "    train_loss = np.zeros(num_epochs)\n",
        "    val_acc = np.zeros(num_epochs)\n",
        "    val_loss = np.zeros(num_epochs)\n",
        "    ########################################################################\n",
        "    # Train the network\n",
        "    # Loop over the data iterator and sample a new batch of training data\n",
        "    # Get the output from the network, and optimize our loss function.\n",
        "    start_time=time.time()\n",
        "    \n",
        "    for epoch in range(num_epochs):  # loop over the dataset multiple times\n",
        "        total_train_loss = 0.0\n",
        "        total_train_acc = 0.0\n",
        "        total_epoch = 0\n",
        "        for imgs, labels in iter(train_loader):\n",
        "\n",
        "            if use_cuda and torch.cuda.is_available():\n",
        "              imgs = imgs.cuda()\n",
        "              labels = labels.cuda()\n",
        "\n",
        "            # Forward pass, backward pass, and optimize\n",
        "            outputs = model(imgs)\n",
        "            loss = criterion(outputs, labels)\n",
        "            loss.backward()\n",
        "            optimizer.step()\n",
        "            optimizer.zero_grad()         # a clean up step for PyTorch\n",
        "\n",
        "            # Calculate the statistics\n",
        "            total_train_loss += loss.item()\n",
        "            total_epoch += len(labels)\n",
        "        train_loss[epoch] = float(total_train_loss) / (batch_size)\n",
        "        train_acc[epoch]= get_accuracy(model, train_loader)\n",
        "        val_acc[epoch] = get_accuracy(model, val_loader)\n",
        "        print((\"Epoch {}: Train acc: {}, Train loss: {} |\"+\n",
        "               \"Validation acc: {}\").format(\n",
        "                   epoch + 1,\n",
        "                   train_acc[epoch],\n",
        "                   train_loss[epoch],\n",
        "                   val_acc[epoch]\n",
        "                   ))\n",
        "        # Save the current model (checkpoint) to a file\n",
        "        model_path = get_model_name(model.name, batch_size, learn_rate, epoch)\n",
        "        torch.save(model.state_dict(), model_path)\n",
        "    print('Finished Training')\n",
        "\n",
        "    end_time= time.time()\n",
        "\n",
        "    # Write the train/test loss/err into CSV file \n",
        "    epochs = np.arange(1, num_epochs + 1)\n",
        "    np.savetxt(\"{}_train_acc.csv\".format(model_path), train_acc)\n",
        "    np.savetxt(\"{}_train_loss.csv\".format(model_path), train_loss)\n",
        "    np.savetxt(\"{}_val_acc.csv\".format(model_path), val_acc)\n",
        "\n",
        "\n",
        "    print(\"Final Training Accuracy: {}\".format(train_acc[-1]))\n",
        "    print(\"Final Validation Accuracy: {}\".format(val_acc[-1]))\n",
        "    print(\"Total time: \" , (end_time-start_time))\n",
        "\n",
        "\n",
        "    # plotting\n",
        "    plt.title(\"Training Curve\")\n",
        "    plt.plot(epochs, train_loss, label=\"Train\")\n",
        "    plt.xlabel(\"Iterations\")\n",
        "    plt.ylabel(\"Loss\")\n",
        "    plt.show()\n",
        "\n",
        "    plt.title(\"Training Curve\")\n",
        "    plt.plot(epochs, train_acc, label=\"Train\")\n",
        "    plt.plot(epochs, val_acc, label=\"Validation\")\n",
        "    plt.xlabel(\"Iterations\")\n",
        "    plt.ylabel(\"Accuracy\")\n",
        "    plt.legend(loc='best')\n",
        "    plt.show()"
      ],
      "execution_count": 10,
      "outputs": []
    },
    {
      "cell_type": "markdown",
      "metadata": {
        "id": "EB6TWpTpBWVj"
      },
      "source": [
        "TO DO: Hyper parameter tuning"
      ]
    },
    {
      "cell_type": "code",
      "metadata": {
        "colab": {
          "base_uri": "https://localhost:8080/",
          "height": 1000
        },
        "id": "hSEL5Um6Smgp",
        "outputId": "50e3cc6c-6371-489e-89fe-2b31f653713f"
      },
      "source": [
        "use_cuda = True\n",
        "classes = ['Shirt', 'Jeans', 'Lounge Pants', 'Shorts', 'Skirt', 'Sweater', 'Dress', 'Jacket']\n",
        "\n",
        "model=CNN_VGG()\n",
        "#Modify\n",
        "if use_cuda and torch.cuda.is_available():\n",
        "    model.cuda()\n",
        "train_net(model, classes,train_feature_loader, val_feature_loader, batch_size=128, num_epochs=50, learn_rate = 0.00001)"
      ],
      "execution_count": 13,
      "outputs": [
        {
          "output_type": "stream",
          "text": [
            "Epoch 1: Train acc: 0.6450466459351399, Train loss: 0.9604733847081661 |Validation acc: 0.6198791134989926\n",
            "Epoch 2: Train acc: 0.7129053753887161, Train loss: 0.6700216112658381 |Validation acc: 0.6672263263935527\n",
            "Epoch 3: Train acc: 0.7434473567303421, Train loss: 0.5484050079248846 |Validation acc: 0.6907320349227669\n",
            "Epoch 4: Train acc: 0.7621057307863172, Train loss: 0.48187411949038506 |Validation acc: 0.7024848891873741\n",
            "Epoch 5: Train acc: 0.782985339848956, Train loss: 0.4397545694373548 |Validation acc: 0.7179314976494291\n",
            "Epoch 6: Train acc: 0.7963127498889383, Train loss: 0.4096717368811369 |Validation acc: 0.7269979852249832\n",
            "Epoch 7: Train acc: 0.8060861839182586, Train loss: 0.3830823116004467 |Validation acc: 0.7333781061114842\n",
            "Epoch 8: Train acc: 0.8143047534429143, Train loss: 0.3634493858553469 |Validation acc: 0.7360644728005373\n",
            "Epoch 9: Train acc: 0.8248556197245669, Train loss: 0.3472753025125712 |Validation acc: 0.7400940228341168\n",
            "Epoch 10: Train acc: 0.8305197689915593, Train loss: 0.33201688155531883 |Validation acc: 0.7434519811954332\n",
            "Epoch 11: Train acc: 0.8355175477565526, Train loss: 0.3183967506047338 |Validation acc: 0.7437877770315648\n",
            "Epoch 12: Train acc: 0.844735673034207, Train loss: 0.30722768045961857 |Validation acc: 0.7494963062458025\n",
            "Epoch 13: Train acc: 0.8522878720568636, Train loss: 0.29585622414015234 |Validation acc: 0.7508394895903291\n",
            "Epoch 14: Train acc: 0.8587294535761884, Train loss: 0.28769225953146815 |Validation acc: 0.7535258562793822\n",
            "Epoch 15: Train acc: 0.8619502443358508, Train loss: 0.2783784589264542 |Validation acc: 0.7552048354600402\n",
            "Epoch 16: Train acc: 0.8672812083518436, Train loss: 0.26902253553271294 |Validation acc: 0.7538616521155138\n",
            "Epoch 17: Train acc: 0.8718347401155042, Train loss: 0.2622164299245924 |Validation acc: 0.7508394895903291\n",
            "Epoch 18: Train acc: 0.8769435806308308, Train loss: 0.2539891612250358 |Validation acc: 0.7562122229684352\n",
            "Epoch 19: Train acc: 0.8812749888938249, Train loss: 0.24647717527113855 |Validation acc: 0.7545332437877771\n",
            "Epoch 20: Train acc: 0.8841625944024878, Train loss: 0.2416859983932227 |Validation acc: 0.7555406312961719\n",
            "Epoch 21: Train acc: 0.8876055086628165, Train loss: 0.2358231577090919 |Validation acc: 0.7508394895903291\n",
            "Epoch 22: Train acc: 0.8920479786761439, Train loss: 0.2278492827899754 |Validation acc: 0.7552048354600402\n",
            "Epoch 23: Train acc: 0.8952687694358064, Train loss: 0.22306725126691163 |Validation acc: 0.7568838146406984\n",
            "Epoch 24: Train acc: 0.8986006219458018, Train loss: 0.21730985213071108 |Validation acc: 0.7545332437877771\n",
            "Epoch 25: Train acc: 0.9021545979564638, Train loss: 0.21168942586518824 |Validation acc: 0.7535258562793822\n",
            "Epoch 26: Train acc: 0.904042647712128, Train loss: 0.20716189872473478 |Validation acc: 0.7552048354600402\n",
            "Epoch 27: Train acc: 0.9091514882274545, Train loss: 0.20219517033547163 |Validation acc: 0.7568838146406984\n",
            "Epoch 28: Train acc: 0.9121501554864505, Train loss: 0.19749847624916583 |Validation acc: 0.7572196104768301\n",
            "Epoch 29: Train acc: 0.914260328742781, Train loss: 0.1923109581694007 |Validation acc: 0.7612491605104097\n",
            "Epoch 30: Train acc: 0.9187027987561084, Train loss: 0.1881741879042238 |Validation acc: 0.7595701813297515\n",
            "Epoch 31: Train acc: 0.9211461572634385, Train loss: 0.18416432535741478 |Validation acc: 0.7595701813297515\n",
            "Epoch 32: Train acc: 0.923256330519769, Train loss: 0.1802369178039953 |Validation acc: 0.7595701813297515\n",
            "Epoch 33: Train acc: 0.9252554420257664, Train loss: 0.17589623387902975 |Validation acc: 0.7615849563465413\n",
            "Epoch 34: Train acc: 0.9279209240337628, Train loss: 0.17309973598457873 |Validation acc: 0.7568838146406984\n",
            "Epoch 35: Train acc: 0.9286983562860951, Train loss: 0.16860546136740595 |Validation acc: 0.7615849563465413\n",
            "Epoch 36: Train acc: 0.9314749000444247, Train loss: 0.1646628457820043 |Validation acc: 0.7602417730020148\n",
            "Epoch 37: Train acc: 0.9329187027987561, Train loss: 0.1611486008623615 |Validation acc: 0.7595701813297515\n",
            "Epoch 38: Train acc: 0.9339182585517548, Train loss: 0.15880056866444647 |Validation acc: 0.7605775688381464\n",
            "Epoch 39: Train acc: 0.9364726788094181, Train loss: 0.15493276808410883 |Validation acc: 0.7605775688381464\n",
            "Epoch 40: Train acc: 0.9373611728120835, Train loss: 0.15092366689350456 |Validation acc: 0.758226997985225\n",
            "Epoch 41: Train acc: 0.9416925810750777, Train loss: 0.1479730096179992 |Validation acc: 0.7602417730020148\n",
            "Epoch 42: Train acc: 0.9425810750777432, Train loss: 0.14454174344427884 |Validation acc: 0.7562122229684352\n",
            "Epoch 43: Train acc: 0.9443580630830742, Train loss: 0.1412175188306719 |Validation acc: 0.758226997985225\n",
            "Epoch 44: Train acc: 0.9464682363394047, Train loss: 0.13857351790647954 |Validation acc: 0.7562122229684352\n",
            "Epoch 45: Train acc: 0.9485784095957353, Train loss: 0.13586791965644807 |Validation acc: 0.7565480188045668\n",
            "Epoch 46: Train acc: 0.9484673478454021, Train loss: 0.13374380639288574 |Validation acc: 0.7572196104768301\n",
            "Epoch 47: Train acc: 0.9516881386050644, Train loss: 0.1303610522300005 |Validation acc: 0.7545332437877771\n",
            "Epoch 48: Train acc: 0.9521323856063971, Train loss: 0.12722547457087785 |Validation acc: 0.7572196104768301\n",
            "Epoch 49: Train acc: 0.9546868058640604, Train loss: 0.12436429946683347 |Validation acc: 0.7565480188045668\n",
            "Epoch 50: Train acc: 0.9547978676143936, Train loss: 0.12203975394368172 |Validation acc: 0.7548690396239086\n",
            "Finished Training\n",
            "Final Training Accuracy: 0.9547978676143936\n",
            "Final Validation Accuracy: 0.7548690396239086\n",
            "Total time:  5576.103938102722\n"
          ],
          "name": "stdout"
        },
        {
          "output_type": "display_data",
          "data": {
            "image/png": "[encoded data removed]",
            "text/plain": [
              "<Figure size 432x288 with 1 Axes>"
            ]
          },
          "metadata": {
            "tags": [],
            "needs_background": "light"
          }
        },
        {
          "output_type": "display_data",
          "data": {
            "image/png": "[encoded data removed]",
            "text/plain": [
              "<Figure size 432x288 with 1 Axes>"
            ]
          },
          "metadata": {
            "tags": [],
            "needs_background": "light"
          }
        }
      ]
    },
    {
      "cell_type": "code",
      "metadata": {
        "id": "Vz7cYlxCivBq"
      },
      "source": [
        "best_model_path = get_model_name(\"CNN_VGG\", batch_size=128, learning_rate=0.00001, epoch=32) # epoch 33\n",
        "state = torch.load(best_model_path)\n",
        "\n",
        "best_net = CNN_VGG()\n",
        "best_net.load_state_dict(state)\n",
        "\n",
        "torch.save(best_net.state_dict(), \"/content/gdrive/My Drive/Colab Notebooks/Project/VGG_76_16\")"
      ],
      "execution_count": 14,
      "outputs": []
    },
    {
      "cell_type": "code",
      "metadata": {
        "id": "tSeXDfKwFC1u",
        "colab": {
          "base_uri": "https://localhost:8080/"
        },
        "outputId": "99c64698-91c9-411e-9cbe-7ef3653acad4"
      },
      "source": [
        "best_net.cuda()\n",
        "get_accuracy(best_net, test_feature_loader)"
      ],
      "execution_count": 19,
      "outputs": [
        {
          "output_type": "execute_result",
          "data": {
            "text/plain": [
              "0.7654075546719682"
            ]
          },
          "metadata": {
            "tags": []
          },
          "execution_count": 19
        }
      ]
    },
    {
      "cell_type": "code",
      "metadata": {
        "id": "RtelXbXc41gv"
      },
      "source": [
        "def get_confusion_matrix(model, data_loader):\n",
        "    correct = 0\n",
        "    total = 0\n",
        "    nb_classes = 8\n",
        "\n",
        "    confusion_matrix = torch.zeros(nb_classes, nb_classes)\n",
        "    with torch.no_grad():\n",
        "\n",
        "      for imgs, labels in data_loader:\n",
        "        \n",
        "        if use_cuda and torch.cuda.is_available():\n",
        "          imgs = imgs.cuda()\n",
        "          labels = labels.cuda()\n",
        "\n",
        "        output = model(imgs)\n",
        "        #select index with maximum prediction score\n",
        "        pred = output.max(1, keepdim=True)[1]\n",
        "        \n",
        "        for t, p in zip(labels.view(-1), pred.view(-1)):\n",
        "                confusion_matrix[t.long(), p.long()] += 1\n",
        "\n",
        "    \n",
        "    print(confusion_matrix)\n",
        "    print(confusion_matrix.diag()/confusion_matrix.sum(1))\n",
        "    # Visualize it as a heatmap\n",
        "    import seaborn\n",
        "    seaborn.heatmap(confusion_matrix)\n",
        "    plt.show()"
      ],
      "execution_count": 20,
      "outputs": []
    },
    {
      "cell_type": "code",
      "metadata": {
        "id": "s5nhR6QEml0q",
        "colab": {
          "base_uri": "https://localhost:8080/",
          "height": 418
        },
        "outputId": "8fadd00b-b677-4957-9374-734df8a92130"
      },
      "source": [
        "get_confusion_matrix(best_net, test_feature_loader)"
      ],
      "execution_count": 21,
      "outputs": [
        {
          "output_type": "stream",
          "text": [
            "tensor([[346.,  10.,   5.,   0.,  12.,   0.,   6.,  11.],\n",
            "        [ 15., 291.,   0.,   2.,  19.,   5.,   9.,  34.],\n",
            "        [  2.,   3., 284.,  71.,   1.,  14.,   5.,   1.],\n",
            "        [  0.,   1.,  50., 287.,   1.,  13.,  19.,   1.],\n",
            "        [ 10.,  23.,   0.,   1., 264.,   8.,   6.,  47.],\n",
            "        [  2.,   7.,  10.,  17.,   3., 312.,  45.,   4.],\n",
            "        [  4.,   7.,  10.,   6.,   2.,  67., 267.,   3.],\n",
            "        [ 15.,  50.,   1.,   2.,  41.,   3.,   4., 259.]])\n",
            "tensor([0.8872, 0.7760, 0.7454, 0.7715, 0.7354, 0.7800, 0.7295, 0.6907])\n"
          ],
          "name": "stdout"
        },
        {
          "output_type": "display_data",
          "data": {
            "image/png": "[encoded data removed]",
            "text/plain": [
              "<Figure size 432x288 with 2 Axes>"
            ]
          },
          "metadata": {
            "tags": [],
            "needs_background": "light"
          }
        }
      ]
    }
  ]
}