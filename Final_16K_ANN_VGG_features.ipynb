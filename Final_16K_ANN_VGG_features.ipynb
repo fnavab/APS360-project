{
  "nbformat": 4,
  "nbformat_minor": 0,
  "metadata": {
    "colab": {
      "name": "Final-16K_ANN_VGG features.ipynb",
      "provenance": [],
      "collapsed_sections": [],
      "machine_shape": "hm",
      "include_colab_link": true
    },
    "kernelspec": {
      "name": "python3",
      "display_name": "Python 3"
    },
    "accelerator": "GPU"
  },
  "cells": [
    {
      "cell_type": "markdown",
      "metadata": {
        "id": "view-in-github",
        "colab_type": "text"
      },
      "source": [
        "<a href=\"https://colab.research.google.com/github/fnavab/APS360-project/blob/main/Final_16K_ANN_VGG_features.ipynb\" target=\"_parent\"><img src=\"https://colab.research.google.com/assets/colab-badge.svg\" alt=\"Open In Colab\"/></a>"
      ]
    },
    {
      "cell_type": "code",
      "metadata": {
        "id": "SX5wXnCGxvbf",
        "colab": {
          "base_uri": "https://localhost:8080/"
        },
        "outputId": "03ae76cd-eeec-4f5f-9874-63b8ea2d9ef5"
      },
      "source": [
        "#mount googledrive\n",
        "from google.colab import drive\n",
        "drive.mount('/content/gdrive')"
      ],
      "execution_count": 1,
      "outputs": [
        {
          "output_type": "stream",
          "text": [
            "Mounted at /content/gdrive\n"
          ],
          "name": "stdout"
        }
      ]
    },
    {
      "cell_type": "code",
      "metadata": {
        "id": "CgquoQ4wymER"
      },
      "source": [
        "import torch\n",
        "import torch.nn as nn\n",
        "import torch.nn.functional as F\n",
        "import torch.optim as optim\n",
        "import torchvision\n",
        "from torch.utils.data.sampler import SubsetRandomSampler\n",
        "import torchvision.transforms as transforms\n",
        "import numpy as np\n",
        "import time\n",
        "import matplotlib.pyplot as plt\n",
        "\n"
      ],
      "execution_count": 2,
      "outputs": []
    },
    {
      "cell_type": "code",
      "metadata": {
        "id": "4VCtQnKP8IxH"
      },
      "source": [
        "def get_vgg_data_loader(batch_size):\n",
        "  train_dir = '/content/gdrive/My Drive/Colab Notebooks/16k_vgg_features/train'\n",
        "  test_dir = '/content/gdrive/My Drive/Colab Notebooks/16k_vgg_features/test'\n",
        "  val_dir = '/content/gdrive/My Drive/Colab Notebooks/16k_vgg_features/val'\n",
        "  train_set = torchvision.datasets.DatasetFolder(train_dir, loader=torch.load, extensions=('.tensor'))\n",
        "  val_set= torchvision.datasets.DatasetFolder(val_dir, loader=torch.load, extensions=('.tensor'))\n",
        "  test_set = torchvision.datasets.DatasetFolder(test_dir, loader=torch.load, extensions=('.tensor'))\n",
        "  torch.manual_seed(1) # set the random seed\n",
        "\n",
        "  num_workers = 1\n",
        "  train_feature_loader = torch.utils.data.DataLoader(train_set, batch_size=batch_size, \n",
        "                                            num_workers=num_workers, shuffle=True)\n",
        "  test_feature_loader = torch.utils.data.DataLoader(test_set, batch_size=batch_size, \n",
        "                                            num_workers=num_workers, shuffle=True)\n",
        "  val_feature_loader = torch.utils.data.DataLoader(val_set, batch_size=batch_size, \n",
        "                                            num_workers=num_workers, shuffle=True)\n",
        "\n",
        "\n",
        "  return train_feature_loader, test_feature_loader,val_feature_loader"
      ],
      "execution_count": 3,
      "outputs": []
    },
    {
      "cell_type": "code",
      "metadata": {
        "id": "8uFWWY_N71cA"
      },
      "source": [
        "#Prepare feature loader\n",
        "train_feature_loader, test_feature_loader,val_feature_loader=get_vgg_data_loader(64)"
      ],
      "execution_count": 8,
      "outputs": []
    },
    {
      "cell_type": "code",
      "metadata": {
        "id": "Y4jinHsZ9NhM",
        "colab": {
          "base_uri": "https://localhost:8080/"
        },
        "outputId": "be4b681e-7a00-42a3-9f59-49621136e4b3"
      },
      "source": [
        "# Verification Step - obtain one batch of features\n",
        "dataiter = iter(val_feature_loader)\n",
        "features, labels = dataiter.next()\n",
        "print(features.shape)\n",
        "print(labels.shape)"
      ],
      "execution_count": 9,
      "outputs": [
        {
          "output_type": "stream",
          "text": [
            "torch.Size([64, 512, 9, 9])\n",
            "torch.Size([64])\n"
          ],
          "name": "stdout"
        }
      ]
    },
    {
      "cell_type": "code",
      "metadata": {
        "id": "JYrbCjmz9T7S"
      },
      "source": [
        "import torch\n",
        "import torch.nn as nn\n",
        "import torch.nn.functional as F\n",
        "\n",
        "class CNN_VGG(nn.Module):\n",
        "    def __init__(self):\n",
        "        super(CNN_VGG, self).__init__()\n",
        "        self.name=\"CNN_VGG\"\n",
        "\n",
        "        self.fc1 = nn.Linear(512*9*9, 128)\n",
        "        self.fc2 = nn.Linear(128, 8)\n",
        "        \n",
        "     \n",
        "\n",
        "    def forward(self, x):\n",
        "\n",
        "        x = x.view(x.shape[0], 512*9*9) #flatten feature data\n",
        "        x = F.relu(self.fc1(x))\n",
        "        x = self.fc2(x)\n",
        "        x = x.squeeze(1)\n",
        "       \n",
        "        return x"
      ],
      "execution_count": 10,
      "outputs": []
    },
    {
      "cell_type": "code",
      "metadata": {
        "id": "NUOpojpBAgrp"
      },
      "source": [
        "def get_model_name(name, batch_size, learning_rate, epoch):\n",
        "    \"\"\" Generate a name for the model consisting of all the hyperparameter values\n",
        "\n",
        "    Args:\n",
        "        config: Configuration object containing the hyperparameters\n",
        "    Returns:\n",
        "        path: A string with the hyperparameter name and value concatenated\n",
        "    \"\"\"\n",
        "    path = \"model_{0}_bs{1}_lr{2}_epoch{3}\".format(name,\n",
        "                                                   batch_size,\n",
        "                                                   learning_rate,\n",
        "                                                   epoch)\n",
        "    return path"
      ],
      "execution_count": 11,
      "outputs": []
    },
    {
      "cell_type": "code",
      "metadata": {
        "id": "ghv1NwUMAeEo"
      },
      "source": [
        "def get_accuracy(model, data_loader):\n",
        "    correct = 0\n",
        "    total = 0\n",
        "    for imgs, labels in data_loader:\n",
        "        \n",
        "        if use_cuda and torch.cuda.is_available():\n",
        "          imgs = imgs.cuda()\n",
        "          labels = labels.cuda()\n",
        "\n",
        "        output = model(imgs)\n",
        "        #select index with maximum prediction score\n",
        "        pred = output.max(1, keepdim=True)[1]\n",
        "        correct += pred.eq(labels.view_as(pred)).sum().item()\n",
        "        total += imgs.shape[0]\n",
        "    return correct / total"
      ],
      "execution_count": 6,
      "outputs": []
    },
    {
      "cell_type": "code",
      "metadata": {
        "id": "xJFaKr-k-ZH3"
      },
      "source": [
        "def train_net(model,target_classes,train_loader,val_loader, batch_size=64, learn_rate=0.001, num_epochs=30):\n",
        "    ########################################################################\n",
        "    ########################################################################\n",
        "    # Fixed PyTorch random seed for reproducible result\n",
        "    torch.manual_seed(1000)\n",
        "    ########################################################################\n",
        "    ########################################################################\n",
        "    # Define the Loss function and optimizer\n",
        "    # The loss function will be Cross Entropy,which will apply softmax to the output layer\n",
        "    criterion = nn.CrossEntropyLoss()\n",
        "    optimizer = optim.Adam(model.parameters(), lr=learn_rate)\n",
        "    \n",
        "\n",
        "    ########################################################################\n",
        "    # Set up some numpy arrays to store the training/test loss/erruracy\n",
        "    train_acc = np.zeros(num_epochs)\n",
        "    train_loss = np.zeros(num_epochs)\n",
        "    val_acc = np.zeros(num_epochs)\n",
        "    val_loss = np.zeros(num_epochs)\n",
        "    ########################################################################\n",
        "    # Train the network\n",
        "    # Loop over the data iterator and sample a new batch of training data\n",
        "    # Get the output from the network, and optimize our loss function.\n",
        "    start_time=time.time()\n",
        "    \n",
        "    for epoch in range(num_epochs):  # loop over the dataset multiple times\n",
        "        total_train_loss = 0.0\n",
        "        total_train_acc = 0.0\n",
        "        total_epoch = 0\n",
        "        for imgs, labels in iter(train_loader):\n",
        "\n",
        "            if use_cuda and torch.cuda.is_available():\n",
        "              imgs = imgs.cuda()\n",
        "              labels = labels.cuda()\n",
        "\n",
        "            # Forward pass, backward pass, and optimize\n",
        "            outputs = model(imgs)\n",
        "            loss = criterion(outputs, labels)\n",
        "            loss.backward()\n",
        "            optimizer.step()\n",
        "            optimizer.zero_grad()         # a clean up step for PyTorch\n",
        "\n",
        "            # Calculate the statistics\n",
        "            total_train_loss += loss.item()\n",
        "            total_epoch += len(labels)\n",
        "        train_loss[epoch] = float(total_train_loss) / (batch_size)\n",
        "        train_acc[epoch]= get_accuracy(model, train_loader)\n",
        "        val_acc[epoch] = get_accuracy(model, val_loader)\n",
        "        print((\"Epoch {}: Train acc: {}, Train loss: {} |\"+\n",
        "               \"Validation acc: {}\").format(\n",
        "                   epoch + 1,\n",
        "                   train_acc[epoch],\n",
        "                   train_loss[epoch],\n",
        "                   val_acc[epoch]\n",
        "                   ))\n",
        "        # Save the current model (checkpoint) to a file\n",
        "        model_path = get_model_name(model.name, batch_size, learn_rate, epoch)\n",
        "        torch.save(model.state_dict(), model_path)\n",
        "    print('Finished Training')\n",
        "\n",
        "    end_time= time.time()\n",
        "\n",
        "    # Write the train/test loss/err into CSV file \n",
        "    epochs = np.arange(1, num_epochs + 1)\n",
        "    np.savetxt(\"{}_train_acc.csv\".format(model_path), train_acc)\n",
        "    np.savetxt(\"{}_train_loss.csv\".format(model_path), train_loss)\n",
        "    np.savetxt(\"{}_val_acc.csv\".format(model_path), val_acc)\n",
        "\n",
        "\n",
        "    print(\"Final Training Accuracy: {}\".format(train_acc[-1]))\n",
        "    print(\"Final Validation Accuracy: {}\".format(val_acc[-1]))\n",
        "    print(\"Total time: \" , (end_time-start_time))\n",
        "\n",
        "\n",
        "    # plotting\n",
        "    plt.title(\"Training Curve\")\n",
        "    plt.plot(epochs, train_loss, label=\"Train\")\n",
        "    plt.xlabel(\"Iterations\")\n",
        "    plt.ylabel(\"Loss\")\n",
        "    plt.show()\n",
        "\n",
        "    plt.title(\"Training Curve\")\n",
        "    plt.plot(epochs, train_acc, label=\"Train\")\n",
        "    plt.plot(epochs, val_acc, label=\"Validation\")\n",
        "    plt.xlabel(\"Iterations\")\n",
        "    plt.ylabel(\"Accuracy\")\n",
        "    plt.legend(loc='best')\n",
        "    plt.show()"
      ],
      "execution_count": 7,
      "outputs": []
    },
    {
      "cell_type": "markdown",
      "metadata": {
        "id": "EB6TWpTpBWVj"
      },
      "source": [
        "TO DO: Hyper parameter tuning"
      ]
    },
    {
      "cell_type": "code",
      "metadata": {
        "colab": {
          "base_uri": "https://localhost:8080/",
          "height": 1000
        },
        "id": "hSEL5Um6Smgp",
        "outputId": "4e205446-debd-451f-9cc6-188666ce4f27"
      },
      "source": [
        "use_cuda = True\n",
        "classes = ['Shirt', 'Jeans', 'Lounge Pants', 'Shorts', 'Skirt', 'Sweater', 'Dress', 'Jacket']\n",
        "\n",
        "model=CNN_VGG()\n",
        "#Modify\n",
        "if use_cuda and torch.cuda.is_available():\n",
        "    model.cuda()\n",
        "train_net(model, classes,train_feature_loader, val_feature_loader, batch_size=64, num_epochs=70, learn_rate = 0.001)"
      ],
      "execution_count": 12,
      "outputs": [
        {
          "output_type": "stream",
          "text": [
            "Epoch 1: Train acc: 0.8518436250555309, Train loss: 1.9229229390621185 |Validation acc: 0.7239758226997985\n",
            "Epoch 2: Train acc: 0.9063749444691248, Train loss: 0.9707602905109525 |Validation acc: 0.7172599059771659\n",
            "Epoch 3: Train acc: 0.9494669035984007, Train loss: 0.607623711694032 |Validation acc: 0.7209536601746138\n",
            "Epoch 4: Train acc: 0.9482452243447357, Train loss: 0.34741408191621304 |Validation acc: 0.7286769644056413\n",
            "Epoch 5: Train acc: 0.9888938249666814, Train loss: 0.22300516412360594 |Validation acc: 0.7320349227669577\n",
            "Epoch 6: Train acc: 0.9938916037316748, Train loss: 0.11417948866437655 |Validation acc: 0.7159167226326394\n",
            "Epoch 7: Train acc: 0.9985561972456686, Train loss: 0.06452939214068465 |Validation acc: 0.7357286769644057\n",
            "Epoch 8: Train acc: 0.9996668147490004, Train loss: 0.034012006159173325 |Validation acc: 0.7333781061114842\n",
            "Epoch 9: Train acc: 0.9997778764993336, Train loss: 0.0232423270081199 |Validation acc: 0.7390866353257219\n",
            "Epoch 10: Train acc: 1.0, Train loss: 0.012499247164669214 |Validation acc: 0.7364002686366689\n",
            "Epoch 11: Train acc: 1.0, Train loss: 0.008623874196928227 |Validation acc: 0.7390866353257219\n",
            "Epoch 12: Train acc: 1.0, Train loss: 0.006489430838882981 |Validation acc: 0.7337139019476159\n",
            "Epoch 13: Train acc: 1.0, Train loss: 0.004907505654045963 |Validation acc: 0.7357286769644057\n",
            "Epoch 14: Train acc: 1.0, Train loss: 0.00404991060258908 |Validation acc: 0.7353928811282741\n",
            "Epoch 15: Train acc: 1.0, Train loss: 0.0033200701691384893 |Validation acc: 0.7367360644728005\n",
            "Epoch 16: Train acc: 1.0, Train loss: 0.0028594865466402553 |Validation acc: 0.7374076561450638\n",
            "Epoch 17: Train acc: 1.0, Train loss: 0.0024085557633952703 |Validation acc: 0.7330423102753526\n",
            "Epoch 18: Train acc: 1.0, Train loss: 0.0021071581895739655 |Validation acc: 0.7367360644728005\n",
            "Epoch 19: Train acc: 1.0, Train loss: 0.001793602899851976 |Validation acc: 0.7360644728005373\n",
            "Epoch 20: Train acc: 1.0, Train loss: 0.0016162053716470837 |Validation acc: 0.7353928811282741\n",
            "Epoch 21: Train acc: 1.0, Train loss: 0.001404951613949379 |Validation acc: 0.7353928811282741\n",
            "Epoch 22: Train acc: 1.0, Train loss: 0.0012206622893700114 |Validation acc: 0.7347212894560108\n",
            "Epoch 23: Train acc: 1.0, Train loss: 0.001092196707986659 |Validation acc: 0.7360644728005373\n",
            "Epoch 24: Train acc: 1.0, Train loss: 0.0009674565719706152 |Validation acc: 0.7350570852921424\n",
            "Epoch 25: Train acc: 1.0, Train loss: 0.0008571912669594894 |Validation acc: 0.7343854936198791\n",
            "Epoch 26: Train acc: 1.0, Train loss: 0.000781367322360893 |Validation acc: 0.7343854936198791\n",
            "Epoch 27: Train acc: 1.0, Train loss: 0.0006959183690469217 |Validation acc: 0.7350570852921424\n",
            "Epoch 28: Train acc: 1.0, Train loss: 0.0006207443407220126 |Validation acc: 0.7350570852921424\n",
            "Epoch 29: Train acc: 1.0, Train loss: 0.0005618678494556661 |Validation acc: 0.7347212894560108\n",
            "Epoch 30: Train acc: 1.0, Train loss: 0.0005069081948931853 |Validation acc: 0.7333781061114842\n",
            "Epoch 31: Train acc: 1.0, Train loss: 0.00045637452603841666 |Validation acc: 0.7347212894560108\n",
            "Epoch 32: Train acc: 1.0, Train loss: 0.00041404221337870695 |Validation acc: 0.7343854936198791\n",
            "Epoch 33: Train acc: 1.0, Train loss: 0.0003793257575352982 |Validation acc: 0.7337139019476159\n",
            "Epoch 34: Train acc: 1.0, Train loss: 0.0003434924800558292 |Validation acc: 0.7340496977837475\n",
            "Epoch 35: Train acc: 1.0, Train loss: 0.0003094276692081621 |Validation acc: 0.7357286769644057\n",
            "Epoch 36: Train acc: 1.0, Train loss: 0.0002828663473337656 |Validation acc: 0.7347212894560108\n",
            "Epoch 37: Train acc: 1.0, Train loss: 0.00025801352342114114 |Validation acc: 0.7357286769644057\n",
            "Epoch 38: Train acc: 1.0, Train loss: 0.00023805413633226635 |Validation acc: 0.7370718603089321\n",
            "Epoch 39: Train acc: 1.0, Train loss: 0.00021544070199297494 |Validation acc: 0.7367360644728005\n",
            "Epoch 40: Train acc: 1.0, Train loss: 0.00019715780985052334 |Validation acc: 0.7353928811282741\n",
            "Epoch 41: Train acc: 1.0, Train loss: 0.00017989559341913264 |Validation acc: 0.7347212894560108\n",
            "Epoch 42: Train acc: 1.0, Train loss: 0.00016530334772824062 |Validation acc: 0.7330423102753526\n",
            "Epoch 43: Train acc: 1.0, Train loss: 0.0001509397980328231 |Validation acc: 0.7357286769644057\n",
            "Epoch 44: Train acc: 1.0, Train loss: 0.00013790447295036756 |Validation acc: 0.7350570852921424\n",
            "Epoch 45: Train acc: 1.0, Train loss: 0.0001275618121781008 |Validation acc: 0.7340496977837475\n",
            "Epoch 46: Train acc: 1.0, Train loss: 0.0001157126789053109 |Validation acc: 0.7357286769644057\n",
            "Epoch 47: Train acc: 1.0, Train loss: 0.00010633579165642004 |Validation acc: 0.7343854936198791\n",
            "Epoch 48: Train acc: 1.0, Train loss: 9.794143650765363e-05 |Validation acc: 0.7347212894560108\n",
            "Epoch 49: Train acc: 1.0, Train loss: 8.944165003299531e-05 |Validation acc: 0.7360644728005373\n",
            "Epoch 50: Train acc: 1.0, Train loss: 8.229334443399239e-05 |Validation acc: 0.7350570852921424\n",
            "Epoch 51: Train acc: 1.0, Train loss: 7.582290760410615e-05 |Validation acc: 0.7347212894560108\n",
            "Epoch 52: Train acc: 1.0, Train loss: 6.975179677226606e-05 |Validation acc: 0.7337139019476159\n",
            "Epoch 53: Train acc: 1.0, Train loss: 6.41476920222317e-05 |Validation acc: 0.7353928811282741\n",
            "Epoch 54: Train acc: 1.0, Train loss: 5.880853787232354e-05 |Validation acc: 0.7333781061114842\n",
            "Epoch 55: Train acc: 1.0, Train loss: 5.429642021681502e-05 |Validation acc: 0.7333781061114842\n",
            "Epoch 56: Train acc: 1.0, Train loss: 4.961143450543659e-05 |Validation acc: 0.7343854936198791\n",
            "Epoch 57: Train acc: 1.0, Train loss: 4.565021184532725e-05 |Validation acc: 0.7347212894560108\n",
            "Epoch 58: Train acc: 1.0, Train loss: 4.201602808251437e-05 |Validation acc: 0.732706514439221\n",
            "Epoch 59: Train acc: 1.0, Train loss: 3.846710096411243e-05 |Validation acc: 0.7337139019476159\n",
            "Epoch 60: Train acc: 1.0, Train loss: 3.5672153671839624e-05 |Validation acc: 0.7333781061114842\n",
            "Epoch 61: Train acc: 1.0, Train loss: 3.271653181968759e-05 |Validation acc: 0.732706514439221\n",
            "Epoch 62: Train acc: 1.0, Train loss: 3.0209449505491648e-05 |Validation acc: 0.7330423102753526\n",
            "Epoch 63: Train acc: 1.0, Train loss: 2.7549743187194053e-05 |Validation acc: 0.7320349227669577\n",
            "Epoch 64: Train acc: 1.0, Train loss: 2.557304017614115e-05 |Validation acc: 0.732706514439221\n",
            "Epoch 65: Train acc: 1.0, Train loss: 2.3374556725741513e-05 |Validation acc: 0.7330423102753526\n",
            "Epoch 66: Train acc: 1.0, Train loss: 2.171079175639079e-05 |Validation acc: 0.732706514439221\n",
            "Epoch 67: Train acc: 1.0, Train loss: 1.9778857506480563e-05 |Validation acc: 0.732706514439221\n",
            "Epoch 68: Train acc: 1.0, Train loss: 1.8300058400200214e-05 |Validation acc: 0.732706514439221\n",
            "Epoch 69: Train acc: 1.0, Train loss: 1.7089387359447983e-05 |Validation acc: 0.7323707186030893\n",
            "Epoch 70: Train acc: 1.0, Train loss: 1.5509614549102935e-05 |Validation acc: 0.7316991269308261\n",
            "Finished Training\n",
            "Final Training Accuracy: 1.0\n",
            "Final Validation Accuracy: 0.7316991269308261\n",
            "Total time:  8830.257740736008\n"
          ],
          "name": "stdout"
        },
        {
          "output_type": "display_data",
          "data": {
            "image/png": "[encoded data removed]",
            "text/plain": [
              "<Figure size 432x288 with 1 Axes>"
            ]
          },
          "metadata": {
            "tags": [],
            "needs_background": "light"
          }
        },
        {
          "output_type": "display_data",
          "data": {
            "image/png": "[encoded data removed]",
            "text/plain": [
              "<Figure size 432x288 with 1 Axes>"
            ]
          },
          "metadata": {
            "tags": [],
            "needs_background": "light"
          }
        }
      ]
    },
    {
      "cell_type": "code",
      "metadata": {
        "id": "Vz7cYlxCivBq"
      },
      "source": [
        "torch.save(model.state_dict(), \"/content/gdrive/My Drive/Colab Notebooks/CNN_16K_vgg\")"
      ],
      "execution_count": null,
      "outputs": []
    },
    {
      "cell_type": "code",
      "metadata": {
        "id": "WqEX-VySi_Bd",
        "colab": {
          "base_uri": "https://localhost:8080/"
        },
        "outputId": "6af881df-5793-480f-bf4f-020c04a4f7d3"
      },
      "source": [
        "model.load_state_dict(torch.load(\"/content/gdrive/My Drive/Colab Notebooks/CNN_16K_VGG\"))"
      ],
      "execution_count": null,
      "outputs": [
        {
          "output_type": "execute_result",
          "data": {
            "text/plain": [
              "<All keys matched successfully>"
            ]
          },
          "metadata": {
            "tags": []
          },
          "execution_count": 12
        }
      ]
    },
    {
      "cell_type": "code",
      "metadata": {
        "id": "-mZxRKLHjBlI",
        "colab": {
          "base_uri": "https://localhost:8080/"
        },
        "outputId": "80be35ff-c076-48d5-da19-049a8a49a974"
      },
      "source": [
        "get_accuracy(model,train_feature_loader)"
      ],
      "execution_count": null,
      "outputs": [
        {
          "output_type": "execute_result",
          "data": {
            "text/plain": [
              "0.997288191305777"
            ]
          },
          "metadata": {
            "tags": []
          },
          "execution_count": 13
        }
      ]
    },
    {
      "cell_type": "code",
      "metadata": {
        "id": "tSeXDfKwFC1u",
        "colab": {
          "base_uri": "https://localhost:8080/"
        },
        "outputId": "9e01bdbc-a389-4158-8700-4797135a118c"
      },
      "source": [
        "get_accuracy(model,test_feature_loader)"
      ],
      "execution_count": 13,
      "outputs": [
        {
          "output_type": "execute_result",
          "data": {
            "text/plain": [
              "0.7534791252485089"
            ]
          },
          "metadata": {
            "tags": []
          },
          "execution_count": 13
        }
      ]
    },
    {
      "cell_type": "code",
      "metadata": {
        "id": "RtelXbXc41gv"
      },
      "source": [
        "def get_confusion_matrix(model, data_loader):\n",
        "    correct = 0\n",
        "    total = 0\n",
        "    nb_classes = 8\n",
        "\n",
        "    confusion_matrix = torch.zeros(nb_classes, nb_classes)\n",
        "    with torch.no_grad():\n",
        "\n",
        "      for imgs, labels in data_loader:\n",
        "        \n",
        "        if use_cuda and torch.cuda.is_available():\n",
        "          imgs = imgs.cuda()\n",
        "          labels = labels.cuda()\n",
        "\n",
        "        output = model(imgs)\n",
        "        #select index with maximum prediction score\n",
        "        pred = output.max(1, keepdim=True)[1]\n",
        "        \n",
        "        for t, p in zip(labels.view(-1), pred.view(-1)):\n",
        "                confusion_matrix[t.long(), p.long()] += 1\n",
        "\n",
        "    \n",
        "    print(confusion_matrix)\n",
        "    print(confusion_matrix.diag()/confusion_matrix.sum(1))\n",
        "    # Visualize it as a heatmap\n",
        "    import seaborn\n",
        "    seaborn.heatmap(confusion_matrix)\n",
        "    plt.show()"
      ],
      "execution_count": 14,
      "outputs": []
    },
    {
      "cell_type": "code",
      "metadata": {
        "id": "s5nhR6QEml0q",
        "colab": {
          "base_uri": "https://localhost:8080/",
          "height": 418
        },
        "outputId": "2d277f96-c250-4a55-cce5-72486f9af66d"
      },
      "source": [
        "get_confusion_matrix(model,test_feature_loader)"
      ],
      "execution_count": 15,
      "outputs": [
        {
          "output_type": "stream",
          "text": [
            "tensor([[346.,  12.,   3.,   3.,  13.,   1.,   4.,   8.],\n",
            "        [ 15., 278.,   2.,   2.,  23.,   6.,   8.,  41.],\n",
            "        [  3.,   2., 286.,  72.,   0.,  15.,   3.,   0.],\n",
            "        [  1.,   0.,  49., 288.,   1.,  13.,  20.,   0.],\n",
            "        [ 12.,  21.,   0.,   2., 257.,   5.,   5.,  57.],\n",
            "        [  3.,   5.,  12.,  22.,   2., 306.,  42.,   8.],\n",
            "        [  5.,   8.,  13.,  10.,   5.,  63., 258.,   4.],\n",
            "        [ 12.,  48.,   0.,   5.,  46.,   5.,   4., 255.]])\n",
            "tensor([0.8872, 0.7413, 0.7507, 0.7742, 0.7159, 0.7650, 0.7049, 0.6800])\n"
          ],
          "name": "stdout"
        },
        {
          "output_type": "display_data",
          "data": {
            "image/png": "[encoded data removed]",
            "text/plain": [
              "<Figure size 432x288 with 2 Axes>"
            ]
          },
          "metadata": {
            "tags": [],
            "needs_background": "light"
          }
        }
      ]
    }
  ]
}