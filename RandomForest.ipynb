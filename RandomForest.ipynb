{
  "nbformat": 4,
  "nbformat_minor": 0,
  "metadata": {
    "colab": {
      "name": "RandomForest.ipynb",
      "provenance": [],
      "collapsed_sections": [],
      "machine_shape": "hm",
      "include_colab_link": true
    },
    "kernelspec": {
      "display_name": "Python 3",
      "name": "python3"
    }
  },
  "cells": [
    {
      "cell_type": "markdown",
      "metadata": {
        "id": "view-in-github",
        "colab_type": "text"
      },
      "source": [
        "<a href=\"https://colab.research.google.com/github/fnavab/APS360-project/blob/main/RandomForest.ipynb\" target=\"_parent\"><img src=\"https://colab.research.google.com/assets/colab-badge.svg\" alt=\"Open In Colab\"/></a>"
      ]
    },
    {
      "cell_type": "code",
      "metadata": {
        "id": "mJkYunPh47gd",
        "colab": {
          "base_uri": "https://localhost:8080/"
        },
        "outputId": "f136f7fe-eda4-49db-f115-58804fea7fcd"
      },
      "source": [
        "#Data loading\n",
        "from google.colab import drive\n",
        "drive.mount('/content/gdrive')"
      ],
      "execution_count": 1,
      "outputs": [
        {
          "output_type": "stream",
          "text": [
            "Mounted at /content/gdrive\n"
          ],
          "name": "stdout"
        }
      ]
    },
    {
      "cell_type": "code",
      "metadata": {
        "id": "xA1h51negMvA"
      },
      "source": [
        "import random\n",
        "import torchvision.transforms as transforms\n",
        "import torch\n",
        "import numpy as np\n",
        "import os\n",
        "import torchvision\n",
        "from torch.utils.data.sampler import SubsetRandomSampler\n",
        "import matplotlib.pyplot as plt\n",
        "from sklearn.model_selection import train_test_split\n",
        "from sklearn.utils import shuffle"
      ],
      "execution_count": 2,
      "outputs": []
    },
    {
      "cell_type": "code",
      "metadata": {
        "id": "SWW5sbYbfx4k"
      },
      "source": [
        "  train_dir = '/content/gdrive/My Drive/Colab Notebooks/8k-features/train'\n",
        "  trainset = torchvision.datasets.DatasetFolder(train_dir, loader=torch.load, extensions=('.tensor'))"
      ],
      "execution_count": 3,
      "outputs": []
    },
    {
      "cell_type": "code",
      "metadata": {
        "id": "FZrdaQ7ljIbB"
      },
      "source": [
        "test_dir = '/content/gdrive/My Drive/Colab Notebooks/8k-features/test'\n",
        "\n",
        "test_set = torchvision.datasets.DatasetFolder(test_dir, loader=torch.load, extensions=('.tensor'))"
      ],
      "execution_count": 4,
      "outputs": []
    },
    {
      "cell_type": "code",
      "metadata": {
        "id": "P8jgMD8XjU68"
      },
      "source": [
        "val_dir = '/content/gdrive/My Drive/Colab Notebooks/8k-features/val'\n",
        "val_set= torchvision.datasets.DatasetFolder(val_dir, loader=torch.load, extensions=('.tensor'))\n"
      ],
      "execution_count": 5,
      "outputs": []
    },
    {
      "cell_type": "code",
      "metadata": {
        "id": "Cp3YwnajjQe1",
        "colab": {
          "base_uri": "https://localhost:8080/"
        },
        "outputId": "b5879f6b-7ee0-45e2-ae03-c35e7df7edbc"
      },
      "source": [
        "len(test_set)"
      ],
      "execution_count": 6,
      "outputs": [
        {
          "output_type": "execute_result",
          "data": {
            "text/plain": [
              "1600"
            ]
          },
          "metadata": {
            "tags": []
          },
          "execution_count": 6
        }
      ]
    },
    {
      "cell_type": "code",
      "metadata": {
        "id": "AMb1w1fejTip",
        "colab": {
          "base_uri": "https://localhost:8080/"
        },
        "outputId": "4fcc6ad3-3be2-47db-d344-c5d3098c0c94"
      },
      "source": [
        "len(val_set)"
      ],
      "execution_count": 7,
      "outputs": [
        {
          "output_type": "execute_result",
          "data": {
            "text/plain": [
              "1600"
            ]
          },
          "metadata": {
            "tags": []
          },
          "execution_count": 7
        }
      ]
    },
    {
      "cell_type": "code",
      "metadata": {
        "id": "q7Oen9dpgZBb",
        "colab": {
          "base_uri": "https://localhost:8080/"
        },
        "outputId": "3adeaf2d-ca34-46b4-c35d-fe9067dc279c"
      },
      "source": [
        "len(trainset)"
      ],
      "execution_count": 9,
      "outputs": [
        {
          "output_type": "execute_result",
          "data": {
            "text/plain": [
              "8000"
            ]
          },
          "metadata": {
            "tags": []
          },
          "execution_count": 9
        }
      ]
    },
    {
      "cell_type": "code",
      "metadata": {
        "id": "8DJyiLHwsGqq"
      },
      "source": [
        "X_test = np.array([x.numpy() for x,_ in test_set])\n",
        "y_test= np.array([y for _,y in test_set])\n",
        "\n",
        "X_test = X_test.reshape((X_test.shape[0], -1))\n"
      ],
      "execution_count": 10,
      "outputs": []
    },
    {
      "cell_type": "code",
      "metadata": {
        "id": "eJ3T6meLvP57"
      },
      "source": [
        "X_val = np.array([x.numpy() for x,_ in val_set])\n",
        "y_val= np.array([y for _,y in val_set])\n",
        "\n",
        "X_val = X_val.reshape((X_val.shape[0],-1))"
      ],
      "execution_count": 14,
      "outputs": []
    },
    {
      "cell_type": "code",
      "metadata": {
        "id": "Reb1RKw7CjsT"
      },
      "source": [
        "\n",
        "X_train = np.array([x.numpy() for x,_ in trainset])\n",
        "y_train= np.array([y for _,y in trainset])\n",
        "\n",
        "X_train = X_train.reshape((X_train.shape[0],-1))\n"
      ],
      "execution_count": 15,
      "outputs": []
    },
    {
      "cell_type": "code",
      "metadata": {
        "id": "ta26V_XYvGEb",
        "colab": {
          "base_uri": "https://localhost:8080/"
        },
        "outputId": "65316ae2-09f7-4cef-ae87-12762cd852ea"
      },
      "source": [
        "# Random Forest\n",
        "from sklearn.ensemble import RandomForestClassifier\n",
        "from sklearn.metrics import accuracy_score,confusion_matrix\n",
        "\n",
        "#TUNE n_estimators\n",
        "model = RandomForestClassifier(n_estimators=6, criterion=\"entropy\")\n",
        "\n",
        "# Fit the model to our training data\n",
        "model.fit(X_train, y_train)\n",
        "\n",
        "# Make predictions\n",
        "testing_predicted = model.predict(X_test)\n",
        "score=accuracy_score(testing_predicted,y_test)\n",
        "print(\"RF Test:\", score)"
      ],
      "execution_count": 19,
      "outputs": [
        {
          "output_type": "stream",
          "text": [
            "RF Test: 0.96875\n"
          ],
          "name": "stdout"
        }
      ]
    },
    {
      "cell_type": "code",
      "metadata": {
        "id": "AegyZZGK2mWC"
      },
      "source": [
        "n_estimators = [1, 2, 4, 8, 16, 32, 64, 100, 200]\n",
        "train_results = []\n",
        "val_results = []\n",
        "for estimator in n_estimators:\n",
        "   rf = RandomForestClassifier(n_estimators=estimator, criterion=\"entropy\")\n",
        "   rf.fit(X_train, y_train)\n",
        "   train_pred = rf.predict(X_train)\n",
        "   train_score=accuracy_score(train_pred,y_train)\n",
        "   train_results.append(train_score)\n",
        "   val_pred = rf.predict(X_val)\n",
        "   val_score=accuracy_score(val_pred,y_val)\n",
        "   val_results.append(val_score)\n",
        "\n",
        "\n",
        "plt.title(\"Training Curve\")\n",
        "plt.plot(n_estimators, train_results, label=\"Train\")\n",
        "plt.plot(n_estimators, val_results, label=\"Validation\")\n",
        "plt.xlabel(\"estimators number\")\n",
        "plt.ylabel(\"Accuracy\")\n",
        "plt.legend(loc='best')\n",
        "plt.show() \n"
      ],
      "execution_count": null,
      "outputs": []
    },
    {
      "cell_type": "code",
      "metadata": {
        "id": "-ZWk9zBRSApV"
      },
      "source": [
        "max_depths = np.linspace(1, 32, 32, endpoint=True)\n",
        "\n",
        "train_results = []\n",
        "val_results = []\n",
        "for max_depth in max_depths:\n",
        "   rf = RandomForestClassifier(n_estimators=10, criterion=\"entropy\", max_depth=max_depth)\n",
        "   rf.fit(X_train, y_train)\n",
        "   train_pred = rf.predict(X_train)\n",
        "   train_score=accuracy_score(train_pred,y_train)\n",
        "   train_results.append(train_score)\n",
        "   val_pred = rf.predict(X_val)\n",
        "   val_score=accuracy_score(val_pred,y_val)\n",
        "   val_results.append(val_score)\n",
        "\n",
        "\n",
        "plt.title(\"Training Curve\")\n",
        "plt.plot(max_depths, train_results, label=\"Train\")\n",
        "plt.plot(max_depths, val_results, label=\"Validation\")\n",
        "plt.xlabel(\"max depths\")\n",
        "plt.ylabel(\"Accuracy\")\n",
        "plt.legend(loc='best')\n",
        "plt.show() "
      ],
      "execution_count": null,
      "outputs": []
    }
  ]
}