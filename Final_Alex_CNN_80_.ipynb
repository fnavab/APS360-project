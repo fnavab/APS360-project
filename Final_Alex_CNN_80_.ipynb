{
  "nbformat": 4,
  "nbformat_minor": 0,
  "metadata": {
    "colab": {
      "name": "Copy of Final-Alex_CNN_80%.ipynb",
      "provenance": [],
      "collapsed_sections": [],
      "machine_shape": "hm",
      "include_colab_link": true
    },
    "kernelspec": {
      "name": "python3",
      "display_name": "Python 3"
    },
    "accelerator": "GPU",
    "widgets": {
      "application/vnd.jupyter.widget-state+json": {
        "346375d41aee455ab71a741810610b7e": {
          "model_module": "@jupyter-widgets/controls",
          "model_name": "HBoxModel",
          "state": {
            "_view_name": "HBoxView",
            "_dom_classes": [],
            "_model_name": "HBoxModel",
            "_view_module": "@jupyter-widgets/controls",
            "_model_module_version": "1.5.0",
            "_view_count": null,
            "_view_module_version": "1.5.0",
            "box_style": "",
            "layout": "IPY_MODEL_812fbe353d894bfbaf1d69c4f636c865",
            "_model_module": "@jupyter-widgets/controls",
            "children": [
              "IPY_MODEL_a55e7b67e14f422788a52019eb4a66be",
              "IPY_MODEL_b1561389437d4c57b35313825cd526d8"
            ]
          }
        },
        "812fbe353d894bfbaf1d69c4f636c865": {
          "model_module": "@jupyter-widgets/base",
          "model_name": "LayoutModel",
          "state": {
            "_view_name": "LayoutView",
            "grid_template_rows": null,
            "right": null,
            "justify_content": null,
            "_view_module": "@jupyter-widgets/base",
            "overflow": null,
            "_model_module_version": "1.2.0",
            "_view_count": null,
            "flex_flow": null,
            "width": null,
            "min_width": null,
            "border": null,
            "align_items": null,
            "bottom": null,
            "_model_module": "@jupyter-widgets/base",
            "top": null,
            "grid_column": null,
            "overflow_y": null,
            "overflow_x": null,
            "grid_auto_flow": null,
            "grid_area": null,
            "grid_template_columns": null,
            "flex": null,
            "_model_name": "LayoutModel",
            "justify_items": null,
            "grid_row": null,
            "max_height": null,
            "align_content": null,
            "visibility": null,
            "align_self": null,
            "height": null,
            "min_height": null,
            "padding": null,
            "grid_auto_rows": null,
            "grid_gap": null,
            "max_width": null,
            "order": null,
            "_view_module_version": "1.2.0",
            "grid_template_areas": null,
            "object_position": null,
            "object_fit": null,
            "grid_auto_columns": null,
            "margin": null,
            "display": null,
            "left": null
          }
        },
        "a55e7b67e14f422788a52019eb4a66be": {
          "model_module": "@jupyter-widgets/controls",
          "model_name": "FloatProgressModel",
          "state": {
            "_view_name": "ProgressView",
            "style": "IPY_MODEL_ff78e64a666f4748be63c11fd722f711",
            "_dom_classes": [],
            "description": "100%",
            "_model_name": "FloatProgressModel",
            "bar_style": "success",
            "max": 244418560,
            "_view_module": "@jupyter-widgets/controls",
            "_model_module_version": "1.5.0",
            "value": 244418560,
            "_view_count": null,
            "_view_module_version": "1.5.0",
            "orientation": "horizontal",
            "min": 0,
            "description_tooltip": null,
            "_model_module": "@jupyter-widgets/controls",
            "layout": "IPY_MODEL_6f4fa058f7c74d42983c054480280671"
          }
        },
        "b1561389437d4c57b35313825cd526d8": {
          "model_module": "@jupyter-widgets/controls",
          "model_name": "HTMLModel",
          "state": {
            "_view_name": "HTMLView",
            "style": "IPY_MODEL_9e1c14fb8304422bb2e2f24545fba3bb",
            "_dom_classes": [],
            "description": "",
            "_model_name": "HTMLModel",
            "placeholder": "​",
            "_view_module": "@jupyter-widgets/controls",
            "_model_module_version": "1.5.0",
            "value": " 233M/233M [00:23&lt;00:00, 10.2MB/s]",
            "_view_count": null,
            "_view_module_version": "1.5.0",
            "description_tooltip": null,
            "_model_module": "@jupyter-widgets/controls",
            "layout": "IPY_MODEL_da4a59ccc41b4b2d9b18ef7b574ac3b0"
          }
        },
        "ff78e64a666f4748be63c11fd722f711": {
          "model_module": "@jupyter-widgets/controls",
          "model_name": "ProgressStyleModel",
          "state": {
            "_view_name": "StyleView",
            "_model_name": "ProgressStyleModel",
            "description_width": "initial",
            "_view_module": "@jupyter-widgets/base",
            "_model_module_version": "1.5.0",
            "_view_count": null,
            "_view_module_version": "1.2.0",
            "bar_color": null,
            "_model_module": "@jupyter-widgets/controls"
          }
        },
        "6f4fa058f7c74d42983c054480280671": {
          "model_module": "@jupyter-widgets/base",
          "model_name": "LayoutModel",
          "state": {
            "_view_name": "LayoutView",
            "grid_template_rows": null,
            "right": null,
            "justify_content": null,
            "_view_module": "@jupyter-widgets/base",
            "overflow": null,
            "_model_module_version": "1.2.0",
            "_view_count": null,
            "flex_flow": null,
            "width": null,
            "min_width": null,
            "border": null,
            "align_items": null,
            "bottom": null,
            "_model_module": "@jupyter-widgets/base",
            "top": null,
            "grid_column": null,
            "overflow_y": null,
            "overflow_x": null,
            "grid_auto_flow": null,
            "grid_area": null,
            "grid_template_columns": null,
            "flex": null,
            "_model_name": "LayoutModel",
            "justify_items": null,
            "grid_row": null,
            "max_height": null,
            "align_content": null,
            "visibility": null,
            "align_self": null,
            "height": null,
            "min_height": null,
            "padding": null,
            "grid_auto_rows": null,
            "grid_gap": null,
            "max_width": null,
            "order": null,
            "_view_module_version": "1.2.0",
            "grid_template_areas": null,
            "object_position": null,
            "object_fit": null,
            "grid_auto_columns": null,
            "margin": null,
            "display": null,
            "left": null
          }
        },
        "9e1c14fb8304422bb2e2f24545fba3bb": {
          "model_module": "@jupyter-widgets/controls",
          "model_name": "DescriptionStyleModel",
          "state": {
            "_view_name": "StyleView",
            "_model_name": "DescriptionStyleModel",
            "description_width": "",
            "_view_module": "@jupyter-widgets/base",
            "_model_module_version": "1.5.0",
            "_view_count": null,
            "_view_module_version": "1.2.0",
            "_model_module": "@jupyter-widgets/controls"
          }
        },
        "da4a59ccc41b4b2d9b18ef7b574ac3b0": {
          "model_module": "@jupyter-widgets/base",
          "model_name": "LayoutModel",
          "state": {
            "_view_name": "LayoutView",
            "grid_template_rows": null,
            "right": null,
            "justify_content": null,
            "_view_module": "@jupyter-widgets/base",
            "overflow": null,
            "_model_module_version": "1.2.0",
            "_view_count": null,
            "flex_flow": null,
            "width": null,
            "min_width": null,
            "border": null,
            "align_items": null,
            "bottom": null,
            "_model_module": "@jupyter-widgets/base",
            "top": null,
            "grid_column": null,
            "overflow_y": null,
            "overflow_x": null,
            "grid_auto_flow": null,
            "grid_area": null,
            "grid_template_columns": null,
            "flex": null,
            "_model_name": "LayoutModel",
            "justify_items": null,
            "grid_row": null,
            "max_height": null,
            "align_content": null,
            "visibility": null,
            "align_self": null,
            "height": null,
            "min_height": null,
            "padding": null,
            "grid_auto_rows": null,
            "grid_gap": null,
            "max_width": null,
            "order": null,
            "_view_module_version": "1.2.0",
            "grid_template_areas": null,
            "object_position": null,
            "object_fit": null,
            "grid_auto_columns": null,
            "margin": null,
            "display": null,
            "left": null
          }
        }
      }
    }
  },
  "cells": [
    {
      "cell_type": "markdown",
      "metadata": {
        "id": "view-in-github",
        "colab_type": "text"
      },
      "source": [
        "<a href=\"https://colab.research.google.com/github/fnavab/APS360-project/blob/main/Final_Alex_CNN_80_.ipynb\" target=\"_parent\"><img src=\"https://colab.research.google.com/assets/colab-badge.svg\" alt=\"Open In Colab\"/></a>"
      ]
    },
    {
      "cell_type": "code",
      "metadata": {
        "id": "SX5wXnCGxvbf",
        "colab": {
          "base_uri": "https://localhost:8080/"
        },
        "outputId": "f978fe4e-2a86-4d2c-e4b0-efc2d6cb1d23"
      },
      "source": [
        "#mount googledrive\n",
        "from google.colab import drive\n",
        "drive.mount('/content/gdrive')"
      ],
      "execution_count": 1,
      "outputs": [
        {
          "output_type": "stream",
          "text": [
            "Mounted at /content/gdrive\n"
          ],
          "name": "stdout"
        }
      ]
    },
    {
      "cell_type": "code",
      "metadata": {
        "id": "CgquoQ4wymER"
      },
      "source": [
        "import torch\n",
        "import torch.nn as nn\n",
        "import torch.nn.functional as F\n",
        "import torch.optim as optim\n",
        "import torchvision\n",
        "from torch.utils.data.sampler import SubsetRandomSampler\n",
        "import torchvision.transforms as transforms\n",
        "import numpy as np\n",
        "import time\n",
        "import matplotlib.pyplot as plt\n"
      ],
      "execution_count": 2,
      "outputs": []
    },
    {
      "cell_type": "markdown",
      "metadata": {
        "id": "_4idFFGEndq8"
      },
      "source": [
        "**Only Run the following if you don't have the features of AlexNet**"
      ]
    },
    {
      "cell_type": "code",
      "metadata": {
        "id": "3iLgYmpa45AO",
        "colab": {
          "base_uri": "https://localhost:8080/",
          "height": 154,
          "referenced_widgets": [
            "346375d41aee455ab71a741810610b7e",
            "812fbe353d894bfbaf1d69c4f636c865",
            "a55e7b67e14f422788a52019eb4a66be",
            "b1561389437d4c57b35313825cd526d8",
            "ff78e64a666f4748be63c11fd722f711",
            "6f4fa058f7c74d42983c054480280671",
            "9e1c14fb8304422bb2e2f24545fba3bb",
            "da4a59ccc41b4b2d9b18ef7b574ac3b0"
          ]
        },
        "outputId": "084ffc94-ad57-41e9-8e02-fa34d22d4d7a"
      },
      "source": [
        "import torchvision.models\n",
        "import os\n",
        "alexnet = torchvision.models.alexnet(pretrained=True)\n",
        "\n",
        "# initialize path\n",
        "feature_path = '/content/gdrive/My Drive/Colab Notebooks/combined_features'\n",
        "\n",
        "# Prepare Dataloader \n",
        "dataset= get_data()\n",
        "classes = ['Shirt', 'Jeans', 'Lounge Pants', 'Shorts', 'Skirt', 'Sweater', 'Dress', 'Jacket']\n",
        "train_loader, val_loader, test_loader=get_data_loader(classes=classes, batchsize=1, dataset=dataset)\n",
        "\n",
        "\n",
        "save_features(train_loader,\"train\",feature_path, classes=classes)\n",
        "save_features(val_loader,\"val\",feature_path, classes=classes)\n",
        "save_features(test_loader,\"test\",feature_path, classes=classes)"
      ],
      "execution_count": null,
      "outputs": [
        {
          "output_type": "stream",
          "text": [
            "Downloading: \"https://download.pytorch.org/models/alexnet-owt-4df8aa71.pth\" to /root/.cache/torch/hub/checkpoints/alexnet-owt-4df8aa71.pth\n"
          ],
          "name": "stderr"
        },
        {
          "output_type": "display_data",
          "data": {
            "application/vnd.jupyter.widget-view+json": {
              "model_id": "346375d41aee455ab71a741810610b7e",
              "version_minor": 0,
              "version_major": 2
            },
            "text/plain": [
              "HBox(children=(FloatProgress(value=0.0, max=244418560.0), HTML(value='')))"
            ]
          },
          "metadata": {
            "tags": []
          }
        },
        {
          "output_type": "stream",
          "text": [
            "\n",
            "train features saved\n",
            "val features saved\n",
            "test features saved\n"
          ],
          "name": "stdout"
        }
      ]
    },
    {
      "cell_type": "code",
      "metadata": {
        "id": "4VCtQnKP8IxH"
      },
      "source": [
        "def get_alex_data_loader(batch_size):\n",
        "  train_dir = '/content/gdrive/My Drive/Colab Notebooks/combined_features/train'\n",
        "  test_dir = '/content/gdrive/My Drive/Colab Notebooks/combined_features/test'\n",
        "  val_dir = '/content/gdrive/My Drive/Colab Notebooks/combined_features/val'\n",
        "  train_set = torchvision.datasets.DatasetFolder(train_dir, loader=torch.load, extensions=('.tensor'))\n",
        "  val_set= torchvision.datasets.DatasetFolder(val_dir, loader=torch.load, extensions=('.tensor'))\n",
        "  test_set = torchvision.datasets.DatasetFolder(test_dir, loader=torch.load, extensions=('.tensor'))\n",
        "  torch.manual_seed(1) # set the random seed\n",
        "\n",
        "  num_workers = 1\n",
        "  train_feature_loader = torch.utils.data.DataLoader(train_set, batch_size=batch_size, \n",
        "                                            num_workers=num_workers, shuffle=True)\n",
        "  test_feature_loader = torch.utils.data.DataLoader(test_set, batch_size=batch_size, \n",
        "                                            num_workers=num_workers, shuffle=True)\n",
        "  val_feature_loader = torch.utils.data.DataLoader(val_set, batch_size=batch_size, \n",
        "                                            num_workers=num_workers, shuffle=True)\n",
        "\n",
        "\n",
        "  return train_feature_loader, test_feature_loader,val_feature_loader"
      ],
      "execution_count": 3,
      "outputs": []
    },
    {
      "cell_type": "code",
      "metadata": {
        "id": "8uFWWY_N71cA"
      },
      "source": [
        "#Prepare feature loader\n",
        "train_feature_loader, test_feature_loader,val_feature_loader=get_alex_data_loader(64)"
      ],
      "execution_count": 4,
      "outputs": []
    },
    {
      "cell_type": "code",
      "metadata": {
        "id": "Y4jinHsZ9NhM",
        "colab": {
          "base_uri": "https://localhost:8080/"
        },
        "outputId": "7c9a37af-415d-4a59-eef1-25613ed7bb87"
      },
      "source": [
        "# Verification Step - obtain one batch of features\n",
        "dataiter = iter(val_feature_loader)\n",
        "features, labels = dataiter.next()\n",
        "print(features.shape)\n",
        "print(labels.shape)"
      ],
      "execution_count": 5,
      "outputs": [
        {
          "output_type": "stream",
          "text": [
            "torch.Size([64, 256, 8, 8])\n",
            "torch.Size([64])\n"
          ],
          "name": "stdout"
        }
      ]
    },
    {
      "cell_type": "code",
      "metadata": {
        "id": "JYrbCjmz9T7S"
      },
      "source": [
        "import torch\n",
        "import torch.nn as nn\n",
        "import torch.nn.functional as F\n",
        "\n",
        "class CNN_ALEX(nn.Module):\n",
        "    def __init__(self):\n",
        "        super(CNN_ALEX, self).__init__()\n",
        "        self.name=\"CNN_ALEX\"\n",
        "        # self.conv = nn.Conv2d(256, 10, 5)\n",
        "        # self.pool = nn.MaxPool2d(2, 2)\n",
        "        \n",
        "        self.fc1 = nn.Linear(256 * 8 * 8, 128)\n",
        "        self.fc2 = nn.Linear(128, 8)\n",
        "\n",
        "    def forward(self, x):\n",
        "        # x = self.pool(F.relu(self.conv(x)))\n",
        "\n",
        "        x = x.view(x.shape[0], 256 * 8 * 8) #flatten feature data\n",
        "        x = F.relu(self.fc1(x))\n",
        "        x = self.fc2(x)\n",
        "        x = x.squeeze(1)\n",
        "        return x"
      ],
      "execution_count": 11,
      "outputs": []
    },
    {
      "cell_type": "code",
      "metadata": {
        "id": "NUOpojpBAgrp"
      },
      "source": [
        "def get_model_name(name, batch_size, learning_rate, epoch):\n",
        "    \"\"\" Generate a name for the model consisting of all the hyperparameter values\n",
        "\n",
        "    Args:\n",
        "        config: Configuration object containing the hyperparameters\n",
        "    Returns:\n",
        "        path: A string with the hyperparameter name and value concatenated\n",
        "    \"\"\"\n",
        "    path = \"model_{0}_bs{1}_lr{2}_epoch{3}\".format(name,\n",
        "                                                   batch_size,\n",
        "                                                   learning_rate,\n",
        "                                                   epoch)\n",
        "    return path"
      ],
      "execution_count": 7,
      "outputs": []
    },
    {
      "cell_type": "code",
      "metadata": {
        "id": "ghv1NwUMAeEo"
      },
      "source": [
        "def get_accuracy(model, data_loader):\n",
        "    correct = 0\n",
        "    total = 0\n",
        "    for imgs, labels in data_loader:\n",
        "        \n",
        "        if use_cuda and torch.cuda.is_available():\n",
        "          imgs = imgs.cuda()\n",
        "          labels = labels.cuda()\n",
        "\n",
        "        output = model(imgs)\n",
        "        #select index with maximum prediction score\n",
        "        pred = output.max(1, keepdim=True)[1]\n",
        "        correct += pred.eq(labels.view_as(pred)).sum().item()\n",
        "        total += imgs.shape[0]\n",
        "    return correct / total"
      ],
      "execution_count": 8,
      "outputs": []
    },
    {
      "cell_type": "code",
      "metadata": {
        "id": "xJFaKr-k-ZH3"
      },
      "source": [
        "def train_net(model,target_classes,train_loader,val_loader, batch_size=64, learn_rate=0.001, num_epochs=30):\n",
        "    ########################################################################\n",
        "    ########################################################################\n",
        "    # Fixed PyTorch random seed for reproducible result\n",
        "    torch.manual_seed(1000)\n",
        "    ########################################################################\n",
        "    ########################################################################\n",
        "    # Define the Loss function and optimizer\n",
        "    # The loss function will be Cross Entropy,which will apply softmax to the output layer\n",
        "    criterion = nn.CrossEntropyLoss()\n",
        "    optimizer = optim.Adam(model.parameters(), lr=learn_rate)\n",
        "    \n",
        "\n",
        "    ########################################################################\n",
        "    # Set up some numpy arrays to store the training/test loss/erruracy\n",
        "    train_acc = np.zeros(num_epochs)\n",
        "    train_loss = np.zeros(num_epochs)\n",
        "    val_acc = np.zeros(num_epochs)\n",
        "    val_loss = np.zeros(num_epochs)\n",
        "    ########################################################################\n",
        "    # Train the network\n",
        "    # Loop over the data iterator and sample a new batch of training data\n",
        "    # Get the output from the network, and optimize our loss function.\n",
        "    start_time=time.time()\n",
        "    \n",
        "    for epoch in range(num_epochs):  # loop over the dataset multiple times\n",
        "        total_train_loss = 0.0\n",
        "        total_train_acc = 0.0\n",
        "        total_epoch = 0\n",
        "        for imgs, labels in iter(train_loader):\n",
        "\n",
        "            if use_cuda and torch.cuda.is_available():\n",
        "              imgs = imgs.cuda()\n",
        "              labels = labels.cuda()\n",
        "\n",
        "            # Forward pass, backward pass, and optimize\n",
        "            outputs = model(imgs)\n",
        "            loss = criterion(outputs, labels)\n",
        "            loss.backward()\n",
        "            optimizer.step()\n",
        "            optimizer.zero_grad()         # a clean up step for PyTorch\n",
        "\n",
        "            # Calculate the statistics\n",
        "            total_train_loss += loss.item()\n",
        "            total_epoch += len(labels)\n",
        "        train_loss[epoch] = float(total_train_loss) / (batch_size)\n",
        "        train_acc[epoch]= get_accuracy(model, train_loader)\n",
        "        val_acc[epoch] = get_accuracy(model, val_loader)\n",
        "        print((\"Epoch {}: Train acc: {}, Train loss: {} |\"+\n",
        "               \"Validation acc: {}\").format(\n",
        "                   epoch + 1,\n",
        "                   train_acc[epoch],\n",
        "                   train_loss[epoch],\n",
        "                   val_acc[epoch]\n",
        "                   ))\n",
        "        # Save the current model (checkpoint) to a file\n",
        "        model_path = get_model_name(model.name, batch_size, learn_rate, epoch)\n",
        "        torch.save(model.state_dict(), model_path)\n",
        "    print('Finished Training')\n",
        "\n",
        "    end_time= time.time()\n",
        "\n",
        "    # Write the train/test loss/err into CSV file \n",
        "    epochs = np.arange(1, num_epochs + 1)\n",
        "    np.savetxt(\"{}_train_acc.csv\".format(model_path), train_acc)\n",
        "    np.savetxt(\"{}_train_loss.csv\".format(model_path), train_loss)\n",
        "    np.savetxt(\"{}_val_acc.csv\".format(model_path), val_acc)\n",
        "\n",
        "\n",
        "    print(\"Final Training Accuracy: {}\".format(train_acc[-1]))\n",
        "    print(\"Final Validation Accuracy: {}\".format(val_acc[-1]))\n",
        "    print(\"Total time: \" , (end_time-start_time))\n",
        "\n",
        "\n",
        "    # plotting\n",
        "    plt.title(\"Training Curve\")\n",
        "    plt.plot(epochs, train_loss, label=\"Train\")\n",
        "    plt.xlabel(\"Iterations\")\n",
        "    plt.ylabel(\"Loss\")\n",
        "    plt.show()\n",
        "\n",
        "    plt.title(\"Training Curve\")\n",
        "    plt.plot(epochs, train_acc, label=\"Train\")\n",
        "    plt.plot(epochs, val_acc, label=\"Validation\")\n",
        "    plt.xlabel(\"Iterations\")\n",
        "    plt.ylabel(\"Accuracy\")\n",
        "    plt.legend(loc='best')\n",
        "    plt.show()"
      ],
      "execution_count": 9,
      "outputs": []
    },
    {
      "cell_type": "markdown",
      "metadata": {
        "id": "EB6TWpTpBWVj"
      },
      "source": [
        "TO DO: Hyper parameter tuning"
      ]
    },
    {
      "cell_type": "code",
      "metadata": {
        "colab": {
          "base_uri": "https://localhost:8080/",
          "height": 1000
        },
        "id": "hSEL5Um6Smgp",
        "outputId": "7f8c36fb-15cd-4e92-e8fd-74bd8a93ce6e"
      },
      "source": [
        "use_cuda = True\n",
        "classes = ['Shirt', 'Jeans', 'Lounge Pants', 'Shorts', 'Skirt', 'Sweater', 'Dress', 'Jacket']\n",
        "\n",
        "model=CNN_ALEX()\n",
        "if use_cuda and torch.cuda.is_available():\n",
        "    model.cuda()\n",
        "train_net(model, classes,train_feature_loader, val_feature_loader, batch_size=64, num_epochs=50, learn_rate = 0.001)"
      ],
      "execution_count": 12,
      "outputs": [
        {
          "output_type": "stream",
          "text": [
            "Epoch 1: Train acc: 0.7453365108061467, Train loss: 3.0605472596362233 |Validation acc: 0.6903502974223398\n",
            "Epoch 2: Train acc: 0.7989152765223108, Train loss: 1.9937723269686103 |Validation acc: 0.7276933245208196\n",
            "Epoch 3: Train acc: 0.838113238556989, Train loss: 1.551075759343803 |Validation acc: 0.7452081956378057\n",
            "Epoch 4: Train acc: 0.8827348179801134, Train loss: 1.2421210899483413 |Validation acc: 0.7729676140118968\n",
            "Epoch 5: Train acc: 0.9146191141424932, Train loss: 1.037446912843734 |Validation acc: 0.7878387309980172\n",
            "Epoch 6: Train acc: 0.9050866957021941, Train loss: 0.8097165556391701 |Validation acc: 0.7739590218109715\n",
            "Epoch 7: Train acc: 0.9415728490426494, Train loss: 0.6622457467019558 |Validation acc: 0.8040317250495704\n",
            "Epoch 8: Train acc: 0.9684444079217684, Train loss: 0.5322124965023249 |Validation acc: 0.8218770654329147\n",
            "Epoch 9: Train acc: 0.9599802777549511, Train loss: 0.43878511450020596 |Validation acc: 0.8146067415730337\n",
            "Epoch 10: Train acc: 0.9727997370367327, Train loss: 0.3727170797646977 |Validation acc: 0.8165895571711831\n",
            "Epoch 11: Train acc: 0.9753471936888816, Train loss: 0.2831040488963481 |Validation acc: 0.8165895571711831\n",
            "Epoch 12: Train acc: 0.9542279562823568, Train loss: 0.330496025911998 |Validation acc: 0.8030403172504957\n",
            "Epoch 13: Train acc: 0.9695126961952503, Train loss: 0.42900973733048886 |Validation acc: 0.8040317250495704\n",
            "Epoch 14: Train acc: 0.9794559947407346, Train loss: 0.32643834548071027 |Validation acc: 0.8079973562458691\n",
            "Epoch 15: Train acc: 0.9892349412441449, Train loss: 0.19332273755571805 |Validation acc: 0.8212161269001983\n",
            "Epoch 16: Train acc: 0.993343742295998, Train loss: 0.12500537399319 |Validation acc: 0.8245208195637805\n",
            "Epoch 17: Train acc: 0.99860300764237, Train loss: 0.09198722790461034 |Validation acc: 0.8331130204890945\n",
            "Epoch 18: Train acc: 0.9990960637685923, Train loss: 0.0646784223317809 |Validation acc: 0.8307997356245869\n",
            "Epoch 19: Train acc: 0.99720601528474, Train loss: 0.04831025889143348 |Validation acc: 0.8327825512227363\n",
            "Epoch 20: Train acc: 0.9980277754951106, Train loss: 0.04940817843635159 |Validation acc: 0.8288169200264376\n",
            "Epoch 21: Train acc: 0.9857013723395514, Train loss: 0.042207332071484416 |Validation acc: 0.8225380039656311\n",
            "Epoch 22: Train acc: 0.9983564795792588, Train loss: 0.044308998349606554 |Validation acc: 0.8307997356245869\n",
            "Epoch 23: Train acc: 0.9488865149149478, Train loss: 0.08172631368142902 |Validation acc: 0.783212161269002\n",
            "Epoch 24: Train acc: 0.9529131399457639, Train loss: 0.8206015802788897 |Validation acc: 0.7927957699933906\n",
            "Epoch 25: Train acc: 0.9859479004026626, Train loss: 0.30708238553779665 |Validation acc: 0.8142762723066754\n",
            "Epoch 26: Train acc: 0.9940833264853316, Train loss: 0.13852781054811203 |Validation acc: 0.8251817580964971\n",
            "Epoch 27: Train acc: 0.9971238392637028, Train loss: 0.06589721847558394 |Validation acc: 0.8268341044282882\n",
            "Epoch 28: Train acc: 0.9990138877475553, Train loss: 0.050342658714725985 |Validation acc: 0.8268341044282882\n",
            "Epoch 29: Train acc: 0.9995069438737776, Train loss: 0.030286309684015578 |Validation acc: 0.8268341044282882\n",
            "Epoch 30: Train acc: 0.9998356479579259, Train loss: 0.016097520418725253 |Validation acc: 0.8245208195637805\n",
            "Epoch 31: Train acc: 0.9995891198948147, Train loss: 0.015619814549609146 |Validation acc: 0.8291473892927957\n",
            "Epoch 32: Train acc: 0.9990960637685923, Train loss: 0.010740393748847055 |Validation acc: 0.8248512888301388\n",
            "Epoch 33: Train acc: 0.9990138877475553, Train loss: 0.018006121058988356 |Validation acc: 0.8271645736946464\n",
            "Epoch 34: Train acc: 0.9666365354589531, Train loss: 0.09420678518017667 |Validation acc: 0.797752808988764\n",
            "Epoch 35: Train acc: 0.9724710329525844, Train loss: 0.7700132482859772 |Validation acc: 0.7974223397224058\n",
            "Epoch 36: Train acc: 0.9846330840660695, Train loss: 0.2872074625956884 |Validation acc: 0.8152676801057501\n",
            "Epoch 37: Train acc: 0.9962199030322951, Train loss: 0.08121862003827118 |Validation acc: 0.8261731658955717\n",
            "Epoch 38: Train acc: 0.9990960637685923, Train loss: 0.02998688570141894 |Validation acc: 0.8288169200264376\n",
            "Epoch 39: Train acc: 0.9998356479579259, Train loss: 0.017423939008949674 |Validation acc: 0.8334434897554528\n",
            "Epoch 40: Train acc: 0.9998356479579259, Train loss: 0.010320539910935622 |Validation acc: 0.8331130204890945\n",
            "Epoch 41: Train acc: 0.9998356479579259, Train loss: 0.010834332719696249 |Validation acc: 0.833773959021811\n",
            "Epoch 42: Train acc: 0.9996712959158518, Train loss: 0.010008821749124763 |Validation acc: 0.8331130204890945\n",
            "Epoch 43: Train acc: 0.9997534719368888, Train loss: 0.009421283335200314 |Validation acc: 0.8350958360872439\n",
            "Epoch 44: Train acc: 0.9998356479579259, Train loss: 0.009553032074222756 |Validation acc: 0.833773959021811\n",
            "Epoch 45: Train acc: 0.9931793902539239, Train loss: 0.025892234637808542 |Validation acc: 0.8155981493721084\n",
            "Epoch 46: Train acc: 0.9351631194017586, Train loss: 0.3138116061463734 |Validation acc: 0.7752808988764045\n",
            "Epoch 47: Train acc: 0.967951351795546, Train loss: 0.4856437517446466 |Validation acc: 0.8037012557832122\n",
            "Epoch 48: Train acc: 0.9969594872216287, Train loss: 0.18843215137530933 |Validation acc: 0.8301387970918704\n",
            "Epoch 49: Train acc: 0.9982743035582217, Train loss: 0.03676069850894237 |Validation acc: 0.8324520819563781\n",
            "Epoch 50: Train acc: 0.9996712959158518, Train loss: 0.018363419218303534 |Validation acc: 0.8314606741573034\n",
            "Finished Training\n",
            "Final Training Accuracy: 0.9996712959158518\n",
            "Final Validation Accuracy: 0.8314606741573034\n",
            "Total time:  5231.455044746399\n"
          ],
          "name": "stdout"
        },
        {
          "output_type": "display_data",
          "data": {
            "image/png": "[encoded data removed]",
            "text/plain": [
              "<Figure size 432x288 with 1 Axes>"
            ]
          },
          "metadata": {
            "tags": [],
            "needs_background": "light"
          }
        },
        {
          "output_type": "display_data",
          "data": {
            "image/png": "[encoded data removed]",
            "text/plain": [
              "<Figure size 432x288 with 1 Axes>"
            ]
          },
          "metadata": {
            "tags": [],
            "needs_background": "light"
          }
        }
      ]
    },
    {
      "cell_type": "code",
      "metadata": {
        "id": "Vz7cYlxCivBq"
      },
      "source": [
        "torch.save(model.state_dict(), \"/content/gdrive/My Drive/Colab Notebooks/dec04version\")"
      ],
      "execution_count": 17,
      "outputs": []
    },
    {
      "cell_type": "code",
      "metadata": {
        "id": "WqEX-VySi_Bd",
        "colab": {
          "base_uri": "https://localhost:8080/"
        },
        "outputId": "b38fa6a7-46fa-4899-e34a-660d18f05e19"
      },
      "source": [
        "model.load_state_dict(torch.load(\"/content/gdrive/My Drive/Colab Notebooks/dec04version\"))"
      ],
      "execution_count": 18,
      "outputs": [
        {
          "output_type": "execute_result",
          "data": {
            "text/plain": [
              "<All keys matched successfully>"
            ]
          },
          "metadata": {
            "tags": []
          },
          "execution_count": 18
        }
      ]
    },
    {
      "cell_type": "code",
      "metadata": {
        "id": "-mZxRKLHjBlI",
        "colab": {
          "base_uri": "https://localhost:8080/"
        },
        "outputId": "d32d8c13-4c7d-42e9-b4ad-fc56c3f1377a"
      },
      "source": [
        "get_accuracy(model,train_feature_loader)"
      ],
      "execution_count": 15,
      "outputs": [
        {
          "output_type": "execute_result",
          "data": {
            "text/plain": [
              "0.9996712959158518"
            ]
          },
          "metadata": {
            "tags": []
          },
          "execution_count": 15
        }
      ]
    },
    {
      "cell_type": "code",
      "metadata": {
        "id": "tSeXDfKwFC1u",
        "colab": {
          "base_uri": "https://localhost:8080/"
        },
        "outputId": "3caaf3cd-39da-4f04-b796-3183e8ccfe27"
      },
      "source": [
        "get_accuracy(model,test_feature_loader)"
      ],
      "execution_count": 16,
      "outputs": [
        {
          "output_type": "execute_result",
          "data": {
            "text/plain": [
              "0.8426294820717132"
            ]
          },
          "metadata": {
            "tags": []
          },
          "execution_count": 16
        }
      ]
    },
    {
      "cell_type": "code",
      "metadata": {
        "id": "RtelXbXc41gv"
      },
      "source": [
        "def get_confusion_matrix(model, data_loader):\n",
        "    correct = 0\n",
        "    total = 0\n",
        "    nb_classes = 8\n",
        "\n",
        "    confusion_matrix = torch.zeros(nb_classes, nb_classes)\n",
        "    with torch.no_grad():\n",
        "\n",
        "      for imgs, labels in data_loader:\n",
        "        \n",
        "        if use_cuda and torch.cuda.is_available():\n",
        "          imgs = imgs.cuda()\n",
        "          labels = labels.cuda()\n",
        "\n",
        "        output = model(imgs)\n",
        "        #select index with maximum prediction score\n",
        "        pred = output.max(1, keepdim=True)[1]\n",
        "        \n",
        "        for t, p in zip(labels.view(-1), pred.view(-1)):\n",
        "                confusion_matrix[t.long(), p.long()] += 1\n",
        "\n",
        "    \n",
        "    print(confusion_matrix)\n",
        "    print(confusion_matrix.diag()/confusion_matrix.sum(1))\n",
        "    # Visualize it as a heatmap\n",
        "    import seaborn\n",
        "    seaborn.heatmap(confusion_matrix)\n",
        "    plt.show()"
      ],
      "execution_count": 19,
      "outputs": []
    },
    {
      "cell_type": "code",
      "metadata": {
        "id": "s5nhR6QEml0q",
        "colab": {
          "base_uri": "https://localhost:8080/",
          "height": 418
        },
        "outputId": "3af821e6-7598-472f-d4d0-ebdfd12ce35e"
      },
      "source": [
        "get_confusion_matrix(model,test_feature_loader)"
      ],
      "execution_count": 20,
      "outputs": [
        {
          "output_type": "stream",
          "text": [
            "tensor([[345.,   8.,   3.,   1.,   9.,   1.,   9.,   4.],\n",
            "        [ 13., 316.,   1.,   5.,  18.,   2.,   6.,  13.],\n",
            "        [  2.,   0., 324.,  40.,   0.,   4.,   8.,   1.],\n",
            "        [  4.,   1.,  36., 309.,   1.,  15.,   9.,   0.],\n",
            "        [ 13.,  15.,   2.,   2., 305.,   4.,   3.,  21.],\n",
            "        [  0.,   3.,   7.,  10.,   2., 342.,  37.,   1.],\n",
            "        [  4.,   6.,   7.,   9.,   3.,  28., 300.,   5.],\n",
            "        [  9.,  31.,   1.,   2.,  24.,   4.,   7., 297.]])\n",
            "tensor([0.9079, 0.8449, 0.8549, 0.8240, 0.8356, 0.8507, 0.8287, 0.7920])\n"
          ],
          "name": "stdout"
        },
        {
          "output_type": "display_data",
          "data": {
            "image/png": "[encoded data removed]",
            "text/plain": [
              "<Figure size 432x288 with 2 Axes>"
            ]
          },
          "metadata": {
            "tags": [],
            "needs_background": "light"
          }
        }
      ]
    }
  ]
}