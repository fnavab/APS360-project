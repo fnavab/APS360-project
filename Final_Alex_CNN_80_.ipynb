{
  "nbformat": 4,
  "nbformat_minor": 0,
  "metadata": {
    "colab": {
      "name": "Final-Alex_CNN_80%.ipynb",
      "provenance": [],
      "collapsed_sections": [],
      "machine_shape": "hm",
      "include_colab_link": true
    },
    "kernelspec": {
      "name": "python3",
      "display_name": "Python 3"
    },
    "accelerator": "GPU",
    "widgets": {
      "application/vnd.jupyter.widget-state+json": {
        "346375d41aee455ab71a741810610b7e": {
          "model_module": "@jupyter-widgets/controls",
          "model_name": "HBoxModel",
          "state": {
            "_view_name": "HBoxView",
            "_dom_classes": [],
            "_model_name": "HBoxModel",
            "_view_module": "@jupyter-widgets/controls",
            "_model_module_version": "1.5.0",
            "_view_count": null,
            "_view_module_version": "1.5.0",
            "box_style": "",
            "layout": "IPY_MODEL_812fbe353d894bfbaf1d69c4f636c865",
            "_model_module": "@jupyter-widgets/controls",
            "children": [
              "IPY_MODEL_a55e7b67e14f422788a52019eb4a66be",
              "IPY_MODEL_b1561389437d4c57b35313825cd526d8"
            ]
          }
        },
        "812fbe353d894bfbaf1d69c4f636c865": {
          "model_module": "@jupyter-widgets/base",
          "model_name": "LayoutModel",
          "state": {
            "_view_name": "LayoutView",
            "grid_template_rows": null,
            "right": null,
            "justify_content": null,
            "_view_module": "@jupyter-widgets/base",
            "overflow": null,
            "_model_module_version": "1.2.0",
            "_view_count": null,
            "flex_flow": null,
            "width": null,
            "min_width": null,
            "border": null,
            "align_items": null,
            "bottom": null,
            "_model_module": "@jupyter-widgets/base",
            "top": null,
            "grid_column": null,
            "overflow_y": null,
            "overflow_x": null,
            "grid_auto_flow": null,
            "grid_area": null,
            "grid_template_columns": null,
            "flex": null,
            "_model_name": "LayoutModel",
            "justify_items": null,
            "grid_row": null,
            "max_height": null,
            "align_content": null,
            "visibility": null,
            "align_self": null,
            "height": null,
            "min_height": null,
            "padding": null,
            "grid_auto_rows": null,
            "grid_gap": null,
            "max_width": null,
            "order": null,
            "_view_module_version": "1.2.0",
            "grid_template_areas": null,
            "object_position": null,
            "object_fit": null,
            "grid_auto_columns": null,
            "margin": null,
            "display": null,
            "left": null
          }
        },
        "a55e7b67e14f422788a52019eb4a66be": {
          "model_module": "@jupyter-widgets/controls",
          "model_name": "FloatProgressModel",
          "state": {
            "_view_name": "ProgressView",
            "style": "IPY_MODEL_ff78e64a666f4748be63c11fd722f711",
            "_dom_classes": [],
            "description": "100%",
            "_model_name": "FloatProgressModel",
            "bar_style": "success",
            "max": 244418560,
            "_view_module": "@jupyter-widgets/controls",
            "_model_module_version": "1.5.0",
            "value": 244418560,
            "_view_count": null,
            "_view_module_version": "1.5.0",
            "orientation": "horizontal",
            "min": 0,
            "description_tooltip": null,
            "_model_module": "@jupyter-widgets/controls",
            "layout": "IPY_MODEL_6f4fa058f7c74d42983c054480280671"
          }
        },
        "b1561389437d4c57b35313825cd526d8": {
          "model_module": "@jupyter-widgets/controls",
          "model_name": "HTMLModel",
          "state": {
            "_view_name": "HTMLView",
            "style": "IPY_MODEL_9e1c14fb8304422bb2e2f24545fba3bb",
            "_dom_classes": [],
            "description": "",
            "_model_name": "HTMLModel",
            "placeholder": "​",
            "_view_module": "@jupyter-widgets/controls",
            "_model_module_version": "1.5.0",
            "value": " 233M/233M [00:23&lt;00:00, 10.2MB/s]",
            "_view_count": null,
            "_view_module_version": "1.5.0",
            "description_tooltip": null,
            "_model_module": "@jupyter-widgets/controls",
            "layout": "IPY_MODEL_da4a59ccc41b4b2d9b18ef7b574ac3b0"
          }
        },
        "ff78e64a666f4748be63c11fd722f711": {
          "model_module": "@jupyter-widgets/controls",
          "model_name": "ProgressStyleModel",
          "state": {
            "_view_name": "StyleView",
            "_model_name": "ProgressStyleModel",
            "description_width": "initial",
            "_view_module": "@jupyter-widgets/base",
            "_model_module_version": "1.5.0",
            "_view_count": null,
            "_view_module_version": "1.2.0",
            "bar_color": null,
            "_model_module": "@jupyter-widgets/controls"
          }
        },
        "6f4fa058f7c74d42983c054480280671": {
          "model_module": "@jupyter-widgets/base",
          "model_name": "LayoutModel",
          "state": {
            "_view_name": "LayoutView",
            "grid_template_rows": null,
            "right": null,
            "justify_content": null,
            "_view_module": "@jupyter-widgets/base",
            "overflow": null,
            "_model_module_version": "1.2.0",
            "_view_count": null,
            "flex_flow": null,
            "width": null,
            "min_width": null,
            "border": null,
            "align_items": null,
            "bottom": null,
            "_model_module": "@jupyter-widgets/base",
            "top": null,
            "grid_column": null,
            "overflow_y": null,
            "overflow_x": null,
            "grid_auto_flow": null,
            "grid_area": null,
            "grid_template_columns": null,
            "flex": null,
            "_model_name": "LayoutModel",
            "justify_items": null,
            "grid_row": null,
            "max_height": null,
            "align_content": null,
            "visibility": null,
            "align_self": null,
            "height": null,
            "min_height": null,
            "padding": null,
            "grid_auto_rows": null,
            "grid_gap": null,
            "max_width": null,
            "order": null,
            "_view_module_version": "1.2.0",
            "grid_template_areas": null,
            "object_position": null,
            "object_fit": null,
            "grid_auto_columns": null,
            "margin": null,
            "display": null,
            "left": null
          }
        },
        "9e1c14fb8304422bb2e2f24545fba3bb": {
          "model_module": "@jupyter-widgets/controls",
          "model_name": "DescriptionStyleModel",
          "state": {
            "_view_name": "StyleView",
            "_model_name": "DescriptionStyleModel",
            "description_width": "",
            "_view_module": "@jupyter-widgets/base",
            "_model_module_version": "1.5.0",
            "_view_count": null,
            "_view_module_version": "1.2.0",
            "_model_module": "@jupyter-widgets/controls"
          }
        },
        "da4a59ccc41b4b2d9b18ef7b574ac3b0": {
          "model_module": "@jupyter-widgets/base",
          "model_name": "LayoutModel",
          "state": {
            "_view_name": "LayoutView",
            "grid_template_rows": null,
            "right": null,
            "justify_content": null,
            "_view_module": "@jupyter-widgets/base",
            "overflow": null,
            "_model_module_version": "1.2.0",
            "_view_count": null,
            "flex_flow": null,
            "width": null,
            "min_width": null,
            "border": null,
            "align_items": null,
            "bottom": null,
            "_model_module": "@jupyter-widgets/base",
            "top": null,
            "grid_column": null,
            "overflow_y": null,
            "overflow_x": null,
            "grid_auto_flow": null,
            "grid_area": null,
            "grid_template_columns": null,
            "flex": null,
            "_model_name": "LayoutModel",
            "justify_items": null,
            "grid_row": null,
            "max_height": null,
            "align_content": null,
            "visibility": null,
            "align_self": null,
            "height": null,
            "min_height": null,
            "padding": null,
            "grid_auto_rows": null,
            "grid_gap": null,
            "max_width": null,
            "order": null,
            "_view_module_version": "1.2.0",
            "grid_template_areas": null,
            "object_position": null,
            "object_fit": null,
            "grid_auto_columns": null,
            "margin": null,
            "display": null,
            "left": null
          }
        }
      }
    }
  },
  "cells": [
    {
      "cell_type": "markdown",
      "metadata": {
        "id": "view-in-github",
        "colab_type": "text"
      },
      "source": [
        "<a href=\"https://colab.research.google.com/github/fnavab/APS360-project/blob/main/Final_Alex_CNN_80_.ipynb\" target=\"_parent\"><img src=\"https://colab.research.google.com/assets/colab-badge.svg\" alt=\"Open In Colab\"/></a>"
      ]
    },
    {
      "cell_type": "code",
      "metadata": {
        "id": "SX5wXnCGxvbf",
        "colab": {
          "base_uri": "https://localhost:8080/"
        },
        "outputId": "3e8a7db8-c4aa-4672-91d4-7b3a9cccf1ba"
      },
      "source": [
        "#mount googledrive\n",
        "from google.colab import drive\n",
        "drive.mount('/content/gdrive')"
      ],
      "execution_count": null,
      "outputs": [
        {
          "output_type": "stream",
          "text": [
            "Mounted at /content/gdrive\n"
          ],
          "name": "stdout"
        }
      ]
    },
    {
      "cell_type": "code",
      "metadata": {
        "id": "CgquoQ4wymER"
      },
      "source": [
        "import torch\n",
        "import torch.nn as nn\n",
        "import torch.nn.functional as F\n",
        "import torch.optim as optim\n",
        "import torchvision\n",
        "from torch.utils.data.sampler import SubsetRandomSampler\n",
        "import torchvision.transforms as transforms\n",
        "import numpy as np\n",
        "import time\n",
        "import matplotlib.pyplot as plt\n"
      ],
      "execution_count": null,
      "outputs": []
    },
    {
      "cell_type": "markdown",
      "metadata": {
        "id": "_4idFFGEndq8"
      },
      "source": [
        "**Only Run the following if you don't have the features of AlexNet**"
      ]
    },
    {
      "cell_type": "code",
      "metadata": {
        "id": "3iLgYmpa45AO",
        "colab": {
          "base_uri": "https://localhost:8080/",
          "height": 154,
          "referenced_widgets": [
            "346375d41aee455ab71a741810610b7e",
            "812fbe353d894bfbaf1d69c4f636c865",
            "a55e7b67e14f422788a52019eb4a66be",
            "b1561389437d4c57b35313825cd526d8",
            "ff78e64a666f4748be63c11fd722f711",
            "6f4fa058f7c74d42983c054480280671",
            "9e1c14fb8304422bb2e2f24545fba3bb",
            "da4a59ccc41b4b2d9b18ef7b574ac3b0"
          ]
        },
        "outputId": "084ffc94-ad57-41e9-8e02-fa34d22d4d7a"
      },
      "source": [
        "import torchvision.models\n",
        "import os\n",
        "alexnet = torchvision.models.alexnet(pretrained=True)\n",
        "\n",
        "# initialize path\n",
        "feature_path = '/content/gdrive/My Drive/Colab Notebooks/combined_features'\n",
        "\n",
        "# Prepare Dataloader \n",
        "dataset= get_data()\n",
        "classes = ['Shirt', 'Jeans', 'Lounge Pants', 'Shorts', 'Skirt', 'Sweater', 'Dress', 'Jacket']\n",
        "train_loader, val_loader, test_loader=get_data_loader(classes=classes, batchsize=1, dataset=dataset)\n",
        "\n",
        "\n",
        "save_features(train_loader,\"train\",feature_path, classes=classes)\n",
        "save_features(val_loader,\"val\",feature_path, classes=classes)\n",
        "save_features(test_loader,\"test\",feature_path, classes=classes)"
      ],
      "execution_count": null,
      "outputs": [
        {
          "output_type": "stream",
          "text": [
            "Downloading: \"https://download.pytorch.org/models/alexnet-owt-4df8aa71.pth\" to /root/.cache/torch/hub/checkpoints/alexnet-owt-4df8aa71.pth\n"
          ],
          "name": "stderr"
        },
        {
          "output_type": "display_data",
          "data": {
            "application/vnd.jupyter.widget-view+json": {
              "model_id": "346375d41aee455ab71a741810610b7e",
              "version_minor": 0,
              "version_major": 2
            },
            "text/plain": [
              "HBox(children=(FloatProgress(value=0.0, max=244418560.0), HTML(value='')))"
            ]
          },
          "metadata": {
            "tags": []
          }
        },
        {
          "output_type": "stream",
          "text": [
            "\n",
            "train features saved\n",
            "val features saved\n",
            "test features saved\n"
          ],
          "name": "stdout"
        }
      ]
    },
    {
      "cell_type": "code",
      "metadata": {
        "id": "4VCtQnKP8IxH"
      },
      "source": [
        "def get_alex_data_loader(batch_size):\n",
        "  train_dir = '/content/gdrive/My Drive/Colab Notebooks/combined_features/train'\n",
        "  test_dir = '/content/gdrive/My Drive/Colab Notebooks/combined_features/test'\n",
        "  val_dir = '/content/gdrive/My Drive/Colab Notebooks/combined_features/val'\n",
        "  train_set = torchvision.datasets.DatasetFolder(train_dir, loader=torch.load, extensions=('.tensor'))\n",
        "  val_set= torchvision.datasets.DatasetFolder(val_dir, loader=torch.load, extensions=('.tensor'))\n",
        "  test_set = torchvision.datasets.DatasetFolder(test_dir, loader=torch.load, extensions=('.tensor'))\n",
        "  torch.manual_seed(1) # set the random seed\n",
        "\n",
        "  num_workers = 1\n",
        "  train_feature_loader = torch.utils.data.DataLoader(train_set, batch_size=batch_size, \n",
        "                                            num_workers=num_workers, shuffle=True)\n",
        "  test_feature_loader = torch.utils.data.DataLoader(test_set, batch_size=batch_size, \n",
        "                                            num_workers=num_workers, shuffle=True)\n",
        "  val_feature_loader = torch.utils.data.DataLoader(val_set, batch_size=batch_size, \n",
        "                                            num_workers=num_workers, shuffle=True)\n",
        "\n",
        "\n",
        "  return train_feature_loader, test_feature_loader,val_feature_loader"
      ],
      "execution_count": null,
      "outputs": []
    },
    {
      "cell_type": "code",
      "metadata": {
        "id": "8uFWWY_N71cA"
      },
      "source": [
        "#Prepare feature loader\n",
        "train_feature_loader, test_feature_loader,val_feature_loader=get_alex_data_loader(64)"
      ],
      "execution_count": null,
      "outputs": []
    },
    {
      "cell_type": "code",
      "metadata": {
        "id": "Y4jinHsZ9NhM",
        "colab": {
          "base_uri": "https://localhost:8080/"
        },
        "outputId": "326d823a-02a4-4468-b3e0-98fd692fca77"
      },
      "source": [
        "# Verification Step - obtain one batch of features\n",
        "dataiter = iter(val_feature_loader)\n",
        "features, labels = dataiter.next()\n",
        "print(features.shape)\n",
        "print(labels.shape)"
      ],
      "execution_count": null,
      "outputs": [
        {
          "output_type": "stream",
          "text": [
            "torch.Size([64, 256, 8, 8])\n",
            "torch.Size([64])\n"
          ],
          "name": "stdout"
        }
      ]
    },
    {
      "cell_type": "code",
      "metadata": {
        "id": "JYrbCjmz9T7S"
      },
      "source": [
        "import torch\n",
        "import torch.nn as nn\n",
        "import torch.nn.functional as F\n",
        "\n",
        "class CNN_ALEX(nn.Module):\n",
        "    def __init__(self):\n",
        "        super(CNN_ALEX, self).__init__()\n",
        "        self.name=\"CNN_ALEX\"\n",
        "        self.conv = nn.Conv2d(256, 10, 5)\n",
        "        self.pool = nn.MaxPool2d(2, 2)\n",
        "        \n",
        "        self.fc1 = nn.Linear(10* 2* 2, 128)\n",
        "        self.fc2 = nn.Linear(128, 8)\n",
        "\n",
        "    def forward(self, x):\n",
        "        x = self.pool(F.relu(self.conv(x)))\n",
        "\n",
        "        x = x.view(x.shape[0], 10* 2* 2) #flatten feature data\n",
        "        x = F.relu(self.fc1(x))\n",
        "        x = self.fc2(x)\n",
        "        x = x.squeeze(1)\n",
        "        return x"
      ],
      "execution_count": null,
      "outputs": []
    },
    {
      "cell_type": "code",
      "metadata": {
        "id": "NUOpojpBAgrp"
      },
      "source": [
        "def get_model_name(name, batch_size, learning_rate, epoch):\n",
        "    \"\"\" Generate a name for the model consisting of all the hyperparameter values\n",
        "\n",
        "    Args:\n",
        "        config: Configuration object containing the hyperparameters\n",
        "    Returns:\n",
        "        path: A string with the hyperparameter name and value concatenated\n",
        "    \"\"\"\n",
        "    path = \"model_{0}_bs{1}_lr{2}_epoch{3}\".format(name,\n",
        "                                                   batch_size,\n",
        "                                                   learning_rate,\n",
        "                                                   epoch)\n",
        "    return path"
      ],
      "execution_count": null,
      "outputs": []
    },
    {
      "cell_type": "code",
      "metadata": {
        "id": "ghv1NwUMAeEo"
      },
      "source": [
        "def get_accuracy(model, data_loader):\n",
        "    correct = 0\n",
        "    total = 0\n",
        "    for imgs, labels in data_loader:\n",
        "        \n",
        "        if use_cuda and torch.cuda.is_available():\n",
        "          imgs = imgs.cuda()\n",
        "          labels = labels.cuda()\n",
        "\n",
        "        output = model(imgs)\n",
        "        #select index with maximum prediction score\n",
        "        pred = output.max(1, keepdim=True)[1]\n",
        "        correct += pred.eq(labels.view_as(pred)).sum().item()\n",
        "        total += imgs.shape[0]\n",
        "    return correct / total"
      ],
      "execution_count": null,
      "outputs": []
    },
    {
      "cell_type": "code",
      "metadata": {
        "id": "xJFaKr-k-ZH3"
      },
      "source": [
        "def train_net(model,target_classes,train_loader,val_loader, batch_size=64, learn_rate=0.001, num_epochs=30):\n",
        "    ########################################################################\n",
        "    ########################################################################\n",
        "    # Fixed PyTorch random seed for reproducible result\n",
        "    torch.manual_seed(1000)\n",
        "    ########################################################################\n",
        "    ########################################################################\n",
        "    # Define the Loss function and optimizer\n",
        "    # The loss function will be Cross Entropy,which will apply softmax to the output layer\n",
        "    criterion = nn.CrossEntropyLoss()\n",
        "    optimizer = optim.Adam(model.parameters(), lr=learn_rate)\n",
        "    \n",
        "\n",
        "    ########################################################################\n",
        "    # Set up some numpy arrays to store the training/test loss/erruracy\n",
        "    train_acc = np.zeros(num_epochs)\n",
        "    train_loss = np.zeros(num_epochs)\n",
        "    val_acc = np.zeros(num_epochs)\n",
        "    val_loss = np.zeros(num_epochs)\n",
        "    ########################################################################\n",
        "    # Train the network\n",
        "    # Loop over the data iterator and sample a new batch of training data\n",
        "    # Get the output from the network, and optimize our loss function.\n",
        "    start_time=time.time()\n",
        "    \n",
        "    for epoch in range(num_epochs):  # loop over the dataset multiple times\n",
        "        total_train_loss = 0.0\n",
        "        total_train_acc = 0.0\n",
        "        total_epoch = 0\n",
        "        for imgs, labels in iter(train_loader):\n",
        "\n",
        "            if use_cuda and torch.cuda.is_available():\n",
        "              imgs = imgs.cuda()\n",
        "              labels = labels.cuda()\n",
        "\n",
        "            # Forward pass, backward pass, and optimize\n",
        "            outputs = model(imgs)\n",
        "            loss = criterion(outputs, labels)\n",
        "            loss.backward()\n",
        "            optimizer.step()\n",
        "            optimizer.zero_grad()         # a clean up step for PyTorch\n",
        "\n",
        "            # Calculate the statistics\n",
        "            total_train_loss += loss.item()\n",
        "            total_epoch += len(labels)\n",
        "        train_loss[epoch] = float(total_train_loss) / (batch_size)\n",
        "        train_acc[epoch]= get_accuracy(model, train_loader)\n",
        "        val_acc[epoch] = get_accuracy(model, val_loader)\n",
        "        print((\"Epoch {}: Train acc: {}, Train loss: {} |\"+\n",
        "               \"Validation acc: {}\").format(\n",
        "                   epoch + 1,\n",
        "                   train_acc[epoch],\n",
        "                   train_loss[epoch],\n",
        "                   val_acc[epoch]\n",
        "                   ))\n",
        "        # Save the current model (checkpoint) to a file\n",
        "        model_path = get_model_name(model.name, batch_size, learn_rate, epoch)\n",
        "        torch.save(model.state_dict(), model_path)\n",
        "    print('Finished Training')\n",
        "\n",
        "    end_time= time.time()\n",
        "\n",
        "    # Write the train/test loss/err into CSV file \n",
        "    epochs = np.arange(1, num_epochs + 1)\n",
        "    np.savetxt(\"{}_train_acc.csv\".format(model_path), train_acc)\n",
        "    np.savetxt(\"{}_train_loss.csv\".format(model_path), train_loss)\n",
        "    np.savetxt(\"{}_val_acc.csv\".format(model_path), val_acc)\n",
        "\n",
        "\n",
        "    print(\"Final Training Accuracy: {}\".format(train_acc[-1]))\n",
        "    print(\"Final Validation Accuracy: {}\".format(val_acc[-1]))\n",
        "    print(\"Total time: \" , (end_time-start_time))\n",
        "\n",
        "\n",
        "    # plotting\n",
        "    plt.title(\"Training Curve\")\n",
        "    plt.plot(epochs, train_loss, label=\"Train\")\n",
        "    plt.xlabel(\"Iterations\")\n",
        "    plt.ylabel(\"Loss\")\n",
        "    plt.show()\n",
        "\n",
        "    plt.title(\"Training Curve\")\n",
        "    plt.plot(epochs, train_acc, label=\"Train\")\n",
        "    plt.plot(epochs, val_acc, label=\"Validation\")\n",
        "    plt.xlabel(\"Iterations\")\n",
        "    plt.ylabel(\"Accuracy\")\n",
        "    plt.legend(loc='best')\n",
        "    plt.show()"
      ],
      "execution_count": null,
      "outputs": []
    },
    {
      "cell_type": "markdown",
      "metadata": {
        "id": "EB6TWpTpBWVj"
      },
      "source": [
        "TO DO: Hyper parameter tuning"
      ]
    },
    {
      "cell_type": "code",
      "metadata": {
        "colab": {
          "base_uri": "https://localhost:8080/",
          "height": 1000
        },
        "id": "hSEL5Um6Smgp",
        "outputId": "62569c3c-f5a5-4b20-cc0a-fdd3109b9cde"
      },
      "source": [
        "use_cuda = True\n",
        "classes = ['Shirt', 'Jeans', 'Lounge Pants', 'Shorts', 'Skirt', 'Sweater', 'Dress', 'Jacket']\n",
        "\n",
        "model=CNN_ALEX()\n",
        "if use_cuda and torch.cuda.is_available():\n",
        "    model.cuda()\n",
        "train_net(model, classes,train_feature_loader, val_feature_loader, batch_size=64, num_epochs=70, learn_rate = 0.001)"
      ],
      "execution_count": null,
      "outputs": [
        {
          "output_type": "stream",
          "text": [
            "Epoch 1: Train acc: 0.7036732681403567, Train loss: 3.4998013684526086 |Validation acc: 0.6692002643754131\n",
            "Epoch 2: Train acc: 0.7623469471608185, Train loss: 2.423841554671526 |Validation acc: 0.7118307997356246\n",
            "Epoch 3: Train acc: 0.7861779932615662, Train loss: 2.0379911330528557 |Validation acc: 0.7177792465300727\n",
            "Epoch 4: Train acc: 0.8287451721587641, Train loss: 1.8018381679430604 |Validation acc: 0.7534699272967614\n",
            "Epoch 5: Train acc: 0.8593968280055879, Train loss: 1.5640180234331638 |Validation acc: 0.7709847984137476\n",
            "Epoch 6: Train acc: 0.8682718382775906, Train loss: 1.3844874650239944 |Validation acc: 0.764375413086583\n",
            "Epoch 7: Train acc: 0.8880762593475224, Train loss: 1.2218281426467001 |Validation acc: 0.7746199603436881\n",
            "Epoch 8: Train acc: 0.9066480401018983, Train loss: 1.0642929782625288 |Validation acc: 0.7845340383344349\n",
            "Epoch 9: Train acc: 0.9158517544580491, Train loss: 0.9342072103172541 |Validation acc: 0.7766027759418375\n",
            "Epoch 10: Train acc: 0.922343660119977, Train loss: 0.8372144739842042 |Validation acc: 0.7884996695307337\n",
            "Epoch 11: Train acc: 0.9267811652559783, Train loss: 0.7471508759772405 |Validation acc: 0.783212161269002\n",
            "Epoch 12: Train acc: 0.9364779357383516, Train loss: 0.6742277498706244 |Validation acc: 0.7851949768671513\n",
            "Epoch 13: Train acc: 0.9594050456076917, Train loss: 0.5908529491862282 |Validation acc: 0.8053536021150033\n",
            "Epoch 14: Train acc: 0.9624455583860629, Train loss: 0.48089564143447205 |Validation acc: 0.7980832782551223\n",
            "Epoch 15: Train acc: 0.9631851425753964, Train loss: 0.43741111317649484 |Validation acc: 0.8050231328486451\n",
            "Epoch 16: Train acc: 0.9623633823650258, Train loss: 0.3719553504488431 |Validation acc: 0.7970918704560476\n",
            "Epoch 17: Train acc: 0.9632673185964336, Train loss: 0.3324385033629369 |Validation acc: 0.7937871777924653\n",
            "Epoch 18: Train acc: 0.9681978798586572, Train loss: 0.33521712163928896 |Validation acc: 0.799074686054197\n",
            "Epoch 19: Train acc: 0.9688552880269538, Train loss: 0.37091400602366775 |Validation acc: 0.8007270323859881\n",
            "Epoch 20: Train acc: 0.9666365354589531, Train loss: 0.3627694796596188 |Validation acc: 0.7994051553205552\n",
            "Epoch 21: Train acc: 0.9788807625934752, Train loss: 0.2537830472138012 |Validation acc: 0.8096497025776602\n",
            "Epoch 22: Train acc: 0.9816747473087353, Train loss: 0.3007688226280152 |Validation acc: 0.8050231328486451\n",
            "Epoch 23: Train acc: 0.9862766044868108, Train loss: 0.1980344515759498 |Validation acc: 0.8003965631196299\n",
            "Epoch 24: Train acc: 0.9845509080450324, Train loss: 0.1483654428320733 |Validation acc: 0.806345009914078\n",
            "Epoch 25: Train acc: 0.9829073876242912, Train loss: 0.2131173930101795 |Validation acc: 0.8079973562458691\n",
            "Epoch 26: Train acc: 0.9809351631194018, Train loss: 0.3593620182655286 |Validation acc: 0.8050231328486451\n",
            "Epoch 27: Train acc: 0.9816747473087353, Train loss: 0.36137198849610286 |Validation acc: 0.7997356245869134\n",
            "Epoch 28: Train acc: 0.9902210534965897, Train loss: 0.1811522599455202 |Validation acc: 0.8037012557832122\n",
            "Epoch 29: Train acc: 0.9928506861697757, Train loss: 0.1479093646230467 |Validation acc: 0.8113020489094515\n",
            "Epoch 30: Train acc: 0.9961377270112581, Train loss: 0.11040899753606936 |Validation acc: 0.8182419035029742\n",
            "Epoch 31: Train acc: 0.99860300764237, Train loss: 0.05228284445183817 |Validation acc: 0.8165895571711831\n",
            "Epoch 32: Train acc: 0.9980277754951106, Train loss: 0.03981207203105441 |Validation acc: 0.8162590879048248\n",
            "Epoch 33: Train acc: 0.9874270687813296, Train loss: 0.034908680006992654 |Validation acc: 0.806345009914078\n",
            "Epoch 34: Train acc: 0.9690196400690279, Train loss: 0.21666534764153766 |Validation acc: 0.790482485128883\n",
            "Epoch 35: Train acc: 0.971895800805325, Train loss: 0.40212810396042187 |Validation acc: 0.7898215465961665\n",
            "Epoch 36: Train acc: 0.9873448927602926, Train loss: 0.22957910358309164 |Validation acc: 0.8013879709187045\n",
            "Epoch 37: Train acc: 0.978552058509327, Train loss: 0.10016941367121035 |Validation acc: 0.7957699933906147\n",
            "Epoch 38: Train acc: 0.9949050866957022, Train loss: 0.14058998637847253 |Validation acc: 0.8089887640449438\n",
            "Epoch 39: Train acc: 0.9943298545484428, Train loss: 0.11472721982136136 |Validation acc: 0.8073364177131527\n",
            "Epoch 40: Train acc: 0.9983564795792588, Train loss: 0.05209766523876169 |Validation acc: 0.8116325181758096\n",
            "Epoch 41: Train acc: 0.990631933601775, Train loss: 0.26703966464810946 |Validation acc: 0.8079973562458691\n",
            "Epoch 42: Train acc: 0.9910428137069603, Train loss: 0.11003077100758674 |Validation acc: 0.806345009914078\n",
            "Epoch 43: Train acc: 0.9917002218752567, Train loss: 0.08601688132694107 |Validation acc: 0.8113020489094515\n",
            "Epoch 44: Train acc: 0.9968773112005916, Train loss: 0.09374144608568713 |Validation acc: 0.8152676801057501\n",
            "Epoch 45: Train acc: 0.9978634234530364, Train loss: 0.05991471895549694 |Validation acc: 0.8113020489094515\n",
            "Epoch 46: Train acc: 0.9774837702358452, Train loss: 0.15106288261063128 |Validation acc: 0.8010575016523463\n",
            "Epoch 47: Train acc: 0.9881666529706632, Train loss: 0.17687357300837903 |Validation acc: 0.8023793787177792\n",
            "Epoch 48: Train acc: 0.997452543347851, Train loss: 0.07631914699959452 |Validation acc: 0.806345009914078\n",
            "Epoch 49: Train acc: 0.9991782397896294, Train loss: 0.02561753891632179 |Validation acc: 0.8155981493721084\n",
            "Epoch 50: Train acc: 0.9992604158106665, Train loss: 0.01799452319005468 |Validation acc: 0.8116325181758096\n",
            "Epoch 51: Train acc: 0.99860300764237, Train loss: 0.014045595028846947 |Validation acc: 0.8139458030403173\n",
            "Epoch 52: Train acc: 0.9995069438737776, Train loss: 0.012687603087627508 |Validation acc: 0.8155981493721084\n",
            "Epoch 53: Train acc: 0.9588298134604323, Train loss: 0.08524098418672565 |Validation acc: 0.7858559153998678\n",
            "Epoch 54: Train acc: 0.951762675651245, Train loss: 0.4800339151370281 |Validation acc: 0.7782551222736286\n",
            "Epoch 55: Train acc: 0.9886597090968855, Train loss: 0.23881134139810456 |Validation acc: 0.7994051553205552\n",
            "Epoch 56: Train acc: 0.9969594872216287, Train loss: 0.08631541269369336 |Validation acc: 0.8070059484467944\n",
            "Epoch 57: Train acc: 0.9913715177911085, Train loss: 0.08326964617634758 |Validation acc: 0.8070059484467944\n",
            "Epoch 58: Train acc: 0.9992604158106665, Train loss: 0.03355864878949433 |Validation acc: 0.8046926635822869\n",
            "Epoch 59: Train acc: 0.9944120305694798, Train loss: 0.0873691779361252 |Validation acc: 0.8053536021150033\n",
            "Epoch 60: Train acc: 0.9941655025063686, Train loss: 0.05274111686685501 |Validation acc: 0.8079973562458691\n",
            "Epoch 61: Train acc: 0.9997534719368888, Train loss: 0.016936429482484527 |Validation acc: 0.8172504957038995\n",
            "Epoch 62: Train acc: 0.9998356479579259, Train loss: 0.012267730285496103 |Validation acc: 0.814937210839392\n",
            "Epoch 63: Train acc: 0.9998356479579259, Train loss: 0.011408877956228025 |Validation acc: 0.8109715796430932\n",
            "Epoch 64: Train acc: 0.9997534719368888, Train loss: 0.005152122473930376 |Validation acc: 0.8192333113020489\n",
            "Epoch 65: Train acc: 0.9996712959158518, Train loss: 0.012916147591909066 |Validation acc: 0.8172504957038995\n",
            "Epoch 66: Train acc: 0.9996712959158518, Train loss: 0.00741419334872262 |Validation acc: 0.8185723727693325\n",
            "Epoch 67: Train acc: 0.9955624948639987, Train loss: 0.006814797795072991 |Validation acc: 0.807666886979511\n",
            "Epoch 68: Train acc: 0.9515161475881337, Train loss: 0.6130834515151946 |Validation acc: 0.7683410442828817\n",
            "Epoch 69: Train acc: 0.9863587805078479, Train loss: 0.3198565665006754 |Validation acc: 0.7957699933906147\n",
            "Epoch 70: Train acc: 0.997288191305777, Train loss: 0.07463520502437859 |Validation acc: 0.8053536021150033\n",
            "Finished Training\n",
            "Final Training Accuracy: 0.997288191305777\n",
            "Final Validation Accuracy: 0.8053536021150033\n",
            "Total time:  7663.1582815647125\n"
          ],
          "name": "stdout"
        },
        {
          "output_type": "display_data",
          "data": {
            "image/png": "[encoded data removed]",
            "text/plain": [
              "<Figure size 432x288 with 1 Axes>"
            ]
          },
          "metadata": {
            "tags": [],
            "needs_background": "light"
          }
        },
        {
          "output_type": "display_data",
          "data": {
            "image/png": "[encoded data removed]",
            "text/plain": [
              "<Figure size 432x288 with 1 Axes>"
            ]
          },
          "metadata": {
            "tags": [],
            "needs_background": "light"
          }
        }
      ]
    },
    {
      "cell_type": "code",
      "metadata": {
        "id": "Vz7cYlxCivBq"
      },
      "source": [
        "torch.save(model.state_dict(), \"/content/gdrive/My Drive/Colab Notebooks/CNN_Alex_combined\")"
      ],
      "execution_count": null,
      "outputs": []
    },
    {
      "cell_type": "code",
      "metadata": {
        "id": "WqEX-VySi_Bd",
        "colab": {
          "base_uri": "https://localhost:8080/"
        },
        "outputId": "6af881df-5793-480f-bf4f-020c04a4f7d3"
      },
      "source": [
        "model.load_state_dict(torch.load(\"/content/gdrive/My Drive/Colab Notebooks/CNN_Alex_combined\"))"
      ],
      "execution_count": null,
      "outputs": [
        {
          "output_type": "execute_result",
          "data": {
            "text/plain": [
              "<All keys matched successfully>"
            ]
          },
          "metadata": {
            "tags": []
          },
          "execution_count": 12
        }
      ]
    },
    {
      "cell_type": "code",
      "metadata": {
        "id": "-mZxRKLHjBlI",
        "colab": {
          "base_uri": "https://localhost:8080/"
        },
        "outputId": "80be35ff-c076-48d5-da19-049a8a49a974"
      },
      "source": [
        "get_accuracy(model,train_feature_loader)"
      ],
      "execution_count": null,
      "outputs": [
        {
          "output_type": "execute_result",
          "data": {
            "text/plain": [
              "0.997288191305777"
            ]
          },
          "metadata": {
            "tags": []
          },
          "execution_count": 13
        }
      ]
    },
    {
      "cell_type": "code",
      "metadata": {
        "id": "tSeXDfKwFC1u",
        "colab": {
          "base_uri": "https://localhost:8080/"
        },
        "outputId": "888b2ff8-5d29-4308-ce74-eae8e3efc9b7"
      },
      "source": [
        "get_accuracy(model,test_feature_loader)"
      ],
      "execution_count": null,
      "outputs": [
        {
          "output_type": "execute_result",
          "data": {
            "text/plain": [
              "0.8031208499335989"
            ]
          },
          "metadata": {
            "tags": []
          },
          "execution_count": 14
        }
      ]
    },
    {
      "cell_type": "code",
      "metadata": {
        "id": "RtelXbXc41gv"
      },
      "source": [
        "def get_confusion_matrix(model, data_loader):\n",
        "    correct = 0\n",
        "    total = 0\n",
        "    nb_classes = 8\n",
        "\n",
        "    confusion_matrix = torch.zeros(nb_classes, nb_classes)\n",
        "    with torch.no_grad():\n",
        "\n",
        "      for imgs, labels in data_loader:\n",
        "        \n",
        "        if use_cuda and torch.cuda.is_available():\n",
        "          imgs = imgs.cuda()\n",
        "          labels = labels.cuda()\n",
        "\n",
        "        output = model(imgs)\n",
        "        #select index with maximum prediction score\n",
        "        pred = output.max(1, keepdim=True)[1]\n",
        "        \n",
        "        for t, p in zip(labels.view(-1), pred.view(-1)):\n",
        "                confusion_matrix[t.long(), p.long()] += 1\n",
        "\n",
        "    \n",
        "    print(confusion_matrix)\n",
        "    print(confusion_matrix.diag()/confusion_matrix.sum(1))\n",
        "    # Visualize it as a heatmap\n",
        "    import seaborn\n",
        "    seaborn.heatmap(confusion_matrix)\n",
        "    plt.show()"
      ],
      "execution_count": null,
      "outputs": []
    },
    {
      "cell_type": "code",
      "metadata": {
        "id": "s5nhR6QEml0q",
        "colab": {
          "base_uri": "https://localhost:8080/",
          "height": 418
        },
        "outputId": "18aa6612-1c13-4421-cd8f-68a8bd3abcef"
      },
      "source": [
        "get_confusion_matrix(model,test_feature_loader)"
      ],
      "execution_count": null,
      "outputs": [
        {
          "output_type": "stream",
          "text": [
            "tensor([[154.,   3.,   0.,   1.,  18.,   0.,   8.,  12.],\n",
            "        [ 14., 112.,   9.,   2.,  21.,   2.,  10.,  27.],\n",
            "        [  0.,   1., 146.,  48.,   0.,   5.,  12.,   1.],\n",
            "        [  1.,   0.,  38., 137.,   0.,   4.,  21.,   0.],\n",
            "        [ 11.,   7.,   0.,   0., 156.,   5.,   6.,  17.],\n",
            "        [  2.,   2.,   3.,  13.,   2., 158.,  37.,   3.],\n",
            "        [  7.,   0.,   4.,   7.,   0.,  41., 123.,   2.],\n",
            "        [ 11.,  20.,   1.,   1.,  94.,   0.,   2.,  58.]])\n",
            "tensor([0.7857, 0.5685, 0.6854, 0.6816, 0.7723, 0.7182, 0.6685, 0.3102])\n"
          ],
          "name": "stdout"
        },
        {
          "output_type": "display_data",
          "data": {
            "image/png": "[encoded data removed]",
            "text/plain": [
              "<Figure size 432x288 with 2 Axes>"
            ]
          },
          "metadata": {
            "tags": [],
            "needs_background": "light"
          }
        }
      ]
    }
  ]
}